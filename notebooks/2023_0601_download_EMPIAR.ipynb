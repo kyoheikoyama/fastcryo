{
 "cells": [
  {
   "cell_type": "code",
   "execution_count": 1,
   "id": "77af7d50",
   "metadata": {},
   "outputs": [],
   "source": [
    "import os, subprocess\n",
    "import pandas as pd"
   ]
  },
  {
   "cell_type": "code",
   "execution_count": 2,
   "id": "2fe58f54",
   "metadata": {},
   "outputs": [
    {
     "name": "stdout",
     "output_type": "stream",
     "text": [
      "/bin/bash: /home/kyohei/miniconda3/envs/cryoem/lib/libtinfo.so.6: no version information available (required by /bin/bash)\r\n",
      "10828  10877  10997  11029  11084  11217  11244  11349\t11351  11387  CS-forai\r\n"
     ]
    }
   ],
   "source": [
    "!ls /media/kyohei/forAI/cryoEM-data/"
   ]
  },
  {
   "cell_type": "code",
   "execution_count": 3,
   "id": "baa87b8e",
   "metadata": {},
   "outputs": [
    {
     "name": "stdout",
     "output_type": "stream",
     "text": [
      "/bin/bash: /home/kyohei/miniconda3/envs/cryoem/lib/libtinfo.so.6: no version information available (required by /bin/bash)\r\n",
      "2022-03-08_17.58.07_GP162-2_254_002.tif\r\n",
      "2022-03-08_18.30.55_GP162-2_257_012.tif\r\n",
      "2022-03-08_18.51.16_GP162-2_259_019.tif\r\n",
      "2022-03-08_19.12.25_GP162-2_261_022.tif\r\n",
      "2022-03-08_19.29.13_GP162-2_263_009.tif\r\n",
      "2022-03-08_19.45.34_GP162-2_265_004.tif\r\n",
      "2022-03-08_19.59.08_GP162-2_266_013.tif\r\n",
      "2022-03-08_20.40.00_GP162-2_269_005.tif\r\n",
      "2022-03-08_21.10.27_GP162-2_272_005.tif\r\n",
      "2022-03-08_21.56.18_GP162-2_276_019.tif\r\n",
      "Import\r\n"
     ]
    }
   ],
   "source": [
    "!ls /media/kyohei/forAI/cryoEM-data/11387/"
   ]
  },
  {
   "cell_type": "code",
   "execution_count": 4,
   "id": "286c3b2e",
   "metadata": {},
   "outputs": [
    {
     "data": {
      "text/plain": [
       "['10828',\n",
       " '10877',\n",
       " '10997',\n",
       " '11029',\n",
       " '11084',\n",
       " '11217',\n",
       " '11244',\n",
       " '11349',\n",
       " '11351',\n",
       " '11387']"
      ]
     },
     "execution_count": 4,
     "metadata": {},
     "output_type": "execute_result"
    }
   ],
   "source": [
    "ids = sorted(\"10828 10877 10997 11029 11084 11217 11244 11349 11351 11387\".split(\" \"))\n",
    "\n",
    "ids"
   ]
  },
  {
   "cell_type": "code",
   "execution_count": 5,
   "id": "bb8e0b48",
   "metadata": {},
   "outputs": [],
   "source": [
    "# id2path = {\n",
    "#     10828:\"ftp://ftp.ebi.ac.uk/empiar/world_availability/10828/data/delta-LIT_raw_images/\",\n",
    "#     10877:\"http://ftp.ebi.ac.uk/empiar/world_availability/10877/data/All_movies/\",\n",
    "#     10997:\"http://ftp.ebi.ac.uk/empiar/world_availability/10997/data/\",\n",
    "#     11029:\"http://ftp.ebi.ac.uk/empiar/world_availability/11029/data/\",\n",
    "#     11084:\"http://ftp.ebi.ac.uk/empiar/world_availability/11084/data/190704_kato2/movies/\",\n",
    "# #     11217:\"http://ftp.ebi.ac.uk/empiar/world_availability/11217/data/\",\n",
    "#     11244:\"http://ftp.ebi.ac.uk/empiar/world_availability/11244/data/data/\",\n",
    "#     11349:\"http://ftp.ebi.ac.uk/empiar/world_availability/11349/data/6688/\",\n",
    "#     11351:\"http://ftp.ebi.ac.uk/empiar/world_availability/11351/data/20210409_Nureki_ikko2_CDS_data/\"\n",
    "#     11387:\"http://ftp.ebi.ac.uk/empiar/world_availability/11387/data/Enp1TAP_Movies_1/\",\n",
    "# }\n"
   ]
  },
  {
   "cell_type": "code",
   "execution_count": 6,
   "id": "4d016371",
   "metadata": {},
   "outputs": [],
   "source": [
    "id2path = {\n",
    "    10828:\"ftp://ftp.ebi.ac.uk/empiar/world_availability/10828/data/delta-LIT_raw_images/\",\n",
    "    10877:\"ftp://ftp.ebi.ac.uk/empiar/world_availability/10877/data/All_movies/\",\n",
    "    10997:\"ftp://ftp.ebi.ac.uk/empiar/world_availability/10997/data/\",\n",
    "    11029:\"ftp://ftp.ebi.ac.uk/empiar/world_availability/11029/data/\",\n",
    "    11084:\"ftp://ftp.ebi.ac.uk/empiar/world_availability/11084/data/190704_kato2/movies/\",\n",
    "    11244:\"ftp://ftp.ebi.ac.uk/empiar/world_availability/11244/data/data/\",\n",
    "    11349:\"ftp://ftp.ebi.ac.uk/empiar/world_availability/11349/data/6688/\",\n",
    "    11351:\"ftp://ftp.ebi.ac.uk/empiar/world_availability/11351/data/20210409_Nureki_ikko2_CDS_data/\",\n",
    "    11387:\"ftp://ftp.ebi.ac.uk/empiar/world_availability/11387/data/Enp1TAP_Movies_1/\",\n",
    "}\n",
    "\n",
    "id2ftype = {\n",
    "    10828:\".tiff\",\n",
    "    10877:\".tiff\",\n",
    "    10997:\".tif\",\n",
    "    11029:\".tif\",\n",
    "    11084:\".tif\",\n",
    "    11244:\".tiff\",\n",
    "    11349:\".tiff\",\n",
    "    11351:\".tif\",\n",
    "    11387:\".tif\"\n",
    "}"
   ]
  },
  {
   "cell_type": "code",
   "execution_count": 7,
   "id": "9a13eae0",
   "metadata": {},
   "outputs": [],
   "source": [
    "have_gain = [\"FoilHole_11540412_Data_11537499_11537501_20210112_125726_gain.tiff\"]"
   ]
  },
  {
   "cell_type": "markdown",
   "id": "4eafb67f",
   "metadata": {},
   "source": [
    "# RUN"
   ]
  },
  {
   "cell_type": "code",
   "execution_count": 8,
   "id": "9958842e",
   "metadata": {
    "scrolled": true
   },
   "outputs": [],
   "source": [
    "# for iii, ppp in id2path.items():\n",
    "#     command = command.replace(\"ftp://ftp.ebi.ac.uk/empiar/world_availability/10828/data/delta-LIT_raw_images/\",\n",
    "#                               ppp)\n",
    "#     command = command.replace(\"/10828/\", f\"/{iii}/\")\n",
    "    \n",
    "#     os.system(command + \" >> ftp_output.out\")"
   ]
  },
  {
   "cell_type": "code",
   "execution_count": 9,
   "id": "adf04ea0",
   "metadata": {},
   "outputs": [],
   "source": [
    "com1 = '''lftp -c \"open ftp://ftp.ebi.ac.uk/empiar/world_availability/10828/data/delta-LIT_raw_images/; cls -1 --sort name *.tiff\" | head -150 > filelist.txt '''"
   ]
  },
  {
   "cell_type": "code",
   "execution_count": 10,
   "id": "c774cd48",
   "metadata": {},
   "outputs": [],
   "source": [
    "# import subprocess\n",
    "# subprocess.run(\"your-command\", shell=True, stdout=subprocess.DEVNULL, stderr=subprocess.STDOUT)"
   ]
  },
  {
   "cell_type": "code",
   "execution_count": 11,
   "id": "092a7833",
   "metadata": {},
   "outputs": [],
   "source": [
    "EBI_p = \"ftp://ftp.ebi.ac.uk/empiar/world_availability/\"\n",
    "PDBJ_p = \"ftp://empiar.pdbj.org/archive/\""
   ]
  },
  {
   "cell_type": "code",
   "execution_count": null,
   "id": "a516a8c4",
   "metadata": {
    "scrolled": true
   },
   "outputs": [
    {
     "name": "stdout",
     "output_type": "stream",
     "text": [
      "lftp -c \"open ftp://ftp.ebi.ac.uk/empiar/world_availability/10828/data/delta-LIT_raw_images/; cls -1 --sort name *.tiff\" | head -150 > filelist_10828.txt \n"
     ]
    },
    {
     "name": "stderr",
     "output_type": "stream",
     "text": [
      "lftp: /home/kyohei/miniconda3/envs/cryoem/lib/libtinfo.so.6: no version information available (required by lftp)\n",
      "  0%|                                                                          | 0/150 [00:00<?, ?it/s]"
     ]
    },
    {
     "name": "stdout",
     "output_type": "stream",
     "text": [
      "wget -P /media/kyohei/forAI/EMPIAR/10828/ ftp://empiar.pdbj.org/archive/10828/data/delta-LIT_raw_images/200721_dLIT_QF_krios_00086.tiff >> ftp_output.out\n"
     ]
    },
    {
     "name": "stderr",
     "output_type": "stream",
     "text": [
      "\r",
      " 58%|█████████████████████████████████████▋                           | 87/150 [02:19<01:41,  1.61s/it]"
     ]
    },
    {
     "name": "stdout",
     "output_type": "stream",
     "text": [
      "wget -P /media/kyohei/forAI/EMPIAR/10828/ ftp://empiar.pdbj.org/archive/10828/data/delta-LIT_raw_images/200721_dLIT_QF_krios_00087.tiff >> ftp_output.out\n"
     ]
    },
    {
     "name": "stderr",
     "output_type": "stream",
     "text": [
      "\r",
      " 59%|██████████████████████████████████████▏                          | 88/150 [04:34<03:52,  3.75s/it]"
     ]
    },
    {
     "name": "stdout",
     "output_type": "stream",
     "text": [
      "wget -P /media/kyohei/forAI/EMPIAR/10828/ ftp://empiar.pdbj.org/archive/10828/data/delta-LIT_raw_images/200721_dLIT_QF_krios_00088.tiff >> ftp_output.out\n"
     ]
    },
    {
     "name": "stderr",
     "output_type": "stream",
     "text": [
      "\r",
      " 59%|██████████████████████████████████████▌                          | 89/150 [06:17<06:05,  5.99s/it]"
     ]
    },
    {
     "name": "stdout",
     "output_type": "stream",
     "text": [
      "wget -P /media/kyohei/forAI/EMPIAR/10828/ ftp://empiar.pdbj.org/archive/10828/data/delta-LIT_raw_images/200721_dLIT_QF_krios_00089.tiff >> ftp_output.out\n"
     ]
    },
    {
     "name": "stderr",
     "output_type": "stream",
     "text": [
      "\r",
      " 60%|███████████████████████████████████████                          | 90/150 [07:47<08:37,  8.62s/it]"
     ]
    },
    {
     "name": "stdout",
     "output_type": "stream",
     "text": [
      "wget -P /media/kyohei/forAI/EMPIAR/10828/ ftp://empiar.pdbj.org/archive/10828/data/delta-LIT_raw_images/200721_dLIT_QF_krios_00090.tiff >> ftp_output.out\n"
     ]
    },
    {
     "name": "stderr",
     "output_type": "stream",
     "text": [
      "\r",
      " 61%|███████████████████████████████████████▍                         | 91/150 [09:25<12:12, 12.42s/it]"
     ]
    },
    {
     "name": "stdout",
     "output_type": "stream",
     "text": [
      "wget -P /media/kyohei/forAI/EMPIAR/10828/ ftp://empiar.pdbj.org/archive/10828/data/delta-LIT_raw_images/200721_dLIT_QF_krios_00091.tiff >> ftp_output.out\n"
     ]
    },
    {
     "name": "stderr",
     "output_type": "stream",
     "text": [
      "\r",
      " 61%|███████████████████████████████████████▊                         | 92/150 [11:09<17:07, 17.71s/it]"
     ]
    },
    {
     "name": "stdout",
     "output_type": "stream",
     "text": [
      "wget -P /media/kyohei/forAI/EMPIAR/10828/ ftp://empiar.pdbj.org/archive/10828/data/delta-LIT_raw_images/200721_dLIT_QF_krios_00092.tiff >> ftp_output.out\n"
     ]
    },
    {
     "name": "stderr",
     "output_type": "stream",
     "text": [
      "\r",
      " 62%|████████████████████████████████████████▎                        | 93/150 [12:59<23:27, 24.69s/it]"
     ]
    },
    {
     "name": "stdout",
     "output_type": "stream",
     "text": [
      "wget -P /media/kyohei/forAI/EMPIAR/10828/ ftp://empiar.pdbj.org/archive/10828/data/delta-LIT_raw_images/200721_dLIT_QF_krios_00093.tiff >> ftp_output.out\n"
     ]
    },
    {
     "name": "stderr",
     "output_type": "stream",
     "text": [
      "\r",
      " 63%|████████████████████████████████████████▋                        | 94/150 [14:28<28:55, 31.00s/it]"
     ]
    },
    {
     "name": "stdout",
     "output_type": "stream",
     "text": [
      "wget -P /media/kyohei/forAI/EMPIAR/10828/ ftp://empiar.pdbj.org/archive/10828/data/delta-LIT_raw_images/200721_dLIT_QF_krios_00094.tiff >> ftp_output.out\n"
     ]
    },
    {
     "name": "stderr",
     "output_type": "stream",
     "text": [
      "\r",
      " 63%|█████████████████████████████████████████▏                       | 95/150 [16:54<41:18, 45.07s/it]"
     ]
    },
    {
     "name": "stdout",
     "output_type": "stream",
     "text": [
      "wget -P /media/kyohei/forAI/EMPIAR/10828/ ftp://empiar.pdbj.org/archive/10828/data/delta-LIT_raw_images/200721_dLIT_QF_krios_00095.tiff >> ftp_output.out\n"
     ]
    },
    {
     "name": "stderr",
     "output_type": "stream",
     "text": [
      "\r",
      " 64%|█████████████████████████████████████████▌                       | 96/150 [19:06<52:14, 58.04s/it]"
     ]
    },
    {
     "name": "stdout",
     "output_type": "stream",
     "text": [
      "wget -P /media/kyohei/forAI/EMPIAR/10828/ ftp://empiar.pdbj.org/archive/10828/data/delta-LIT_raw_images/200721_dLIT_QF_krios_00097.tiff >> ftp_output.out\n"
     ]
    },
    {
     "name": "stderr",
     "output_type": "stream",
     "text": [
      "\r",
      " 65%|██████████████████████████████████████████▍                      | 98/150 [20:55<49:26, 57.04s/it]"
     ]
    },
    {
     "name": "stdout",
     "output_type": "stream",
     "text": [
      "wget -P /media/kyohei/forAI/EMPIAR/10828/ ftp://empiar.pdbj.org/archive/10828/data/delta-LIT_raw_images/200721_dLIT_QF_krios_00098.tiff >> ftp_output.out\n"
     ]
    },
    {
     "name": "stderr",
     "output_type": "stream",
     "text": [
      "\r",
      " 66%|██████████████████████████████████████████▉                      | 99/150 [22:39<55:27, 65.25s/it]"
     ]
    },
    {
     "name": "stdout",
     "output_type": "stream",
     "text": [
      "wget -P /media/kyohei/forAI/EMPIAR/10828/ ftp://empiar.pdbj.org/archive/10828/data/delta-LIT_raw_images/200721_dLIT_QF_krios_00099.tiff >> ftp_output.out\n"
     ]
    },
    {
     "name": "stderr",
     "output_type": "stream",
     "text": [
      "\r",
      " 67%|██████████████████████████████████████████▋                     | 100/150 [24:15<59:35, 71.50s/it]"
     ]
    },
    {
     "name": "stdout",
     "output_type": "stream",
     "text": [
      "wget -P /media/kyohei/forAI/EMPIAR/10828/ ftp://empiar.pdbj.org/archive/10828/data/delta-LIT_raw_images/200721_dLIT_QF_krios_00100.tiff >> ftp_output.out\n"
     ]
    },
    {
     "name": "stderr",
     "output_type": "stream",
     "text": [
      "\r",
      " 67%|███████████████████████████████████████████                     | 101/150 [25:30<58:58, 72.22s/it]"
     ]
    },
    {
     "name": "stdout",
     "output_type": "stream",
     "text": [
      "wget -P /media/kyohei/forAI/EMPIAR/10828/ ftp://empiar.pdbj.org/archive/10828/data/delta-LIT_raw_images/200721_dLIT_QF_krios_00101.tiff >> ftp_output.out\n"
     ]
    },
    {
     "name": "stderr",
     "output_type": "stream",
     "text": [
      "\r",
      " 68%|███████████████████████████████████████████▌                    | 102/150 [26:45<58:23, 72.98s/it]"
     ]
    },
    {
     "name": "stdout",
     "output_type": "stream",
     "text": [
      "wget -P /media/kyohei/forAI/EMPIAR/10828/ ftp://empiar.pdbj.org/archive/10828/data/delta-LIT_raw_images/200721_dLIT_QF_krios_00102.tiff >> ftp_output.out\n"
     ]
    },
    {
     "name": "stderr",
     "output_type": "stream",
     "text": [
      "\r",
      " 69%|██████████████████████████████████████████▌                   | 103/150 [28:15<1:00:36, 77.38s/it]"
     ]
    },
    {
     "name": "stdout",
     "output_type": "stream",
     "text": [
      "wget -P /media/kyohei/forAI/EMPIAR/10828/ ftp://empiar.pdbj.org/archive/10828/data/delta-LIT_raw_images/200721_dLIT_QF_krios_00103.tiff >> ftp_output.out\n"
     ]
    },
    {
     "name": "stderr",
     "output_type": "stream",
     "text": [
      "\r",
      " 69%|████████████████████████████████████████████▎                   | 104/150 [29:21<56:52, 74.19s/it]"
     ]
    },
    {
     "name": "stdout",
     "output_type": "stream",
     "text": [
      "wget -P /media/kyohei/forAI/EMPIAR/10828/ ftp://empiar.pdbj.org/archive/10828/data/delta-LIT_raw_images/200721_dLIT_QF_krios_00104.tiff >> ftp_output.out\n"
     ]
    },
    {
     "name": "stderr",
     "output_type": "stream",
     "text": [
      "\r",
      " 70%|████████████████████████████████████████████▊                   | 105/150 [30:50<58:44, 78.32s/it]"
     ]
    },
    {
     "name": "stdout",
     "output_type": "stream",
     "text": [
      "wget -P /media/kyohei/forAI/EMPIAR/10828/ ftp://empiar.pdbj.org/archive/10828/data/delta-LIT_raw_images/200721_dLIT_QF_krios_00105.tiff >> ftp_output.out\n"
     ]
    },
    {
     "name": "stderr",
     "output_type": "stream",
     "text": [
      "\r",
      " 71%|█████████████████████████████████████████████▏                  | 106/150 [32:20<59:56, 81.73s/it]"
     ]
    },
    {
     "name": "stdout",
     "output_type": "stream",
     "text": [
      "wget -P /media/kyohei/forAI/EMPIAR/10828/ ftp://empiar.pdbj.org/archive/10828/data/delta-LIT_raw_images/200721_dLIT_QF_krios_00106.tiff >> ftp_output.out\n"
     ]
    },
    {
     "name": "stderr",
     "output_type": "stream",
     "text": [
      "\r",
      " 71%|████████████████████████████████████████████▏                 | 107/150 [34:13<1:04:54, 90.57s/it]"
     ]
    },
    {
     "name": "stdout",
     "output_type": "stream",
     "text": [
      "wget -P /media/kyohei/forAI/EMPIAR/10828/ ftp://empiar.pdbj.org/archive/10828/data/delta-LIT_raw_images/200721_dLIT_QF_krios_00107.tiff >> ftp_output.out\n"
     ]
    },
    {
     "name": "stderr",
     "output_type": "stream",
     "text": [
      "\r",
      " 72%|████████████████████████████████████████████▋                 | 108/150 [35:52<1:05:10, 93.10s/it]"
     ]
    },
    {
     "name": "stdout",
     "output_type": "stream",
     "text": [
      "wget -P /media/kyohei/forAI/EMPIAR/10828/ ftp://empiar.pdbj.org/archive/10828/data/delta-LIT_raw_images/200721_dLIT_QF_krios_00108.tiff >> ftp_output.out\n"
     ]
    },
    {
     "name": "stderr",
     "output_type": "stream",
     "text": [
      "\r",
      " 73%|█████████████████████████████████████████████                 | 109/150 [37:18<1:02:08, 90.95s/it]"
     ]
    },
    {
     "name": "stdout",
     "output_type": "stream",
     "text": [
      "wget -P /media/kyohei/forAI/EMPIAR/10828/ ftp://empiar.pdbj.org/archive/10828/data/delta-LIT_raw_images/200721_dLIT_QF_krios_00109.tiff >> ftp_output.out\n"
     ]
    },
    {
     "name": "stderr",
     "output_type": "stream",
     "text": [
      "\r",
      " 73%|█████████████████████████████████████████████▍                | 110/150 [39:19<1:06:31, 99.79s/it]"
     ]
    },
    {
     "name": "stdout",
     "output_type": "stream",
     "text": [
      "wget -P /media/kyohei/forAI/EMPIAR/10828/ ftp://empiar.pdbj.org/archive/10828/data/delta-LIT_raw_images/200721_dLIT_QF_krios_00110.tiff >> ftp_output.out\n"
     ]
    },
    {
     "name": "stderr",
     "output_type": "stream",
     "text": [
      "\r",
      " 74%|█████████████████████████████████████████████▉                | 111/150 [40:39<1:01:12, 94.16s/it]"
     ]
    },
    {
     "name": "stdout",
     "output_type": "stream",
     "text": [
      "wget -P /media/kyohei/forAI/EMPIAR/10828/ ftp://empiar.pdbj.org/archive/10828/data/delta-LIT_raw_images/200721_dLIT_QF_krios_00111.tiff >> ftp_output.out\n"
     ]
    },
    {
     "name": "stderr",
     "output_type": "stream",
     "text": [
      "\r",
      " 75%|███████████████████████████████████████████████▊                | 112/150 [42:06<58:16, 92.00s/it]"
     ]
    },
    {
     "name": "stdout",
     "output_type": "stream",
     "text": [
      "wget -P /media/kyohei/forAI/EMPIAR/10828/ ftp://empiar.pdbj.org/archive/10828/data/delta-LIT_raw_images/200721_dLIT_QF_krios_00112.tiff >> ftp_output.out\n"
     ]
    },
    {
     "name": "stderr",
     "output_type": "stream",
     "text": [
      "\r",
      " 75%|████████████████████████████████████████████████▏               | 113/150 [43:50<58:49, 95.38s/it]"
     ]
    },
    {
     "name": "stdout",
     "output_type": "stream",
     "text": [
      "wget -P /media/kyohei/forAI/EMPIAR/10828/ ftp://empiar.pdbj.org/archive/10828/data/delta-LIT_raw_images/200721_dLIT_QF_krios_00113.tiff >> ftp_output.out\n"
     ]
    },
    {
     "name": "stderr",
     "output_type": "stream",
     "text": [
      "\r",
      " 76%|████████████████████████████████████████████████▋               | 114/150 [45:14<55:15, 92.10s/it]"
     ]
    },
    {
     "name": "stdout",
     "output_type": "stream",
     "text": [
      "wget -P /media/kyohei/forAI/EMPIAR/10828/ ftp://empiar.pdbj.org/archive/10828/data/delta-LIT_raw_images/200721_dLIT_QF_krios_00114.tiff >> ftp_output.out\n"
     ]
    },
    {
     "name": "stderr",
     "output_type": "stream",
     "text": [
      "\r",
      " 77%|█████████████████████████████████████████████████               | 115/150 [46:56<55:26, 95.04s/it]"
     ]
    },
    {
     "name": "stdout",
     "output_type": "stream",
     "text": [
      "wget -P /media/kyohei/forAI/EMPIAR/10828/ ftp://empiar.pdbj.org/archive/10828/data/delta-LIT_raw_images/200721_dLIT_QF_krios_00115.tiff >> ftp_output.out\n"
     ]
    },
    {
     "name": "stderr",
     "output_type": "stream",
     "text": [
      "\r",
      " 77%|█████████████████████████████████████████████████▍              | 116/150 [48:39<55:12, 97.44s/it]"
     ]
    },
    {
     "name": "stdout",
     "output_type": "stream",
     "text": [
      "wget -P /media/kyohei/forAI/EMPIAR/10828/ ftp://empiar.pdbj.org/archive/10828/data/delta-LIT_raw_images/200721_dLIT_QF_krios_00116.tiff >> ftp_output.out\n"
     ]
    },
    {
     "name": "stderr",
     "output_type": "stream",
     "text": [
      "\r",
      " 78%|█████████████████████████████████████████████████▉              | 117/150 [50:02<51:08, 92.98s/it]"
     ]
    },
    {
     "name": "stdout",
     "output_type": "stream",
     "text": [
      "wget -P /media/kyohei/forAI/EMPIAR/10828/ ftp://empiar.pdbj.org/archive/10828/data/delta-LIT_raw_images/200721_dLIT_QF_krios_00117.tiff >> ftp_output.out\n"
     ]
    },
    {
     "name": "stderr",
     "output_type": "stream",
     "text": [
      "\r",
      " 79%|██████████████████████████████████████████████████▎             | 118/150 [51:12<46:00, 86.27s/it]"
     ]
    },
    {
     "name": "stdout",
     "output_type": "stream",
     "text": [
      "wget -P /media/kyohei/forAI/EMPIAR/10828/ ftp://empiar.pdbj.org/archive/10828/data/delta-LIT_raw_images/200721_dLIT_QF_krios_00118.tiff >> ftp_output.out\n"
     ]
    },
    {
     "name": "stderr",
     "output_type": "stream",
     "text": [
      "\r",
      " 79%|██████████████████████████████████████████████████▊             | 119/150 [52:45<45:39, 88.36s/it]"
     ]
    },
    {
     "name": "stdout",
     "output_type": "stream",
     "text": [
      "wget -P /media/kyohei/forAI/EMPIAR/10828/ ftp://empiar.pdbj.org/archive/10828/data/delta-LIT_raw_images/200721_dLIT_QF_krios_00119.tiff >> ftp_output.out\n"
     ]
    },
    {
     "name": "stderr",
     "output_type": "stream",
     "text": [
      "\r",
      " 80%|██████████████████████████████████████████████████▍            | 120/150 [55:14<53:09, 106.31s/it]"
     ]
    },
    {
     "name": "stdout",
     "output_type": "stream",
     "text": [
      "wget -P /media/kyohei/forAI/EMPIAR/10828/ ftp://empiar.pdbj.org/archive/10828/data/delta-LIT_raw_images/200721_dLIT_QF_krios_00120.tiff >> ftp_output.out\n"
     ]
    }
   ],
   "source": [
    "from tqdm import tqdm\n",
    "\n",
    "for iii, ppp in id2path.items():\n",
    "    \n",
    "    filetype = id2ftype[iii]\n",
    "    com1 = com1.replace(\n",
    "        \"ftp://ftp.ebi.ac.uk/empiar/world_availability/10877/data/All_movies/\", ppp)\\\n",
    "        .replace(\".tiff\", filetype)\n",
    "    com1 = com1.replace(\"filelist.txt\", f\"filelist_{iii}.txt\")\n",
    "    \n",
    "    print(com1)\n",
    "    os.system(com1)\n",
    "    \n",
    "    df = pd.read_csv(f\"filelist_{iii}.txt\", header=None)\n",
    "    filelist = df[0].values\n",
    "    \n",
    "    for fff in tqdm(filelist):\n",
    "        \n",
    "        if os.path.exists(f\"/media/kyohei/forAI/EMPIAR/{iii}/{fff}\"):\n",
    "            continue\n",
    "        \n",
    "        download_command = f\"wget -P /media/kyohei/forAI/EMPIAR/{iii}/ {ppp}{fff} >> ftp_output.out\"\n",
    "        download_command = download_command.replace(EBI_p, PDBJ_p)\n",
    "        print(download_command)\n",
    "        \n",
    "        os.system(f'echo \">>>\" >> ftp_output.out')\n",
    "        os.system(f'echo {ppp}{fff} >> ftp_output.out')\n",
    "        #os.system(download_command)\n",
    "        \n",
    "        subprocess.run(download_command, shell=True, stdout=subprocess.DEVNULL, stderr=subprocess.STDOUT)\n",
    "        "
   ]
  },
  {
   "cell_type": "code",
   "execution_count": null,
   "id": "68bb05a6",
   "metadata": {},
   "outputs": [],
   "source": [
    "wget -P /media/kyohei/forAI/EMPIAR/10828/ ftp://ftp.ebi.ac.uk/empiar/world_availability/10828/data/delta-LIT_raw_images/200721_dLIT_QF_krios_00009.tiff >> ftp_output.out\n",
    "    "
   ]
  },
  {
   "cell_type": "code",
   "execution_count": null,
   "id": "ba82c1fb",
   "metadata": {},
   "outputs": [],
   "source": [
    "!wget -P /media/kyohei/forAI/EMPIAR/10828/ ftp://empiar.pdbj.org/archive/10828/data/delta-LIT_raw_images/200721_dLIT_QF_krios_00009.tiff\n"
   ]
  },
  {
   "cell_type": "code",
   "execution_count": null,
   "id": "0d3d679d",
   "metadata": {},
   "outputs": [],
   "source": [
    "ftp://empiar.pdbj.org/archive/10828"
   ]
  }
 ],
 "metadata": {
  "kernelspec": {
   "display_name": "cryoem2",
   "language": "python",
   "name": "cryoem2"
  },
  "language_info": {
   "codemirror_mode": {
    "name": "ipython",
    "version": 3
   },
   "file_extension": ".py",
   "mimetype": "text/x-python",
   "name": "python",
   "nbconvert_exporter": "python",
   "pygments_lexer": "ipython3",
   "version": "3.10.11"
  }
 },
 "nbformat": 4,
 "nbformat_minor": 5
}
