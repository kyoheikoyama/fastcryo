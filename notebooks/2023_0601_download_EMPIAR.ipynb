{
 "cells": [
  {
   "cell_type": "code",
   "execution_count": 1,
   "id": "77af7d50",
   "metadata": {},
   "outputs": [],
   "source": [
    "import os, subprocess\n",
    "import pandas as pd"
   ]
  },
  {
   "cell_type": "code",
   "execution_count": 2,
   "id": "2fe58f54",
   "metadata": {},
   "outputs": [
    {
     "name": "stdout",
     "output_type": "stream",
     "text": [
      "/bin/bash: /home/kyohei/miniconda3/envs/cryoem/lib/libtinfo.so.6: no version information available (required by /bin/bash)\r\n",
      "10828  10877  10997  11029  11084  11217  11244  11349\t11351  11387  CS-forai\r\n"
     ]
    }
   ],
   "source": [
    "!ls /media/kyohei/forAI/cryoEM-data/"
   ]
  },
  {
   "cell_type": "code",
   "execution_count": 3,
   "id": "baa87b8e",
   "metadata": {},
   "outputs": [
    {
     "name": "stdout",
     "output_type": "stream",
     "text": [
      "/bin/bash: /home/kyohei/miniconda3/envs/cryoem/lib/libtinfo.so.6: no version information available (required by /bin/bash)\r\n",
      "2022-03-08_17.58.07_GP162-2_254_002.tif\r\n",
      "2022-03-08_18.30.55_GP162-2_257_012.tif\r\n",
      "2022-03-08_18.51.16_GP162-2_259_019.tif\r\n",
      "2022-03-08_19.12.25_GP162-2_261_022.tif\r\n",
      "2022-03-08_19.29.13_GP162-2_263_009.tif\r\n",
      "2022-03-08_19.45.34_GP162-2_265_004.tif\r\n",
      "2022-03-08_19.59.08_GP162-2_266_013.tif\r\n",
      "2022-03-08_20.40.00_GP162-2_269_005.tif\r\n",
      "2022-03-08_21.10.27_GP162-2_272_005.tif\r\n",
      "2022-03-08_21.56.18_GP162-2_276_019.tif\r\n",
      "Import\r\n"
     ]
    }
   ],
   "source": [
    "!ls /media/kyohei/forAI/cryoEM-data/11387/"
   ]
  },
  {
   "cell_type": "code",
   "execution_count": 4,
   "id": "286c3b2e",
   "metadata": {},
   "outputs": [
    {
     "data": {
      "text/plain": [
       "['10828',\n",
       " '10877',\n",
       " '10997',\n",
       " '11029',\n",
       " '11084',\n",
       " '11217',\n",
       " '11244',\n",
       " '11349',\n",
       " '11351',\n",
       " '11387']"
      ]
     },
     "execution_count": 4,
     "metadata": {},
     "output_type": "execute_result"
    }
   ],
   "source": [
    "ids = sorted(\"10828 10877 10997 11029 11084 11217 11244 11349 11351 11387\".split(\" \"))\n",
    "\n",
    "ids"
   ]
  },
  {
   "cell_type": "code",
   "execution_count": 5,
   "id": "bb8e0b48",
   "metadata": {},
   "outputs": [],
   "source": [
    "# id2path = {\n",
    "#     10828:\"ftp://empiar.pdbj.org/archive/data/delta-LIT_raw_images/\",\n",
    "#     10877:\"http://ftp.ebi.ac.uk/empiar/world_availability/10877/data/All_movies/\",\n",
    "#     10997:\"http://ftp.ebi.ac.uk/empiar/world_availability/10997/data/\",\n",
    "#     11029:\"http://ftp.ebi.ac.uk/empiar/world_availability/11029/data/\",\n",
    "#     11084:\"http://ftp.ebi.ac.uk/empiar/world_availability/11084/data/190704_kato2/movies/\",\n",
    "# #     11217:\"http://ftp.ebi.ac.uk/empiar/world_availability/11217/data/\",\n",
    "#     11244:\"http://ftp.ebi.ac.uk/empiar/world_availability/11244/data/data/\",\n",
    "#     11349:\"http://ftp.ebi.ac.uk/empiar/world_availability/11349/data/6688/\",\n",
    "#     11351:\"http://ftp.ebi.ac.uk/empiar/world_availability/11351/data/20210409_Nureki_ikko2_CDS_data/\"\n",
    "#     11387:\"http://ftp.ebi.ac.uk/empiar/world_availability/11387/data/Enp1TAP_Movies_1/\",\n",
    "# }\n"
   ]
  },
  {
   "cell_type": "code",
   "execution_count": 6,
   "id": "4d016371",
   "metadata": {},
   "outputs": [],
   "source": [
    "id2path = {\n",
    "    10828:\"ftp://ftp.ebi.ac.uk/empiar/world_availability/10828/data/delta-LIT_raw_images/\",\n",
    "    10877:\"ftp://ftp.ebi.ac.uk/empiar/world_availability/10877/data/All_movies/\",\n",
    "    10997:\"ftp://ftp.ebi.ac.uk/empiar/world_availability/10997/data/\",\n",
    "    11029:\"ftp://ftp.ebi.ac.uk/empiar/world_availability/11029/data/\",\n",
    "    11084:\"ftp://ftp.ebi.ac.uk/empiar/world_availability/11084/data/190704_kato2/movies/\",\n",
    "    11244:\"ftp://ftp.ebi.ac.uk/empiar/world_availability/11244/data/data/\",\n",
    "    11349:\"ftp://ftp.ebi.ac.uk/empiar/world_availability/11349/data/6688/\",\n",
    "    11351:\"ftp://ftp.ebi.ac.uk/empiar/world_availability/11351/data/20210409_Nureki_ikko2_CDS_data/\",\n",
    "    11387:\"ftp://ftp.ebi.ac.uk/empiar/world_availability/11387/data/Enp1TAP_Movies_1/\",\n",
    "}\n",
    "\n",
    "id2ftype = {\n",
    "    10828:\".tiff\",\n",
    "    10877:\".tiff\",\n",
    "    10997:\".tif\",\n",
    "    11029:\".tif\",\n",
    "    11084:\".tif\",\n",
    "    11244:\".tiff\",\n",
    "    11349:\".tiff\",\n",
    "    11351:\".tif\",\n",
    "    11387:\".tif\"\n",
    "}"
   ]
  },
  {
   "cell_type": "code",
   "execution_count": 7,
   "id": "9a13eae0",
   "metadata": {},
   "outputs": [],
   "source": [
    "have_gain = [\"FoilHole_11540412_Data_11537499_11537501_20210112_125726_gain.tiff\"]"
   ]
  },
  {
   "cell_type": "markdown",
   "id": "4eafb67f",
   "metadata": {},
   "source": [
    "# RUN"
   ]
  },
  {
   "cell_type": "code",
   "execution_count": 8,
   "id": "9958842e",
   "metadata": {
    "scrolled": true
   },
   "outputs": [],
   "source": [
    "# for iii, ppp in id2path.items():\n",
    "#     command = command.replace(\"ftp://empiar.pdbj.org/archive/data/delta-LIT_raw_images/\",\n",
    "#                               ppp)\n",
    "#     command = command.replace(\"/10828/\", f\"/{iii}/\")\n",
    "    \n",
    "#     os.system(command + \" >> ftp_output.out\")"
   ]
  },
  {
   "cell_type": "code",
   "execution_count": 15,
   "id": "adf04ea0",
   "metadata": {},
   "outputs": [],
   "source": [
    "downloadcommand = '''lftp -c \"open ftp://ftp.ebi.ac.uk/empiar/world_availability/10828/data/delta-LIT_raw_images/; cls -1 --sort name *.tiff\" | head -150 > filelist.txt '''"
   ]
  },
  {
   "cell_type": "code",
   "execution_count": 16,
   "id": "c774cd48",
   "metadata": {},
   "outputs": [],
   "source": [
    "# import subprocess\n",
    "# subprocess.run(\"your-command\", shell=True, stdout=subprocess.DEVNULL, stderr=subprocess.STDOUT)"
   ]
  },
  {
   "cell_type": "code",
   "execution_count": 17,
   "id": "621b3695",
   "metadata": {},
   "outputs": [],
   "source": [
    "EBI_p = \"ftp://ftp.ebi.ac.uk/empiar/world_availability/\"\n",
    "PDBJ_p = \"ftp://empiar.pdbj.org/archive/\""
   ]
  },
  {
   "cell_type": "code",
   "execution_count": 21,
   "id": "a516a8c4",
   "metadata": {
    "scrolled": true
   },
   "outputs": [
    {
     "name": "stdout",
     "output_type": "stream",
     "text": [
      "lftp -c \"open ftp://ftp.ebi.ac.uk/empiar/world_availability/10828/data/delta-LIT_raw_images/; cls -1 --sort name *.tiff\" | head -150 > filelist_10828.txt \n"
     ]
    },
    {
     "name": "stderr",
     "output_type": "stream",
     "text": [
      "lftp: /home/kyohei/miniconda3/envs/cryoem/lib/libtinfo.so.6: no version information available (required by lftp)\n",
      "cls: cls (filter): Broken pipe\n",
      "100%|█████████████████████████████████████████████████████████| 150/150 [00:00<00:00, 319687.80it/s]\n",
      "lftp: /home/kyohei/miniconda3/envs/cryoem/lib/libtinfo.so.6: no version information available (required by lftp)\n"
     ]
    },
    {
     "name": "stdout",
     "output_type": "stream",
     "text": [
      "lftp -c \"open ftp://ftp.ebi.ac.uk/empiar/world_availability/10877/data/All_movies/; cls -1 --sort name *.tiff\" | head -150 > filelist_10877.txt \n"
     ]
    },
    {
     "name": "stderr",
     "output_type": "stream",
     "text": [
      "cls: cls (filter): Broken pipe\n",
      "100%|█████████████████████████████████████████████████████████| 150/150 [00:00<00:00, 245089.83it/s]\n",
      "lftp: /home/kyohei/miniconda3/envs/cryoem/lib/libtinfo.so.6: no version information available (required by lftp)\n"
     ]
    },
    {
     "name": "stdout",
     "output_type": "stream",
     "text": [
      "lftp -c \"open ftp://ftp.ebi.ac.uk/empiar/world_availability/10997/data/; cls -1 --sort name *.tif\" | head -150 > filelist_10997.txt \n"
     ]
    },
    {
     "name": "stderr",
     "output_type": "stream",
     "text": [
      "cls: cls (filter): Broken pipe\n",
      "100%|█████████████████████████████████████████████████████████| 150/150 [00:00<00:00, 309923.94it/s]\n",
      "lftp: /home/kyohei/miniconda3/envs/cryoem/lib/libtinfo.so.6: no version information available (required by lftp)\n"
     ]
    },
    {
     "name": "stdout",
     "output_type": "stream",
     "text": [
      "lftp -c \"open ftp://ftp.ebi.ac.uk/empiar/world_availability/11029/data/; cls -1 --sort name *.tif\" | head -150 > filelist_11029.txt \n"
     ]
    },
    {
     "name": "stderr",
     "output_type": "stream",
     "text": [
      "cls: cls (filter): Broken pipe\n",
      "100%|█████████████████████████████████████████████████████████| 150/150 [00:00<00:00, 317429.67it/s]\n",
      "lftp: /home/kyohei/miniconda3/envs/cryoem/lib/libtinfo.so.6: no version information available (required by lftp)\n"
     ]
    },
    {
     "name": "stdout",
     "output_type": "stream",
     "text": [
      "lftp -c \"open ftp://ftp.ebi.ac.uk/empiar/world_availability/11084/data/190704_kato2/movies/; cls -1 --sort name *.tif\" | head -150 > filelist_11084.txt \n"
     ]
    },
    {
     "name": "stderr",
     "output_type": "stream",
     "text": [
      "cls: cls (filter): Broken pipe\n",
      "100%|█████████████████████████████████████████████████████████| 150/150 [00:00<00:00, 251055.71it/s]\n",
      "lftp: /home/kyohei/miniconda3/envs/cryoem/lib/libtinfo.so.6: no version information available (required by lftp)\n"
     ]
    },
    {
     "name": "stdout",
     "output_type": "stream",
     "text": [
      "lftp -c \"open ftp://ftp.ebi.ac.uk/empiar/world_availability/11244/data/data/; cls -1 --sort name *.tiff\" | head -150 > filelist_11244.txt \n"
     ]
    },
    {
     "name": "stderr",
     "output_type": "stream",
     "text": [
      "cls: cls (filter): Broken pipe\n",
      "  0%|                                                                       | 0/150 [00:00<?, ?it/s]"
     ]
    },
    {
     "name": "stdout",
     "output_type": "stream",
     "text": [
      "wget -P /media/kyohei/forAI/EMPIAR/11244/ ftp://empiar.pdbj.org/archive/11244/data/data/FoilHole_14948485_Data_14947757_14947759_20210515_194358_fractions.tiff >> ftp_output.out\n"
     ]
    },
    {
     "name": "stderr",
     "output_type": "stream",
     "text": [
      "  1%|▊                                                              | 2/150 [00:00<00:27,  5.40it/s]"
     ]
    },
    {
     "name": "stdout",
     "output_type": "stream",
     "text": [
      "wget -P /media/kyohei/forAI/EMPIAR/11244/ ftp://empiar.pdbj.org/archive/11244/data/data/FoilHole_14948485_Data_14947760_14947762_20210515_194402_fractions.tiff >> ftp_output.out\n",
      "wget -P /media/kyohei/forAI/EMPIAR/11244/ ftp://empiar.pdbj.org/archive/11244/data/data/FoilHole_14948485_Data_14947763_14947765_20210515_194406_fractions.tiff >> ftp_output.out\n"
     ]
    },
    {
     "name": "stderr",
     "output_type": "stream",
     "text": [
      "  3%|█▋                                                             | 4/150 [00:00<00:22,  6.47it/s]"
     ]
    },
    {
     "name": "stdout",
     "output_type": "stream",
     "text": [
      "wget -P /media/kyohei/forAI/EMPIAR/11244/ ftp://empiar.pdbj.org/archive/11244/data/data/FoilHole_14948485_Data_14947766_14947768_20210515_194344_fractions.tiff >> ftp_output.out\n",
      "wget -P /media/kyohei/forAI/EMPIAR/11244/ ftp://empiar.pdbj.org/archive/11244/data/data/FoilHole_14948485_Data_14947769_14947771_20210515_194347_fractions.tiff >> ftp_output.out\n"
     ]
    },
    {
     "name": "stderr",
     "output_type": "stream",
     "text": [
      "  4%|██▌                                                            | 6/150 [00:00<00:20,  6.93it/s]"
     ]
    },
    {
     "name": "stdout",
     "output_type": "stream",
     "text": [
      "wget -P /media/kyohei/forAI/EMPIAR/11244/ ftp://empiar.pdbj.org/archive/11244/data/data/FoilHole_14948485_Data_14947775_14947777_20210515_194351_fractions.tiff >> ftp_output.out\n",
      "wget -P /media/kyohei/forAI/EMPIAR/11244/ ftp://empiar.pdbj.org/archive/11244/data/data/FoilHole_14948485_Data_14947778_14947780_20210515_194355_fractions.tiff >> ftp_output.out\n"
     ]
    },
    {
     "name": "stderr",
     "output_type": "stream",
     "text": [
      "  5%|███▎                                                           | 8/150 [00:01<00:20,  6.98it/s]"
     ]
    },
    {
     "name": "stdout",
     "output_type": "stream",
     "text": [
      "wget -P /media/kyohei/forAI/EMPIAR/11244/ ftp://empiar.pdbj.org/archive/11244/data/data/FoilHole_14948486_Data_14947757_14947759_20210515_194602_fractions.tiff >> ftp_output.out\n",
      "wget -P /media/kyohei/forAI/EMPIAR/11244/ ftp://empiar.pdbj.org/archive/11244/data/data/FoilHole_14948486_Data_14947760_14947762_20210515_194606_fractions.tiff >> ftp_output.out\n"
     ]
    },
    {
     "name": "stderr",
     "output_type": "stream",
     "text": [
      "  7%|████▏                                                         | 10/150 [00:01<00:19,  7.12it/s]"
     ]
    },
    {
     "name": "stdout",
     "output_type": "stream",
     "text": [
      "wget -P /media/kyohei/forAI/EMPIAR/11244/ ftp://empiar.pdbj.org/archive/11244/data/data/FoilHole_14948486_Data_14947763_14947765_20210515_194609_fractions.tiff >> ftp_output.out\n",
      "wget -P /media/kyohei/forAI/EMPIAR/11244/ ftp://empiar.pdbj.org/archive/11244/data/data/FoilHole_14948486_Data_14947766_14947768_20210515_194548_fractions.tiff >> ftp_output.out\n"
     ]
    },
    {
     "name": "stderr",
     "output_type": "stream",
     "text": [
      "  8%|████▉                                                         | 12/150 [00:01<00:19,  7.05it/s]"
     ]
    },
    {
     "name": "stdout",
     "output_type": "stream",
     "text": [
      "wget -P /media/kyohei/forAI/EMPIAR/11244/ ftp://empiar.pdbj.org/archive/11244/data/data/FoilHole_14948486_Data_14947769_14947771_20210515_194551_fractions.tiff >> ftp_output.out\n",
      "wget -P /media/kyohei/forAI/EMPIAR/11244/ ftp://empiar.pdbj.org/archive/11244/data/data/FoilHole_14948486_Data_14947775_14947777_20210515_194555_fractions.tiff >> ftp_output.out\n"
     ]
    },
    {
     "name": "stderr",
     "output_type": "stream",
     "text": [
      "  9%|█████▊                                                        | 14/150 [00:02<00:19,  6.98it/s]"
     ]
    },
    {
     "name": "stdout",
     "output_type": "stream",
     "text": [
      "wget -P /media/kyohei/forAI/EMPIAR/11244/ ftp://empiar.pdbj.org/archive/11244/data/data/FoilHole_14948486_Data_14947778_14947780_20210515_194558_fractions.tiff >> ftp_output.out\n",
      "wget -P /media/kyohei/forAI/EMPIAR/11244/ ftp://empiar.pdbj.org/archive/11244/data/data/FoilHole_14948487_Data_14947757_14947759_20210515_194627_fractions.tiff >> ftp_output.out\n"
     ]
    },
    {
     "name": "stderr",
     "output_type": "stream",
     "text": [
      " 11%|██████▌                                                       | 16/150 [00:02<00:18,  7.12it/s]"
     ]
    },
    {
     "name": "stdout",
     "output_type": "stream",
     "text": [
      "wget -P /media/kyohei/forAI/EMPIAR/11244/ ftp://empiar.pdbj.org/archive/11244/data/data/FoilHole_14948487_Data_14947760_14947762_20210515_194630_fractions.tiff >> ftp_output.out\n",
      "wget -P /media/kyohei/forAI/EMPIAR/11244/ ftp://empiar.pdbj.org/archive/11244/data/data/FoilHole_14948487_Data_14947763_14947765_20210515_194634_fractions.tiff >> ftp_output.out\n"
     ]
    },
    {
     "name": "stderr",
     "output_type": "stream",
     "text": [
      " 12%|███████▍                                                      | 18/150 [00:02<00:18,  7.09it/s]"
     ]
    },
    {
     "name": "stdout",
     "output_type": "stream",
     "text": [
      "wget -P /media/kyohei/forAI/EMPIAR/11244/ ftp://empiar.pdbj.org/archive/11244/data/data/FoilHole_14948487_Data_14947766_14947768_20210515_194613_fractions.tiff >> ftp_output.out\n",
      "wget -P /media/kyohei/forAI/EMPIAR/11244/ ftp://empiar.pdbj.org/archive/11244/data/data/FoilHole_14948487_Data_14947769_14947771_20210515_194616_fractions.tiff >> ftp_output.out\n"
     ]
    },
    {
     "name": "stderr",
     "output_type": "stream",
     "text": [
      " 13%|████████▎                                                     | 20/150 [00:02<00:18,  7.11it/s]"
     ]
    },
    {
     "name": "stdout",
     "output_type": "stream",
     "text": [
      "wget -P /media/kyohei/forAI/EMPIAR/11244/ ftp://empiar.pdbj.org/archive/11244/data/data/FoilHole_14948487_Data_14947775_14947777_20210515_194620_fractions.tiff >> ftp_output.out\n",
      "wget -P /media/kyohei/forAI/EMPIAR/11244/ ftp://empiar.pdbj.org/archive/11244/data/data/FoilHole_14948487_Data_14947778_14947780_20210515_194623_fractions.tiff >> ftp_output.out\n"
     ]
    },
    {
     "name": "stderr",
     "output_type": "stream",
     "text": [
      " 15%|█████████                                                     | 22/150 [00:03<00:17,  7.18it/s]"
     ]
    },
    {
     "name": "stdout",
     "output_type": "stream",
     "text": [
      "wget -P /media/kyohei/forAI/EMPIAR/11244/ ftp://empiar.pdbj.org/archive/11244/data/data/FoilHole_14948488_Data_14947757_14947759_20210515_194652_fractions.tiff >> ftp_output.out\n",
      "wget -P /media/kyohei/forAI/EMPIAR/11244/ ftp://empiar.pdbj.org/archive/11244/data/data/FoilHole_14948488_Data_14947760_14947762_20210515_194655_fractions.tiff >> ftp_output.out\n"
     ]
    },
    {
     "name": "stderr",
     "output_type": "stream",
     "text": [
      " 16%|█████████▉                                                    | 24/150 [00:03<00:17,  7.19it/s]"
     ]
    },
    {
     "name": "stdout",
     "output_type": "stream",
     "text": [
      "wget -P /media/kyohei/forAI/EMPIAR/11244/ ftp://empiar.pdbj.org/archive/11244/data/data/FoilHole_14948488_Data_14947763_14947765_20210515_194658_fractions.tiff >> ftp_output.out\n",
      "wget -P /media/kyohei/forAI/EMPIAR/11244/ ftp://empiar.pdbj.org/archive/11244/data/data/FoilHole_14948488_Data_14947766_14947768_20210515_194637_fractions.tiff >> ftp_output.out\n"
     ]
    },
    {
     "name": "stderr",
     "output_type": "stream",
     "text": [
      " 17%|██████████▋                                                   | 26/150 [00:03<00:17,  7.20it/s]"
     ]
    },
    {
     "name": "stdout",
     "output_type": "stream",
     "text": [
      "wget -P /media/kyohei/forAI/EMPIAR/11244/ ftp://empiar.pdbj.org/archive/11244/data/data/FoilHole_14948488_Data_14947769_14947771_20210515_194641_fractions.tiff >> ftp_output.out\n",
      "wget -P /media/kyohei/forAI/EMPIAR/11244/ ftp://empiar.pdbj.org/archive/11244/data/data/FoilHole_14948488_Data_14947775_14947777_20210515_194644_fractions.tiff >> ftp_output.out\n"
     ]
    },
    {
     "name": "stderr",
     "output_type": "stream",
     "text": [
      " 19%|███████████▌                                                  | 28/150 [00:04<00:16,  7.20it/s]"
     ]
    },
    {
     "name": "stdout",
     "output_type": "stream",
     "text": [
      "wget -P /media/kyohei/forAI/EMPIAR/11244/ ftp://empiar.pdbj.org/archive/11244/data/data/FoilHole_14948488_Data_14947778_14947780_20210515_194648_fractions.tiff >> ftp_output.out\n",
      "wget -P /media/kyohei/forAI/EMPIAR/11244/ ftp://empiar.pdbj.org/archive/11244/data/data/FoilHole_14948489_Data_14947757_14947759_20210515_194537_fractions.tiff >> ftp_output.out\n"
     ]
    },
    {
     "name": "stderr",
     "output_type": "stream",
     "text": [
      " 20%|████████████▍                                                 | 30/150 [00:04<00:16,  7.18it/s]"
     ]
    },
    {
     "name": "stdout",
     "output_type": "stream",
     "text": [
      "wget -P /media/kyohei/forAI/EMPIAR/11244/ ftp://empiar.pdbj.org/archive/11244/data/data/FoilHole_14948489_Data_14947760_14947762_20210515_194540_fractions.tiff >> ftp_output.out\n",
      "wget -P /media/kyohei/forAI/EMPIAR/11244/ ftp://empiar.pdbj.org/archive/11244/data/data/FoilHole_14948489_Data_14947763_14947765_20210515_194544_fractions.tiff >> ftp_output.out\n"
     ]
    },
    {
     "name": "stderr",
     "output_type": "stream",
     "text": [
      " 21%|█████████████▏                                                | 32/150 [00:04<00:16,  7.21it/s]"
     ]
    },
    {
     "name": "stdout",
     "output_type": "stream",
     "text": [
      "wget -P /media/kyohei/forAI/EMPIAR/11244/ ftp://empiar.pdbj.org/archive/11244/data/data/FoilHole_14948489_Data_14947766_14947768_20210515_194523_fractions.tiff >> ftp_output.out\n",
      "wget -P /media/kyohei/forAI/EMPIAR/11244/ ftp://empiar.pdbj.org/archive/11244/data/data/FoilHole_14948489_Data_14947769_14947771_20210515_194527_fractions.tiff >> ftp_output.out\n"
     ]
    },
    {
     "name": "stderr",
     "output_type": "stream",
     "text": [
      " 23%|██████████████                                                | 34/150 [00:04<00:16,  7.17it/s]"
     ]
    },
    {
     "name": "stdout",
     "output_type": "stream",
     "text": [
      "wget -P /media/kyohei/forAI/EMPIAR/11244/ ftp://empiar.pdbj.org/archive/11244/data/data/FoilHole_14948489_Data_14947775_14947777_20210515_194530_fractions.tiff >> ftp_output.out\n",
      "wget -P /media/kyohei/forAI/EMPIAR/11244/ ftp://empiar.pdbj.org/archive/11244/data/data/FoilHole_14948489_Data_14947778_14947780_20210515_194534_fractions.tiff >> ftp_output.out\n"
     ]
    },
    {
     "name": "stderr",
     "output_type": "stream",
     "text": [
      " 24%|██████████████▉                                               | 36/150 [00:05<00:15,  7.17it/s]"
     ]
    },
    {
     "name": "stdout",
     "output_type": "stream",
     "text": [
      "wget -P /media/kyohei/forAI/EMPIAR/11244/ ftp://empiar.pdbj.org/archive/11244/data/data/FoilHole_14948490_Data_14947757_14947759_20210515_194513_fractions.tiff >> ftp_output.out\n",
      "wget -P /media/kyohei/forAI/EMPIAR/11244/ ftp://empiar.pdbj.org/archive/11244/data/data/FoilHole_14948490_Data_14947760_14947762_20210515_194516_fractions.tiff >> ftp_output.out\n"
     ]
    },
    {
     "name": "stderr",
     "output_type": "stream",
     "text": [
      " 25%|███████████████▋                                              | 38/150 [00:05<00:15,  7.14it/s]"
     ]
    },
    {
     "name": "stdout",
     "output_type": "stream",
     "text": [
      "wget -P /media/kyohei/forAI/EMPIAR/11244/ ftp://empiar.pdbj.org/archive/11244/data/data/FoilHole_14948490_Data_14947763_14947765_20210515_194520_fractions.tiff >> ftp_output.out\n",
      "wget -P /media/kyohei/forAI/EMPIAR/11244/ ftp://empiar.pdbj.org/archive/11244/data/data/FoilHole_14948490_Data_14947766_14947768_20210515_194459_fractions.tiff >> ftp_output.out\n"
     ]
    },
    {
     "name": "stderr",
     "output_type": "stream",
     "text": [
      " 27%|████████████████▌                                             | 40/150 [00:05<00:15,  7.13it/s]"
     ]
    },
    {
     "name": "stdout",
     "output_type": "stream",
     "text": [
      "wget -P /media/kyohei/forAI/EMPIAR/11244/ ftp://empiar.pdbj.org/archive/11244/data/data/FoilHole_14948490_Data_14947769_14947771_20210515_194502_fractions.tiff >> ftp_output.out\n",
      "wget -P /media/kyohei/forAI/EMPIAR/11244/ ftp://empiar.pdbj.org/archive/11244/data/data/FoilHole_14948490_Data_14947775_14947777_20210515_194506_fractions.tiff >> ftp_output.out\n"
     ]
    },
    {
     "name": "stderr",
     "output_type": "stream",
     "text": [
      " 28%|█████████████████▎                                            | 42/150 [00:05<00:15,  7.18it/s]"
     ]
    },
    {
     "name": "stdout",
     "output_type": "stream",
     "text": [
      "wget -P /media/kyohei/forAI/EMPIAR/11244/ ftp://empiar.pdbj.org/archive/11244/data/data/FoilHole_14948490_Data_14947778_14947780_20210515_194509_fractions.tiff >> ftp_output.out\n",
      "wget -P /media/kyohei/forAI/EMPIAR/11244/ ftp://empiar.pdbj.org/archive/11244/data/data/FoilHole_14948491_Data_14947757_14947759_20210515_194940_fractions.tiff >> ftp_output.out\n"
     ]
    },
    {
     "name": "stderr",
     "output_type": "stream",
     "text": [
      " 29%|██████████████████▏                                           | 44/150 [00:06<00:14,  7.12it/s]"
     ]
    },
    {
     "name": "stdout",
     "output_type": "stream",
     "text": [
      "wget -P /media/kyohei/forAI/EMPIAR/11244/ ftp://empiar.pdbj.org/archive/11244/data/data/FoilHole_14948491_Data_14947760_14947762_20210515_194944_fractions.tiff >> ftp_output.out\n",
      "wget -P /media/kyohei/forAI/EMPIAR/11244/ ftp://empiar.pdbj.org/archive/11244/data/data/FoilHole_14948491_Data_14947763_14947765_20210515_194947_fractions.tiff >> ftp_output.out\n"
     ]
    },
    {
     "name": "stderr",
     "output_type": "stream",
     "text": [
      " 31%|███████████████████                                           | 46/150 [00:06<00:14,  7.13it/s]"
     ]
    },
    {
     "name": "stdout",
     "output_type": "stream",
     "text": [
      "wget -P /media/kyohei/forAI/EMPIAR/11244/ ftp://empiar.pdbj.org/archive/11244/data/data/FoilHole_14948491_Data_14947766_14947768_20210515_194926_fractions.tiff >> ftp_output.out\n",
      "wget -P /media/kyohei/forAI/EMPIAR/11244/ ftp://empiar.pdbj.org/archive/11244/data/data/FoilHole_14948491_Data_14947769_14947771_20210515_194929_fractions.tiff >> ftp_output.out\n"
     ]
    },
    {
     "name": "stderr",
     "output_type": "stream",
     "text": [
      " 32%|███████████████████▊                                          | 48/150 [00:06<00:14,  7.09it/s]"
     ]
    },
    {
     "name": "stdout",
     "output_type": "stream",
     "text": [
      "wget -P /media/kyohei/forAI/EMPIAR/11244/ ftp://empiar.pdbj.org/archive/11244/data/data/FoilHole_14948491_Data_14947775_14947777_20210515_194933_fractions.tiff >> ftp_output.out\n",
      "wget -P /media/kyohei/forAI/EMPIAR/11244/ ftp://empiar.pdbj.org/archive/11244/data/data/FoilHole_14948491_Data_14947778_14947780_20210515_194936_fractions.tiff >> ftp_output.out\n"
     ]
    },
    {
     "name": "stderr",
     "output_type": "stream",
     "text": [
      " 33%|████████████████████▋                                         | 50/150 [00:07<00:14,  7.11it/s]"
     ]
    },
    {
     "name": "stdout",
     "output_type": "stream",
     "text": [
      "wget -P /media/kyohei/forAI/EMPIAR/11244/ ftp://empiar.pdbj.org/archive/11244/data/data/FoilHole_14948492_Data_14947757_14947759_20210515_194448_fractions.tiff >> ftp_output.out\n",
      "wget -P /media/kyohei/forAI/EMPIAR/11244/ ftp://empiar.pdbj.org/archive/11244/data/data/FoilHole_14948492_Data_14947760_14947762_20210515_194452_fractions.tiff >> ftp_output.out\n"
     ]
    },
    {
     "name": "stderr",
     "output_type": "stream",
     "text": [
      " 35%|█████████████████████▍                                        | 52/150 [00:07<00:13,  7.13it/s]"
     ]
    },
    {
     "name": "stdout",
     "output_type": "stream",
     "text": [
      "wget -P /media/kyohei/forAI/EMPIAR/11244/ ftp://empiar.pdbj.org/archive/11244/data/data/FoilHole_14948492_Data_14947763_14947765_20210515_194455_fractions.tiff >> ftp_output.out\n",
      "wget -P /media/kyohei/forAI/EMPIAR/11244/ ftp://empiar.pdbj.org/archive/11244/data/data/FoilHole_14948492_Data_14947766_14947768_20210515_194435_fractions.tiff >> ftp_output.out\n"
     ]
    },
    {
     "name": "stderr",
     "output_type": "stream",
     "text": [
      " 36%|██████████████████████▎                                       | 54/150 [00:07<00:13,  7.17it/s]"
     ]
    },
    {
     "name": "stdout",
     "output_type": "stream",
     "text": [
      "wget -P /media/kyohei/forAI/EMPIAR/11244/ ftp://empiar.pdbj.org/archive/11244/data/data/FoilHole_14948492_Data_14947769_14947771_20210515_194438_fractions.tiff >> ftp_output.out\n",
      "wget -P /media/kyohei/forAI/EMPIAR/11244/ ftp://empiar.pdbj.org/archive/11244/data/data/FoilHole_14948492_Data_14947775_14947777_20210515_194441_fractions.tiff >> ftp_output.out\n"
     ]
    },
    {
     "name": "stderr",
     "output_type": "stream",
     "text": [
      " 37%|███████████████████████▏                                      | 56/150 [00:07<00:13,  7.18it/s]"
     ]
    },
    {
     "name": "stdout",
     "output_type": "stream",
     "text": [
      "wget -P /media/kyohei/forAI/EMPIAR/11244/ ftp://empiar.pdbj.org/archive/11244/data/data/FoilHole_14948492_Data_14947778_14947780_20210515_194444_fractions.tiff >> ftp_output.out\n",
      "wget -P /media/kyohei/forAI/EMPIAR/11244/ ftp://empiar.pdbj.org/archive/11244/data/data/FoilHole_14948493_Data_14947757_14947759_20210515_194423_fractions.tiff >> ftp_output.out\n"
     ]
    },
    {
     "name": "stderr",
     "output_type": "stream",
     "text": [
      " 39%|███████████████████████▉                                      | 58/150 [00:08<00:12,  7.12it/s]"
     ]
    },
    {
     "name": "stdout",
     "output_type": "stream",
     "text": [
      "wget -P /media/kyohei/forAI/EMPIAR/11244/ ftp://empiar.pdbj.org/archive/11244/data/data/FoilHole_14948493_Data_14947760_14947762_20210515_194427_fractions.tiff >> ftp_output.out\n",
      "wget -P /media/kyohei/forAI/EMPIAR/11244/ ftp://empiar.pdbj.org/archive/11244/data/data/FoilHole_14948493_Data_14947763_14947765_20210515_194431_fractions.tiff >> ftp_output.out\n"
     ]
    },
    {
     "name": "stderr",
     "output_type": "stream",
     "text": [
      " 40%|████████████████████████▊                                     | 60/150 [00:08<00:12,  7.18it/s]"
     ]
    },
    {
     "name": "stdout",
     "output_type": "stream",
     "text": [
      "wget -P /media/kyohei/forAI/EMPIAR/11244/ ftp://empiar.pdbj.org/archive/11244/data/data/FoilHole_14948493_Data_14947766_14947768_20210515_194409_fractions.tiff >> ftp_output.out\n",
      "wget -P /media/kyohei/forAI/EMPIAR/11244/ ftp://empiar.pdbj.org/archive/11244/data/data/FoilHole_14948493_Data_14947769_14947771_20210515_194413_fractions.tiff >> ftp_output.out\n"
     ]
    },
    {
     "name": "stderr",
     "output_type": "stream",
     "text": [
      " 41%|█████████████████████████▋                                    | 62/150 [00:08<00:12,  7.20it/s]"
     ]
    },
    {
     "name": "stdout",
     "output_type": "stream",
     "text": [
      "wget -P /media/kyohei/forAI/EMPIAR/11244/ ftp://empiar.pdbj.org/archive/11244/data/data/FoilHole_14948493_Data_14947775_14947777_20210515_194416_fractions.tiff >> ftp_output.out\n",
      "wget -P /media/kyohei/forAI/EMPIAR/11244/ ftp://empiar.pdbj.org/archive/11244/data/data/FoilHole_14948493_Data_14947778_14947780_20210515_194420_fractions.tiff >> ftp_output.out\n"
     ]
    },
    {
     "name": "stderr",
     "output_type": "stream",
     "text": [
      " 43%|██████████████████████████▍                                   | 64/150 [00:09<00:11,  7.23it/s]"
     ]
    },
    {
     "name": "stdout",
     "output_type": "stream",
     "text": [
      "wget -P /media/kyohei/forAI/EMPIAR/11244/ ftp://empiar.pdbj.org/archive/11244/data/data/FoilHole_14948494_Data_14947757_14947759_20210515_195338_fractions.tiff >> ftp_output.out\n",
      "wget -P /media/kyohei/forAI/EMPIAR/11244/ ftp://empiar.pdbj.org/archive/11244/data/data/FoilHole_14948494_Data_14947760_14947762_20210515_195343_fractions.tiff >> ftp_output.out\n"
     ]
    },
    {
     "name": "stderr",
     "output_type": "stream",
     "text": [
      " 44%|███████████████████████████▎                                  | 66/150 [00:09<00:11,  7.21it/s]"
     ]
    },
    {
     "name": "stdout",
     "output_type": "stream",
     "text": [
      "wget -P /media/kyohei/forAI/EMPIAR/11244/ ftp://empiar.pdbj.org/archive/11244/data/data/FoilHole_14948494_Data_14947763_14947765_20210515_195347_fractions.tiff >> ftp_output.out\n",
      "wget -P /media/kyohei/forAI/EMPIAR/11244/ ftp://empiar.pdbj.org/archive/11244/data/data/FoilHole_14948494_Data_14947766_14947768_20210515_195323_fractions.tiff >> ftp_output.out\n"
     ]
    },
    {
     "name": "stderr",
     "output_type": "stream",
     "text": [
      " 45%|████████████████████████████                                  | 68/150 [00:09<00:11,  7.16it/s]"
     ]
    },
    {
     "name": "stdout",
     "output_type": "stream",
     "text": [
      "wget -P /media/kyohei/forAI/EMPIAR/11244/ ftp://empiar.pdbj.org/archive/11244/data/data/FoilHole_14948494_Data_14947769_14947771_20210515_195326_fractions.tiff >> ftp_output.out\n",
      "wget -P /media/kyohei/forAI/EMPIAR/11244/ ftp://empiar.pdbj.org/archive/11244/data/data/FoilHole_14948494_Data_14947775_14947777_20210515_195330_fractions.tiff >> ftp_output.out\n"
     ]
    },
    {
     "name": "stderr",
     "output_type": "stream",
     "text": [
      " 47%|████████████████████████████▉                                 | 70/150 [00:09<00:11,  7.15it/s]"
     ]
    },
    {
     "name": "stdout",
     "output_type": "stream",
     "text": [
      "wget -P /media/kyohei/forAI/EMPIAR/11244/ ftp://empiar.pdbj.org/archive/11244/data/data/FoilHole_14948494_Data_14947778_14947780_20210515_195333_fractions.tiff >> ftp_output.out\n",
      "wget -P /media/kyohei/forAI/EMPIAR/11244/ ftp://empiar.pdbj.org/archive/11244/data/data/FoilHole_14948495_Data_14947757_14947759_20210515_195658_fractions.tiff >> ftp_output.out\n"
     ]
    },
    {
     "name": "stderr",
     "output_type": "stream",
     "text": [
      " 48%|█████████████████████████████▊                                | 72/150 [00:10<00:10,  7.19it/s]"
     ]
    },
    {
     "name": "stdout",
     "output_type": "stream",
     "text": [
      "wget -P /media/kyohei/forAI/EMPIAR/11244/ ftp://empiar.pdbj.org/archive/11244/data/data/FoilHole_14948495_Data_14947760_14947762_20210515_195702_fractions.tiff >> ftp_output.out\n",
      "wget -P /media/kyohei/forAI/EMPIAR/11244/ ftp://empiar.pdbj.org/archive/11244/data/data/FoilHole_14948495_Data_14947763_14947765_20210515_195705_fractions.tiff >> ftp_output.out\n"
     ]
    },
    {
     "name": "stderr",
     "output_type": "stream",
     "text": [
      " 49%|██████████████████████████████▌                               | 74/150 [00:10<00:10,  7.24it/s]"
     ]
    },
    {
     "name": "stdout",
     "output_type": "stream",
     "text": [
      "wget -P /media/kyohei/forAI/EMPIAR/11244/ ftp://empiar.pdbj.org/archive/11244/data/data/FoilHole_14948495_Data_14947766_14947768_20210515_195644_fractions.tiff >> ftp_output.out\n",
      "wget -P /media/kyohei/forAI/EMPIAR/11244/ ftp://empiar.pdbj.org/archive/11244/data/data/FoilHole_14948495_Data_14947769_14947771_20210515_195648_fractions.tiff >> ftp_output.out\n"
     ]
    },
    {
     "name": "stderr",
     "output_type": "stream",
     "text": [
      " 51%|███████████████████████████████▍                              | 76/150 [00:10<00:10,  7.12it/s]"
     ]
    },
    {
     "name": "stdout",
     "output_type": "stream",
     "text": [
      "wget -P /media/kyohei/forAI/EMPIAR/11244/ ftp://empiar.pdbj.org/archive/11244/data/data/FoilHole_14948495_Data_14947775_14947777_20210515_195651_fractions.tiff >> ftp_output.out\n",
      "wget -P /media/kyohei/forAI/EMPIAR/11244/ ftp://empiar.pdbj.org/archive/11244/data/data/FoilHole_14948495_Data_14947778_14947780_20210515_195654_fractions.tiff >> ftp_output.out\n"
     ]
    },
    {
     "name": "stderr",
     "output_type": "stream",
     "text": [
      " 52%|████████████████████████████████▏                             | 78/150 [00:11<00:10,  6.80it/s]"
     ]
    },
    {
     "name": "stdout",
     "output_type": "stream",
     "text": [
      "wget -P /media/kyohei/forAI/EMPIAR/11244/ ftp://empiar.pdbj.org/archive/11244/data/data/FoilHole_14948496_Data_14947757_14947759_20210515_195813_fractions.tiff >> ftp_output.out\n",
      "wget -P /media/kyohei/forAI/EMPIAR/11244/ ftp://empiar.pdbj.org/archive/11244/data/data/FoilHole_14948496_Data_14947760_14947762_20210515_195817_fractions.tiff >> ftp_output.out\n"
     ]
    },
    {
     "name": "stderr",
     "output_type": "stream",
     "text": [
      " 53%|█████████████████████████████████                             | 80/150 [00:11<00:10,  6.96it/s]"
     ]
    },
    {
     "name": "stdout",
     "output_type": "stream",
     "text": [
      "wget -P /media/kyohei/forAI/EMPIAR/11244/ ftp://empiar.pdbj.org/archive/11244/data/data/FoilHole_14948496_Data_14947763_14947765_20210515_195820_fractions.tiff >> ftp_output.out\n",
      "wget -P /media/kyohei/forAI/EMPIAR/11244/ ftp://empiar.pdbj.org/archive/11244/data/data/FoilHole_14948496_Data_14947766_14947768_20210515_195759_fractions.tiff >> ftp_output.out\n"
     ]
    },
    {
     "name": "stderr",
     "output_type": "stream",
     "text": [
      " 55%|█████████████████████████████████▉                            | 82/150 [00:11<00:09,  7.04it/s]"
     ]
    },
    {
     "name": "stdout",
     "output_type": "stream",
     "text": [
      "wget -P /media/kyohei/forAI/EMPIAR/11244/ ftp://empiar.pdbj.org/archive/11244/data/data/FoilHole_14948496_Data_14947769_14947771_20210515_195803_fractions.tiff >> ftp_output.out\n",
      "wget -P /media/kyohei/forAI/EMPIAR/11244/ ftp://empiar.pdbj.org/archive/11244/data/data/FoilHole_14948496_Data_14947775_14947777_20210515_195806_fractions.tiff >> ftp_output.out\n"
     ]
    },
    {
     "name": "stderr",
     "output_type": "stream",
     "text": [
      " 56%|██████████████████████████████████▋                           | 84/150 [00:11<00:09,  7.14it/s]"
     ]
    },
    {
     "name": "stdout",
     "output_type": "stream",
     "text": [
      "wget -P /media/kyohei/forAI/EMPIAR/11244/ ftp://empiar.pdbj.org/archive/11244/data/data/FoilHole_14948496_Data_14947778_14947780_20210515_195809_fractions.tiff >> ftp_output.out\n",
      "wget -P /media/kyohei/forAI/EMPIAR/11244/ ftp://empiar.pdbj.org/archive/11244/data/data/FoilHole_14948497_Data_14947757_14947759_20210515_195838_fractions.tiff >> ftp_output.out\n"
     ]
    },
    {
     "name": "stderr",
     "output_type": "stream",
     "text": [
      " 57%|███████████████████████████████████▌                          | 86/150 [00:12<00:08,  7.26it/s]"
     ]
    },
    {
     "name": "stdout",
     "output_type": "stream",
     "text": [
      "wget -P /media/kyohei/forAI/EMPIAR/11244/ ftp://empiar.pdbj.org/archive/11244/data/data/FoilHole_14948497_Data_14947760_14947762_20210515_195841_fractions.tiff >> ftp_output.out\n",
      "wget -P /media/kyohei/forAI/EMPIAR/11244/ ftp://empiar.pdbj.org/archive/11244/data/data/FoilHole_14948497_Data_14947763_14947765_20210515_195845_fractions.tiff >> ftp_output.out\n"
     ]
    },
    {
     "name": "stderr",
     "output_type": "stream",
     "text": [
      " 59%|████████████████████████████████████▎                         | 88/150 [00:12<00:08,  6.94it/s]"
     ]
    },
    {
     "name": "stdout",
     "output_type": "stream",
     "text": [
      "wget -P /media/kyohei/forAI/EMPIAR/11244/ ftp://empiar.pdbj.org/archive/11244/data/data/FoilHole_14948497_Data_14947766_14947768_20210515_195824_fractions.tiff >> ftp_output.out\n",
      "wget -P /media/kyohei/forAI/EMPIAR/11244/ ftp://empiar.pdbj.org/archive/11244/data/data/FoilHole_14948497_Data_14947769_14947771_20210515_195827_fractions.tiff >> ftp_output.out\n"
     ]
    },
    {
     "name": "stderr",
     "output_type": "stream",
     "text": [
      " 60%|█████████████████████████████████████▏                        | 90/150 [00:12<00:08,  7.01it/s]"
     ]
    },
    {
     "name": "stdout",
     "output_type": "stream",
     "text": [
      "wget -P /media/kyohei/forAI/EMPIAR/11244/ ftp://empiar.pdbj.org/archive/11244/data/data/FoilHole_14948497_Data_14947775_14947777_20210515_195831_fractions.tiff >> ftp_output.out\n",
      "wget -P /media/kyohei/forAI/EMPIAR/11244/ ftp://empiar.pdbj.org/archive/11244/data/data/FoilHole_14948497_Data_14947778_14947780_20210515_195834_fractions.tiff >> ftp_output.out\n"
     ]
    },
    {
     "name": "stderr",
     "output_type": "stream",
     "text": [
      " 61%|██████████████████████████████████████                        | 92/150 [00:13<00:08,  7.10it/s]"
     ]
    },
    {
     "name": "stdout",
     "output_type": "stream",
     "text": [
      "wget -P /media/kyohei/forAI/EMPIAR/11244/ ftp://empiar.pdbj.org/archive/11244/data/data/FoilHole_14948498_Data_14947757_14947759_20210515_200154_fractions.tiff >> ftp_output.out\n",
      "wget -P /media/kyohei/forAI/EMPIAR/11244/ ftp://empiar.pdbj.org/archive/11244/data/data/FoilHole_14948498_Data_14947760_14947762_20210515_200158_fractions.tiff >> ftp_output.out\n"
     ]
    },
    {
     "name": "stderr",
     "output_type": "stream",
     "text": [
      " 63%|██████████████████████████████████████▊                       | 94/150 [00:13<00:08,  6.87it/s]"
     ]
    },
    {
     "name": "stdout",
     "output_type": "stream",
     "text": [
      "wget -P /media/kyohei/forAI/EMPIAR/11244/ ftp://empiar.pdbj.org/archive/11244/data/data/FoilHole_14948498_Data_14947763_14947765_20210515_200201_fractions.tiff >> ftp_output.out\n",
      "wget -P /media/kyohei/forAI/EMPIAR/11244/ ftp://empiar.pdbj.org/archive/11244/data/data/FoilHole_14948498_Data_14947766_14947768_20210515_200140_fractions.tiff >> ftp_output.out\n"
     ]
    },
    {
     "name": "stderr",
     "output_type": "stream",
     "text": [
      " 64%|███████████████████████████████████████▋                      | 96/150 [00:13<00:07,  7.01it/s]"
     ]
    },
    {
     "name": "stdout",
     "output_type": "stream",
     "text": [
      "wget -P /media/kyohei/forAI/EMPIAR/11244/ ftp://empiar.pdbj.org/archive/11244/data/data/FoilHole_14948498_Data_14947769_14947771_20210515_200144_fractions.tiff >> ftp_output.out\n",
      "wget -P /media/kyohei/forAI/EMPIAR/11244/ ftp://empiar.pdbj.org/archive/11244/data/data/FoilHole_14948498_Data_14947775_14947777_20210515_200148_fractions.tiff >> ftp_output.out\n"
     ]
    },
    {
     "name": "stderr",
     "output_type": "stream",
     "text": [
      " 65%|████████████████████████████████████████▌                     | 98/150 [00:13<00:07,  7.02it/s]"
     ]
    },
    {
     "name": "stdout",
     "output_type": "stream",
     "text": [
      "wget -P /media/kyohei/forAI/EMPIAR/11244/ ftp://empiar.pdbj.org/archive/11244/data/data/FoilHole_14948498_Data_14947778_14947780_20210515_200151_fractions.tiff >> ftp_output.out\n",
      "wget -P /media/kyohei/forAI/EMPIAR/11244/ ftp://empiar.pdbj.org/archive/11244/data/data/FoilHole_14948499_Data_14947757_14947759_20210515_200219_fractions.tiff >> ftp_output.out\n"
     ]
    },
    {
     "name": "stderr",
     "output_type": "stream",
     "text": [
      " 67%|████████████████████████████████████████▋                    | 100/150 [00:14<00:07,  7.07it/s]"
     ]
    },
    {
     "name": "stdout",
     "output_type": "stream",
     "text": [
      "wget -P /media/kyohei/forAI/EMPIAR/11244/ ftp://empiar.pdbj.org/archive/11244/data/data/FoilHole_14948499_Data_14947760_14947762_20210515_200223_fractions.tiff >> ftp_output.out\n",
      "wget -P /media/kyohei/forAI/EMPIAR/11244/ ftp://empiar.pdbj.org/archive/11244/data/data/FoilHole_14948499_Data_14947763_14947765_20210515_200227_fractions.tiff >> ftp_output.out\n"
     ]
    },
    {
     "name": "stderr",
     "output_type": "stream",
     "text": [
      " 68%|█████████████████████████████████████████▍                   | 102/150 [00:14<00:06,  7.10it/s]"
     ]
    },
    {
     "name": "stdout",
     "output_type": "stream",
     "text": [
      "wget -P /media/kyohei/forAI/EMPIAR/11244/ ftp://empiar.pdbj.org/archive/11244/data/data/FoilHole_14948499_Data_14947766_14947768_20210515_200205_fractions.tiff >> ftp_output.out\n",
      "wget -P /media/kyohei/forAI/EMPIAR/11244/ ftp://empiar.pdbj.org/archive/11244/data/data/FoilHole_14948499_Data_14947769_14947771_20210515_200208_fractions.tiff >> ftp_output.out\n"
     ]
    },
    {
     "name": "stderr",
     "output_type": "stream",
     "text": [
      " 69%|██████████████████████████████████████████▎                  | 104/150 [00:14<00:06,  7.15it/s]"
     ]
    },
    {
     "name": "stdout",
     "output_type": "stream",
     "text": [
      "wget -P /media/kyohei/forAI/EMPIAR/11244/ ftp://empiar.pdbj.org/archive/11244/data/data/FoilHole_14948499_Data_14947775_14947777_20210515_200212_fractions.tiff >> ftp_output.out\n",
      "wget -P /media/kyohei/forAI/EMPIAR/11244/ ftp://empiar.pdbj.org/archive/11244/data/data/FoilHole_14948499_Data_14947778_14947780_20210515_200215_fractions.tiff >> ftp_output.out\n"
     ]
    },
    {
     "name": "stderr",
     "output_type": "stream",
     "text": [
      " 71%|███████████████████████████████████████████                  | 106/150 [00:14<00:06,  7.14it/s]"
     ]
    },
    {
     "name": "stdout",
     "output_type": "stream",
     "text": [
      "wget -P /media/kyohei/forAI/EMPIAR/11244/ ftp://empiar.pdbj.org/archive/11244/data/data/FoilHole_14948500_Data_14947757_14947759_20210515_200130_fractions.tiff >> ftp_output.out\n",
      "wget -P /media/kyohei/forAI/EMPIAR/11244/ ftp://empiar.pdbj.org/archive/11244/data/data/FoilHole_14948500_Data_14947760_14947762_20210515_200133_fractions.tiff >> ftp_output.out\n"
     ]
    },
    {
     "name": "stderr",
     "output_type": "stream",
     "text": [
      " 72%|███████████████████████████████████████████▉                 | 108/150 [00:15<00:05,  7.20it/s]"
     ]
    },
    {
     "name": "stdout",
     "output_type": "stream",
     "text": [
      "wget -P /media/kyohei/forAI/EMPIAR/11244/ ftp://empiar.pdbj.org/archive/11244/data/data/FoilHole_14948500_Data_14947763_14947765_20210515_200136_fractions.tiff >> ftp_output.out\n",
      "wget -P /media/kyohei/forAI/EMPIAR/11244/ ftp://empiar.pdbj.org/archive/11244/data/data/FoilHole_14948500_Data_14947766_14947768_20210515_200116_fractions.tiff >> ftp_output.out\n"
     ]
    },
    {
     "name": "stderr",
     "output_type": "stream",
     "text": [
      " 73%|████████████████████████████████████████████▋                | 110/150 [00:15<00:05,  7.19it/s]"
     ]
    },
    {
     "name": "stdout",
     "output_type": "stream",
     "text": [
      "wget -P /media/kyohei/forAI/EMPIAR/11244/ ftp://empiar.pdbj.org/archive/11244/data/data/FoilHole_14948500_Data_14947769_14947771_20210515_200120_fractions.tiff >> ftp_output.out\n",
      "wget -P /media/kyohei/forAI/EMPIAR/11244/ ftp://empiar.pdbj.org/archive/11244/data/data/FoilHole_14948500_Data_14947775_14947777_20210515_200123_fractions.tiff >> ftp_output.out\n"
     ]
    },
    {
     "name": "stderr",
     "output_type": "stream",
     "text": [
      " 75%|█████████████████████████████████████████████▌               | 112/150 [00:15<00:05,  7.22it/s]"
     ]
    },
    {
     "name": "stdout",
     "output_type": "stream",
     "text": [
      "wget -P /media/kyohei/forAI/EMPIAR/11244/ ftp://empiar.pdbj.org/archive/11244/data/data/FoilHole_14948500_Data_14947778_14947780_20210515_200127_fractions.tiff >> ftp_output.out\n",
      "wget -P /media/kyohei/forAI/EMPIAR/11244/ ftp://empiar.pdbj.org/archive/11244/data/data/FoilHole_14948501_Data_14947757_14947759_20210515_200640_fractions.tiff >> ftp_output.out\n"
     ]
    },
    {
     "name": "stderr",
     "output_type": "stream",
     "text": [
      " 76%|██████████████████████████████████████████████▎              | 114/150 [00:16<00:04,  7.23it/s]"
     ]
    },
    {
     "name": "stdout",
     "output_type": "stream",
     "text": [
      "wget -P /media/kyohei/forAI/EMPIAR/11244/ ftp://empiar.pdbj.org/archive/11244/data/data/FoilHole_14948501_Data_14947760_14947762_20210515_200643_fractions.tiff >> ftp_output.out\n",
      "wget -P /media/kyohei/forAI/EMPIAR/11244/ ftp://empiar.pdbj.org/archive/11244/data/data/FoilHole_14948501_Data_14947763_14947765_20210515_200647_fractions.tiff >> ftp_output.out\n"
     ]
    },
    {
     "name": "stderr",
     "output_type": "stream",
     "text": [
      " 77%|███████████████████████████████████████████████▏             | 116/150 [00:16<00:05,  6.79it/s]"
     ]
    },
    {
     "name": "stdout",
     "output_type": "stream",
     "text": [
      "wget -P /media/kyohei/forAI/EMPIAR/11244/ ftp://empiar.pdbj.org/archive/11244/data/data/FoilHole_14948501_Data_14947766_14947768_20210515_200626_fractions.tiff >> ftp_output.out\n",
      "wget -P /media/kyohei/forAI/EMPIAR/11244/ ftp://empiar.pdbj.org/archive/11244/data/data/FoilHole_14948501_Data_14947769_14947771_20210515_200629_fractions.tiff >> ftp_output.out\n"
     ]
    },
    {
     "name": "stderr",
     "output_type": "stream",
     "text": [
      " 79%|███████████████████████████████████████████████▉             | 118/150 [00:16<00:04,  6.96it/s]"
     ]
    },
    {
     "name": "stdout",
     "output_type": "stream",
     "text": [
      "wget -P /media/kyohei/forAI/EMPIAR/11244/ ftp://empiar.pdbj.org/archive/11244/data/data/FoilHole_14948501_Data_14947775_14947777_20210515_200633_fractions.tiff >> ftp_output.out\n",
      "wget -P /media/kyohei/forAI/EMPIAR/11244/ ftp://empiar.pdbj.org/archive/11244/data/data/FoilHole_14948501_Data_14947778_14947780_20210515_200637_fractions.tiff >> ftp_output.out\n"
     ]
    },
    {
     "name": "stderr",
     "output_type": "stream",
     "text": [
      " 80%|████████████████████████████████████████████████▊            | 120/150 [00:16<00:04,  7.07it/s]"
     ]
    },
    {
     "name": "stdout",
     "output_type": "stream",
     "text": [
      "wget -P /media/kyohei/forAI/EMPIAR/11244/ ftp://empiar.pdbj.org/archive/11244/data/data/FoilHole_14948502_Data_14947757_14947759_20210515_201158_fractions.tiff >> ftp_output.out\n",
      "wget -P /media/kyohei/forAI/EMPIAR/11244/ ftp://empiar.pdbj.org/archive/11244/data/data/FoilHole_14948502_Data_14947760_14947762_20210515_201202_fractions.tiff >> ftp_output.out\n"
     ]
    },
    {
     "name": "stderr",
     "output_type": "stream",
     "text": [
      " 81%|█████████████████████████████████████████████████▌           | 122/150 [00:17<00:03,  7.08it/s]"
     ]
    },
    {
     "name": "stdout",
     "output_type": "stream",
     "text": [
      "wget -P /media/kyohei/forAI/EMPIAR/11244/ ftp://empiar.pdbj.org/archive/11244/data/data/FoilHole_14948502_Data_14947763_14947765_20210515_201206_fractions.tiff >> ftp_output.out\n",
      "wget -P /media/kyohei/forAI/EMPIAR/11244/ ftp://empiar.pdbj.org/archive/11244/data/data/FoilHole_14948502_Data_14947766_14947768_20210515_201144_fractions.tiff >> ftp_output.out\n"
     ]
    },
    {
     "name": "stderr",
     "output_type": "stream",
     "text": [
      " 83%|██████████████████████████████████████████████████▍          | 124/150 [00:17<00:03,  6.82it/s]"
     ]
    },
    {
     "name": "stdout",
     "output_type": "stream",
     "text": [
      "wget -P /media/kyohei/forAI/EMPIAR/11244/ ftp://empiar.pdbj.org/archive/11244/data/data/FoilHole_14948502_Data_14947769_14947771_20210515_201148_fractions.tiff >> ftp_output.out\n",
      "wget -P /media/kyohei/forAI/EMPIAR/11244/ ftp://empiar.pdbj.org/archive/11244/data/data/FoilHole_14948502_Data_14947775_14947777_20210515_201151_fractions.tiff >> ftp_output.out\n"
     ]
    },
    {
     "name": "stderr",
     "output_type": "stream",
     "text": [
      " 84%|███████████████████████████████████████████████████▏         | 126/150 [00:17<00:03,  6.99it/s]"
     ]
    },
    {
     "name": "stdout",
     "output_type": "stream",
     "text": [
      "wget -P /media/kyohei/forAI/EMPIAR/11244/ ftp://empiar.pdbj.org/archive/11244/data/data/FoilHole_14948502_Data_14947778_14947780_20210515_201154_fractions.tiff >> ftp_output.out\n",
      "wget -P /media/kyohei/forAI/EMPIAR/11244/ ftp://empiar.pdbj.org/archive/11244/data/data/FoilHole_14948503_Data_14947757_14947759_20210515_201133_fractions.tiff >> ftp_output.out\n"
     ]
    },
    {
     "name": "stderr",
     "output_type": "stream",
     "text": [
      " 85%|████████████████████████████████████████████████████         | 128/150 [00:18<00:03,  7.20it/s]"
     ]
    },
    {
     "name": "stdout",
     "output_type": "stream",
     "text": [
      "wget -P /media/kyohei/forAI/EMPIAR/11244/ ftp://empiar.pdbj.org/archive/11244/data/data/FoilHole_14948503_Data_14947760_14947762_20210515_201136_fractions.tiff >> ftp_output.out\n",
      "wget -P /media/kyohei/forAI/EMPIAR/11244/ ftp://empiar.pdbj.org/archive/11244/data/data/FoilHole_14948503_Data_14947763_14947765_20210515_201140_fractions.tiff >> ftp_output.out\n"
     ]
    },
    {
     "name": "stderr",
     "output_type": "stream",
     "text": [
      " 87%|████████████████████████████████████████████████████▊        | 130/150 [00:18<00:02,  7.22it/s]"
     ]
    },
    {
     "name": "stdout",
     "output_type": "stream",
     "text": [
      "wget -P /media/kyohei/forAI/EMPIAR/11244/ ftp://empiar.pdbj.org/archive/11244/data/data/FoilHole_14948503_Data_14947766_14947768_20210515_201120_fractions.tiff >> ftp_output.out\n",
      "wget -P /media/kyohei/forAI/EMPIAR/11244/ ftp://empiar.pdbj.org/archive/11244/data/data/FoilHole_14948503_Data_14947769_14947771_20210515_201123_fractions.tiff >> ftp_output.out\n"
     ]
    },
    {
     "name": "stderr",
     "output_type": "stream",
     "text": [
      " 88%|█████████████████████████████████████████████████████▋       | 132/150 [00:18<00:02,  7.19it/s]"
     ]
    },
    {
     "name": "stdout",
     "output_type": "stream",
     "text": [
      "wget -P /media/kyohei/forAI/EMPIAR/11244/ ftp://empiar.pdbj.org/archive/11244/data/data/FoilHole_14948503_Data_14947775_14947777_20210515_201126_fractions.tiff >> ftp_output.out\n",
      "wget -P /media/kyohei/forAI/EMPIAR/11244/ ftp://empiar.pdbj.org/archive/11244/data/data/FoilHole_14948503_Data_14947778_14947780_20210515_201130_fractions.tiff >> ftp_output.out\n"
     ]
    },
    {
     "name": "stderr",
     "output_type": "stream",
     "text": [
      " 89%|██████████████████████████████████████████████████████▍      | 134/150 [00:18<00:02,  7.17it/s]"
     ]
    },
    {
     "name": "stdout",
     "output_type": "stream",
     "text": [
      "wget -P /media/kyohei/forAI/EMPIAR/11244/ ftp://empiar.pdbj.org/archive/11244/data/data/FoilHole_14948504_Data_14947757_14947759_20210515_195006_fractions.tiff >> ftp_output.out\n",
      "wget -P /media/kyohei/forAI/EMPIAR/11244/ ftp://empiar.pdbj.org/archive/11244/data/data/FoilHole_14948504_Data_14947760_14947762_20210515_195009_fractions.tiff >> ftp_output.out\n"
     ]
    },
    {
     "name": "stderr",
     "output_type": "stream",
     "text": [
      " 91%|███████████████████████████████████████████████████████▎     | 136/150 [00:19<00:02,  6.85it/s]"
     ]
    },
    {
     "name": "stdout",
     "output_type": "stream",
     "text": [
      "wget -P /media/kyohei/forAI/EMPIAR/11244/ ftp://empiar.pdbj.org/archive/11244/data/data/FoilHole_14948504_Data_14947763_14947765_20210515_195013_fractions.tiff >> ftp_output.out\n",
      "wget -P /media/kyohei/forAI/EMPIAR/11244/ ftp://empiar.pdbj.org/archive/11244/data/data/FoilHole_14948504_Data_14947766_14947768_20210515_194951_fractions.tiff >> ftp_output.out\n"
     ]
    },
    {
     "name": "stderr",
     "output_type": "stream",
     "text": [
      " 92%|████████████████████████████████████████████████████████     | 138/150 [00:19<00:01,  6.96it/s]"
     ]
    },
    {
     "name": "stdout",
     "output_type": "stream",
     "text": [
      "wget -P /media/kyohei/forAI/EMPIAR/11244/ ftp://empiar.pdbj.org/archive/11244/data/data/FoilHole_14948504_Data_14947769_14947771_20210515_194954_fractions.tiff >> ftp_output.out\n",
      "wget -P /media/kyohei/forAI/EMPIAR/11244/ ftp://empiar.pdbj.org/archive/11244/data/data/FoilHole_14948504_Data_14947775_14947777_20210515_194958_fractions.tiff >> ftp_output.out\n"
     ]
    },
    {
     "name": "stderr",
     "output_type": "stream",
     "text": [
      " 93%|████████████████████████████████████████████████████████▉    | 140/150 [00:19<00:01,  7.09it/s]"
     ]
    },
    {
     "name": "stdout",
     "output_type": "stream",
     "text": [
      "wget -P /media/kyohei/forAI/EMPIAR/11244/ ftp://empiar.pdbj.org/archive/11244/data/data/FoilHole_14948504_Data_14947778_14947780_20210515_195001_fractions.tiff >> ftp_output.out\n",
      "wget -P /media/kyohei/forAI/EMPIAR/11244/ ftp://empiar.pdbj.org/archive/11244/data/data/FoilHole_14948505_Data_14947757_14947759_20210515_194825_fractions.tiff >> ftp_output.out\n"
     ]
    },
    {
     "name": "stderr",
     "output_type": "stream",
     "text": [
      " 95%|█████████████████████████████████████████████████████████▋   | 142/150 [00:20<00:01,  7.06it/s]"
     ]
    },
    {
     "name": "stdout",
     "output_type": "stream",
     "text": [
      "wget -P /media/kyohei/forAI/EMPIAR/11244/ ftp://empiar.pdbj.org/archive/11244/data/data/FoilHole_14948505_Data_14947760_14947762_20210515_194829_fractions.tiff >> ftp_output.out\n",
      "wget -P /media/kyohei/forAI/EMPIAR/11244/ ftp://empiar.pdbj.org/archive/11244/data/data/FoilHole_14948505_Data_14947763_14947765_20210515_194832_fractions.tiff >> ftp_output.out\n"
     ]
    },
    {
     "name": "stderr",
     "output_type": "stream",
     "text": [
      " 96%|██████████████████████████████████████████████████████████▌  | 144/150 [00:20<00:00,  6.99it/s]"
     ]
    },
    {
     "name": "stdout",
     "output_type": "stream",
     "text": [
      "wget -P /media/kyohei/forAI/EMPIAR/11244/ ftp://empiar.pdbj.org/archive/11244/data/data/FoilHole_14948505_Data_14947766_14947768_20210515_194811_fractions.tiff >> ftp_output.out\n",
      "wget -P /media/kyohei/forAI/EMPIAR/11244/ ftp://empiar.pdbj.org/archive/11244/data/data/FoilHole_14948505_Data_14947769_14947771_20210515_194814_fractions.tiff >> ftp_output.out\n"
     ]
    },
    {
     "name": "stderr",
     "output_type": "stream",
     "text": [
      " 97%|███████████████████████████████████████████████████████████▎ | 146/150 [00:20<00:00,  7.06it/s]"
     ]
    },
    {
     "name": "stdout",
     "output_type": "stream",
     "text": [
      "wget -P /media/kyohei/forAI/EMPIAR/11244/ ftp://empiar.pdbj.org/archive/11244/data/data/FoilHole_14948505_Data_14947775_14947777_20210515_194817_fractions.tiff >> ftp_output.out\n",
      "wget -P /media/kyohei/forAI/EMPIAR/11244/ ftp://empiar.pdbj.org/archive/11244/data/data/FoilHole_14948505_Data_14947778_14947780_20210515_194822_fractions.tiff >> ftp_output.out\n"
     ]
    },
    {
     "name": "stderr",
     "output_type": "stream",
     "text": [
      " 99%|████████████████████████████████████████████████████████████▏| 148/150 [00:20<00:00,  7.12it/s]"
     ]
    },
    {
     "name": "stdout",
     "output_type": "stream",
     "text": [
      "wget -P /media/kyohei/forAI/EMPIAR/11244/ ftp://empiar.pdbj.org/archive/11244/data/data/FoilHole_14948506_Data_14947757_14947759_20210515_194914_fractions.tiff >> ftp_output.out\n",
      "wget -P /media/kyohei/forAI/EMPIAR/11244/ ftp://empiar.pdbj.org/archive/11244/data/data/FoilHole_14948506_Data_14947760_14947762_20210515_194918_fractions.tiff >> ftp_output.out\n"
     ]
    },
    {
     "name": "stderr",
     "output_type": "stream",
     "text": [
      "100%|█████████████████████████████████████████████████████████████| 150/150 [00:21<00:00,  7.06it/s]\n",
      "lftp: /home/kyohei/miniconda3/envs/cryoem/lib/libtinfo.so.6: no version information available (required by lftp)\n"
     ]
    },
    {
     "name": "stdout",
     "output_type": "stream",
     "text": [
      "wget -P /media/kyohei/forAI/EMPIAR/11244/ ftp://empiar.pdbj.org/archive/11244/data/data/FoilHole_14948506_Data_14947763_14947765_20210515_194922_fractions.tiff >> ftp_output.out\n",
      "lftp -c \"open ftp://ftp.ebi.ac.uk/empiar/world_availability/11349/data/6688/; cls -1 --sort name *.tiff\" | head -150 > filelist_11349.txt \n"
     ]
    },
    {
     "name": "stderr",
     "output_type": "stream",
     "text": [
      "cls: cls (filter): Broken pipe\n",
      "  1%|▍                                                              | 1/150 [00:00<00:20,  7.27it/s]"
     ]
    },
    {
     "name": "stdout",
     "output_type": "stream",
     "text": [
      "wget -P /media/kyohei/forAI/EMPIAR/11349/ ftp://empiar.pdbj.org/archive/11349/data/6688/FoilHole_11540410_Data_11537499_11537501_20210112_130556_fractions.tiff >> ftp_output.out\n",
      "wget -P /media/kyohei/forAI/EMPIAR/11349/ ftp://empiar.pdbj.org/archive/11349/data/6688/FoilHole_11540410_Data_11537502_11537504_20210112_130606_fractions.tiff >> ftp_output.out\n"
     ]
    },
    {
     "name": "stderr",
     "output_type": "stream",
     "text": [
      "  2%|█▎                                                             | 3/150 [00:00<00:21,  6.95it/s]"
     ]
    },
    {
     "name": "stdout",
     "output_type": "stream",
     "text": [
      "wget -P /media/kyohei/forAI/EMPIAR/11349/ ftp://empiar.pdbj.org/archive/11349/data/6688/FoilHole_11540410_Data_11537505_11537507_20210112_130615_fractions.tiff >> ftp_output.out\n",
      "wget -P /media/kyohei/forAI/EMPIAR/11349/ ftp://empiar.pdbj.org/archive/11349/data/6688/FoilHole_11540410_Data_11537508_11537510_20210112_130625_fractions.tiff >> ftp_output.out\n"
     ]
    },
    {
     "name": "stderr",
     "output_type": "stream",
     "text": [
      "  3%|██                                                             | 5/150 [00:00<00:20,  7.00it/s]"
     ]
    },
    {
     "name": "stdout",
     "output_type": "stream",
     "text": [
      "wget -P /media/kyohei/forAI/EMPIAR/11349/ ftp://empiar.pdbj.org/archive/11349/data/6688/FoilHole_11540410_Data_11537511_11537513_20210112_130635_fractions.tiff >> ftp_output.out\n",
      "wget -P /media/kyohei/forAI/EMPIAR/11349/ ftp://empiar.pdbj.org/archive/11349/data/6688/FoilHole_11540411_Data_11537499_11537501_20210112_125816_fractions.tiff >> ftp_output.out\n"
     ]
    },
    {
     "name": "stderr",
     "output_type": "stream",
     "text": [
      "  5%|██▉                                                            | 7/150 [00:00<00:20,  7.07it/s]"
     ]
    },
    {
     "name": "stdout",
     "output_type": "stream",
     "text": [
      "wget -P /media/kyohei/forAI/EMPIAR/11349/ ftp://empiar.pdbj.org/archive/11349/data/6688/FoilHole_11540411_Data_11537502_11537504_20210112_125826_fractions.tiff >> ftp_output.out\n",
      "wget -P /media/kyohei/forAI/EMPIAR/11349/ ftp://empiar.pdbj.org/archive/11349/data/6688/FoilHole_11540411_Data_11537505_11537507_20210112_125836_fractions.tiff >> ftp_output.out\n"
     ]
    },
    {
     "name": "stderr",
     "output_type": "stream",
     "text": [
      "  6%|███▊                                                           | 9/150 [00:01<00:20,  6.92it/s]"
     ]
    },
    {
     "name": "stdout",
     "output_type": "stream",
     "text": [
      "wget -P /media/kyohei/forAI/EMPIAR/11349/ ftp://empiar.pdbj.org/archive/11349/data/6688/FoilHole_11540411_Data_11537508_11537510_20210112_125845_fractions.tiff >> ftp_output.out\n",
      "wget -P /media/kyohei/forAI/EMPIAR/11349/ ftp://empiar.pdbj.org/archive/11349/data/6688/FoilHole_11540411_Data_11537511_11537513_20210112_125855_fractions.tiff >> ftp_output.out\n"
     ]
    },
    {
     "name": "stderr",
     "output_type": "stream",
     "text": [
      "  7%|████▌                                                         | 11/150 [00:01<00:19,  7.14it/s]"
     ]
    },
    {
     "name": "stdout",
     "output_type": "stream",
     "text": [
      "wget -P /media/kyohei/forAI/EMPIAR/11349/ ftp://empiar.pdbj.org/archive/11349/data/6688/FoilHole_11540412_Data_11537499_11537501_20210112_125726_fractions.tiff >> ftp_output.out\n",
      "wget -P /media/kyohei/forAI/EMPIAR/11349/ ftp://empiar.pdbj.org/archive/11349/data/6688/FoilHole_11540412_Data_11537499_11537501_20210112_125726_gain.tiff >> ftp_output.out\n"
     ]
    },
    {
     "name": "stderr",
     "output_type": "stream",
     "text": [
      "  9%|█████▎                                                        | 13/150 [00:01<00:18,  7.25it/s]"
     ]
    },
    {
     "name": "stdout",
     "output_type": "stream",
     "text": [
      "wget -P /media/kyohei/forAI/EMPIAR/11349/ ftp://empiar.pdbj.org/archive/11349/data/6688/FoilHole_11540412_Data_11537502_11537504_20210112_125737_fractions.tiff >> ftp_output.out\n",
      "wget -P /media/kyohei/forAI/EMPIAR/11349/ ftp://empiar.pdbj.org/archive/11349/data/6688/FoilHole_11540412_Data_11537505_11537507_20210112_125747_fractions.tiff >> ftp_output.out\n"
     ]
    },
    {
     "name": "stderr",
     "output_type": "stream",
     "text": [
      " 10%|██████▏                                                       | 15/150 [00:02<00:19,  7.07it/s]"
     ]
    },
    {
     "name": "stdout",
     "output_type": "stream",
     "text": [
      "wget -P /media/kyohei/forAI/EMPIAR/11349/ ftp://empiar.pdbj.org/archive/11349/data/6688/FoilHole_11540412_Data_11537508_11537510_20210112_125757_fractions.tiff >> ftp_output.out\n",
      "wget -P /media/kyohei/forAI/EMPIAR/11349/ ftp://empiar.pdbj.org/archive/11349/data/6688/FoilHole_11540412_Data_11537511_11537513_20210112_125806_fractions.tiff >> ftp_output.out\n"
     ]
    },
    {
     "name": "stderr",
     "output_type": "stream",
     "text": [
      " 11%|███████                                                       | 17/150 [00:02<00:18,  7.10it/s]"
     ]
    },
    {
     "name": "stdout",
     "output_type": "stream",
     "text": [
      "wget -P /media/kyohei/forAI/EMPIAR/11349/ ftp://empiar.pdbj.org/archive/11349/data/6688/FoilHole_11540413_Data_11537499_11537501_20210112_125955_fractions.tiff >> ftp_output.out\n",
      "wget -P /media/kyohei/forAI/EMPIAR/11349/ ftp://empiar.pdbj.org/archive/11349/data/6688/FoilHole_11540413_Data_11537502_11537504_20210112_130005_fractions.tiff >> ftp_output.out\n"
     ]
    },
    {
     "name": "stderr",
     "output_type": "stream",
     "text": [
      " 13%|███████▊                                                      | 19/150 [00:02<00:18,  7.14it/s]"
     ]
    },
    {
     "name": "stdout",
     "output_type": "stream",
     "text": [
      "wget -P /media/kyohei/forAI/EMPIAR/11349/ ftp://empiar.pdbj.org/archive/11349/data/6688/FoilHole_11540413_Data_11537505_11537507_20210112_130015_fractions.tiff >> ftp_output.out\n",
      "wget -P /media/kyohei/forAI/EMPIAR/11349/ ftp://empiar.pdbj.org/archive/11349/data/6688/FoilHole_11540413_Data_11537508_11537510_20210112_130024_fractions.tiff >> ftp_output.out\n"
     ]
    },
    {
     "name": "stderr",
     "output_type": "stream",
     "text": [
      " 14%|████████▋                                                     | 21/150 [00:02<00:17,  7.23it/s]"
     ]
    },
    {
     "name": "stdout",
     "output_type": "stream",
     "text": [
      "wget -P /media/kyohei/forAI/EMPIAR/11349/ ftp://empiar.pdbj.org/archive/11349/data/6688/FoilHole_11540413_Data_11537511_11537513_20210112_130034_fractions.tiff >> ftp_output.out\n",
      "wget -P /media/kyohei/forAI/EMPIAR/11349/ ftp://empiar.pdbj.org/archive/11349/data/6688/FoilHole_11540414_Data_11537499_11537501_20210112_131500_fractions.tiff >> ftp_output.out\n"
     ]
    },
    {
     "name": "stderr",
     "output_type": "stream",
     "text": [
      " 15%|█████████▌                                                    | 23/150 [00:03<00:17,  7.20it/s]"
     ]
    },
    {
     "name": "stdout",
     "output_type": "stream",
     "text": [
      "wget -P /media/kyohei/forAI/EMPIAR/11349/ ftp://empiar.pdbj.org/archive/11349/data/6688/FoilHole_11540414_Data_11537502_11537504_20210112_131511_fractions.tiff >> ftp_output.out\n",
      "wget -P /media/kyohei/forAI/EMPIAR/11349/ ftp://empiar.pdbj.org/archive/11349/data/6688/FoilHole_11540414_Data_11537505_11537507_20210112_131522_fractions.tiff >> ftp_output.out\n"
     ]
    },
    {
     "name": "stderr",
     "output_type": "stream",
     "text": [
      " 17%|██████████▎                                                   | 25/150 [00:03<00:17,  7.20it/s]"
     ]
    },
    {
     "name": "stdout",
     "output_type": "stream",
     "text": [
      "wget -P /media/kyohei/forAI/EMPIAR/11349/ ftp://empiar.pdbj.org/archive/11349/data/6688/FoilHole_11540414_Data_11537508_11537510_20210112_131532_fractions.tiff >> ftp_output.out\n",
      "wget -P /media/kyohei/forAI/EMPIAR/11349/ ftp://empiar.pdbj.org/archive/11349/data/6688/FoilHole_11540414_Data_11537511_11537513_20210112_131543_fractions.tiff >> ftp_output.out\n"
     ]
    },
    {
     "name": "stderr",
     "output_type": "stream",
     "text": [
      " 18%|███████████▏                                                  | 27/150 [00:03<00:17,  7.20it/s]"
     ]
    },
    {
     "name": "stdout",
     "output_type": "stream",
     "text": [
      "wget -P /media/kyohei/forAI/EMPIAR/11349/ ftp://empiar.pdbj.org/archive/11349/data/6688/FoilHole_11540417_Data_11537499_11537501_20210112_130506_fractions.tiff >> ftp_output.out\n",
      "wget -P /media/kyohei/forAI/EMPIAR/11349/ ftp://empiar.pdbj.org/archive/11349/data/6688/FoilHole_11540417_Data_11537502_11537504_20210112_130517_fractions.tiff >> ftp_output.out\n"
     ]
    },
    {
     "name": "stderr",
     "output_type": "stream",
     "text": [
      " 19%|███████████▉                                                  | 29/150 [00:04<00:17,  7.10it/s]"
     ]
    },
    {
     "name": "stdout",
     "output_type": "stream",
     "text": [
      "wget -P /media/kyohei/forAI/EMPIAR/11349/ ftp://empiar.pdbj.org/archive/11349/data/6688/FoilHole_11540417_Data_11537505_11537507_20210112_130527_fractions.tiff >> ftp_output.out\n",
      "wget -P /media/kyohei/forAI/EMPIAR/11349/ ftp://empiar.pdbj.org/archive/11349/data/6688/FoilHole_11540417_Data_11537508_11537510_20210112_130536_fractions.tiff >> ftp_output.out\n"
     ]
    },
    {
     "name": "stderr",
     "output_type": "stream",
     "text": [
      " 21%|████████████▊                                                 | 31/150 [00:04<00:16,  7.02it/s]"
     ]
    },
    {
     "name": "stdout",
     "output_type": "stream",
     "text": [
      "wget -P /media/kyohei/forAI/EMPIAR/11349/ ftp://empiar.pdbj.org/archive/11349/data/6688/FoilHole_11540417_Data_11537511_11537513_20210112_130547_fractions.tiff >> ftp_output.out\n",
      "wget -P /media/kyohei/forAI/EMPIAR/11349/ ftp://empiar.pdbj.org/archive/11349/data/6688/FoilHole_11540418_Data_11537499_11537501_20210112_130644_fractions.tiff >> ftp_output.out\n"
     ]
    },
    {
     "name": "stderr",
     "output_type": "stream",
     "text": [
      " 22%|█████████████▋                                                | 33/150 [00:04<00:16,  7.08it/s]"
     ]
    },
    {
     "name": "stdout",
     "output_type": "stream",
     "text": [
      "wget -P /media/kyohei/forAI/EMPIAR/11349/ ftp://empiar.pdbj.org/archive/11349/data/6688/FoilHole_11540418_Data_11537502_11537504_20210112_130654_fractions.tiff >> ftp_output.out\n",
      "wget -P /media/kyohei/forAI/EMPIAR/11349/ ftp://empiar.pdbj.org/archive/11349/data/6688/FoilHole_11540418_Data_11537505_11537507_20210112_130703_fractions.tiff >> ftp_output.out\n"
     ]
    },
    {
     "name": "stderr",
     "output_type": "stream",
     "text": [
      " 23%|██████████████▍                                               | 35/150 [00:04<00:16,  7.13it/s]"
     ]
    },
    {
     "name": "stdout",
     "output_type": "stream",
     "text": [
      "wget -P /media/kyohei/forAI/EMPIAR/11349/ ftp://empiar.pdbj.org/archive/11349/data/6688/FoilHole_11540418_Data_11537508_11537510_20210112_130713_fractions.tiff >> ftp_output.out\n",
      "wget -P /media/kyohei/forAI/EMPIAR/11349/ ftp://empiar.pdbj.org/archive/11349/data/6688/FoilHole_11540418_Data_11537511_11537513_20210112_130722_fractions.tiff >> ftp_output.out\n"
     ]
    },
    {
     "name": "stderr",
     "output_type": "stream",
     "text": [
      " 25%|███████████████▎                                              | 37/150 [00:05<00:15,  7.19it/s]"
     ]
    },
    {
     "name": "stdout",
     "output_type": "stream",
     "text": [
      "wget -P /media/kyohei/forAI/EMPIAR/11349/ ftp://empiar.pdbj.org/archive/11349/data/6688/FoilHole_11540419_Data_11537499_11537501_20210112_131929_fractions.tiff >> ftp_output.out\n",
      "wget -P /media/kyohei/forAI/EMPIAR/11349/ ftp://empiar.pdbj.org/archive/11349/data/6688/FoilHole_11540419_Data_11537502_11537504_20210112_131939_fractions.tiff >> ftp_output.out\n"
     ]
    },
    {
     "name": "stderr",
     "output_type": "stream",
     "text": [
      " 26%|████████████████                                              | 39/150 [00:05<00:15,  7.15it/s]"
     ]
    },
    {
     "name": "stdout",
     "output_type": "stream",
     "text": [
      "wget -P /media/kyohei/forAI/EMPIAR/11349/ ftp://empiar.pdbj.org/archive/11349/data/6688/FoilHole_11540419_Data_11537505_11537507_20210112_131949_fractions.tiff >> ftp_output.out\n",
      "wget -P /media/kyohei/forAI/EMPIAR/11349/ ftp://empiar.pdbj.org/archive/11349/data/6688/FoilHole_11540419_Data_11537508_11537510_20210112_132000_fractions.tiff >> ftp_output.out\n"
     ]
    },
    {
     "name": "stderr",
     "output_type": "stream",
     "text": [
      " 27%|████████████████▉                                             | 41/150 [00:05<00:15,  7.15it/s]"
     ]
    },
    {
     "name": "stdout",
     "output_type": "stream",
     "text": [
      "wget -P /media/kyohei/forAI/EMPIAR/11349/ ftp://empiar.pdbj.org/archive/11349/data/6688/FoilHole_11540419_Data_11537511_11537513_20210112_132010_fractions.tiff >> ftp_output.out\n",
      "wget -P /media/kyohei/forAI/EMPIAR/11349/ ftp://empiar.pdbj.org/archive/11349/data/6688/FoilHole_11540420_Data_11537499_11537501_20210112_130222_fractions.tiff >> ftp_output.out\n"
     ]
    },
    {
     "name": "stderr",
     "output_type": "stream",
     "text": [
      " 29%|█████████████████▊                                            | 43/150 [00:06<00:14,  7.21it/s]"
     ]
    },
    {
     "name": "stdout",
     "output_type": "stream",
     "text": [
      "wget -P /media/kyohei/forAI/EMPIAR/11349/ ftp://empiar.pdbj.org/archive/11349/data/6688/FoilHole_11540420_Data_11537502_11537504_20210112_130232_fractions.tiff >> ftp_output.out\n",
      "wget -P /media/kyohei/forAI/EMPIAR/11349/ ftp://empiar.pdbj.org/archive/11349/data/6688/FoilHole_11540420_Data_11537505_11537507_20210112_130242_fractions.tiff >> ftp_output.out\n"
     ]
    },
    {
     "name": "stderr",
     "output_type": "stream",
     "text": [
      " 30%|██████████████████▌                                           | 45/150 [00:06<00:14,  7.24it/s]"
     ]
    },
    {
     "name": "stdout",
     "output_type": "stream",
     "text": [
      "wget -P /media/kyohei/forAI/EMPIAR/11349/ ftp://empiar.pdbj.org/archive/11349/data/6688/FoilHole_11540420_Data_11537508_11537510_20210112_130252_fractions.tiff >> ftp_output.out\n",
      "wget -P /media/kyohei/forAI/EMPIAR/11349/ ftp://empiar.pdbj.org/archive/11349/data/6688/FoilHole_11540420_Data_11537511_11537513_20210112_130302_fractions.tiff >> ftp_output.out\n"
     ]
    },
    {
     "name": "stderr",
     "output_type": "stream",
     "text": [
      " 31%|███████████████████▍                                          | 47/150 [00:06<00:14,  7.15it/s]"
     ]
    },
    {
     "name": "stdout",
     "output_type": "stream",
     "text": [
      "wget -P /media/kyohei/forAI/EMPIAR/11349/ ftp://empiar.pdbj.org/archive/11349/data/6688/FoilHole_11540421_Data_11537499_11537501_20210112_130044_fractions.tiff >> ftp_output.out\n",
      "wget -P /media/kyohei/forAI/EMPIAR/11349/ ftp://empiar.pdbj.org/archive/11349/data/6688/FoilHole_11540421_Data_11537502_11537504_20210112_130053_fractions.tiff >> ftp_output.out\n"
     ]
    },
    {
     "name": "stderr",
     "output_type": "stream",
     "text": [
      " 33%|████████████████████▎                                         | 49/150 [00:06<00:14,  7.14it/s]"
     ]
    },
    {
     "name": "stdout",
     "output_type": "stream",
     "text": [
      "wget -P /media/kyohei/forAI/EMPIAR/11349/ ftp://empiar.pdbj.org/archive/11349/data/6688/FoilHole_11540421_Data_11537505_11537507_20210112_130103_fractions.tiff >> ftp_output.out\n",
      "wget -P /media/kyohei/forAI/EMPIAR/11349/ ftp://empiar.pdbj.org/archive/11349/data/6688/FoilHole_11540421_Data_11537508_11537510_20210112_130113_fractions.tiff >> ftp_output.out\n"
     ]
    },
    {
     "name": "stderr",
     "output_type": "stream",
     "text": [
      " 34%|█████████████████████                                         | 51/150 [00:07<00:13,  7.09it/s]"
     ]
    },
    {
     "name": "stdout",
     "output_type": "stream",
     "text": [
      "wget -P /media/kyohei/forAI/EMPIAR/11349/ ftp://empiar.pdbj.org/archive/11349/data/6688/FoilHole_11540421_Data_11537511_11537513_20210112_130123_fractions.tiff >> ftp_output.out\n",
      "wget -P /media/kyohei/forAI/EMPIAR/11349/ ftp://empiar.pdbj.org/archive/11349/data/6688/FoilHole_11540422_Data_11537499_11537501_20210112_130133_fractions.tiff >> ftp_output.out\n"
     ]
    },
    {
     "name": "stderr",
     "output_type": "stream",
     "text": [
      " 35%|█████████████████████▉                                        | 53/150 [00:07<00:13,  7.22it/s]"
     ]
    },
    {
     "name": "stdout",
     "output_type": "stream",
     "text": [
      "wget -P /media/kyohei/forAI/EMPIAR/11349/ ftp://empiar.pdbj.org/archive/11349/data/6688/FoilHole_11540422_Data_11537502_11537504_20210112_130142_fractions.tiff >> ftp_output.out\n",
      "wget -P /media/kyohei/forAI/EMPIAR/11349/ ftp://empiar.pdbj.org/archive/11349/data/6688/FoilHole_11540422_Data_11537505_11537507_20210112_130152_fractions.tiff >> ftp_output.out\n"
     ]
    },
    {
     "name": "stderr",
     "output_type": "stream",
     "text": [
      " 37%|██████████████████████▋                                       | 55/150 [00:07<00:13,  7.19it/s]"
     ]
    },
    {
     "name": "stdout",
     "output_type": "stream",
     "text": [
      "wget -P /media/kyohei/forAI/EMPIAR/11349/ ftp://empiar.pdbj.org/archive/11349/data/6688/FoilHole_11540422_Data_11537508_11537510_20210112_130202_fractions.tiff >> ftp_output.out\n",
      "wget -P /media/kyohei/forAI/EMPIAR/11349/ ftp://empiar.pdbj.org/archive/11349/data/6688/FoilHole_11540422_Data_11537511_11537513_20210112_130212_fractions.tiff >> ftp_output.out\n"
     ]
    },
    {
     "name": "stderr",
     "output_type": "stream",
     "text": [
      " 38%|███████████████████████▌                                      | 57/150 [00:07<00:12,  7.19it/s]"
     ]
    },
    {
     "name": "stdout",
     "output_type": "stream",
     "text": [
      "wget -P /media/kyohei/forAI/EMPIAR/11349/ ftp://empiar.pdbj.org/archive/11349/data/6688/FoilHole_11540423_Data_11537499_11537501_20210112_125905_fractions.tiff >> ftp_output.out\n",
      "wget -P /media/kyohei/forAI/EMPIAR/11349/ ftp://empiar.pdbj.org/archive/11349/data/6688/FoilHole_11540423_Data_11537502_11537504_20210112_125915_fractions.tiff >> ftp_output.out\n"
     ]
    },
    {
     "name": "stderr",
     "output_type": "stream",
     "text": [
      " 39%|████████████████████████▍                                     | 59/150 [00:08<00:12,  7.25it/s]"
     ]
    },
    {
     "name": "stdout",
     "output_type": "stream",
     "text": [
      "wget -P /media/kyohei/forAI/EMPIAR/11349/ ftp://empiar.pdbj.org/archive/11349/data/6688/FoilHole_11540423_Data_11537505_11537507_20210112_125925_fractions.tiff >> ftp_output.out\n",
      "wget -P /media/kyohei/forAI/EMPIAR/11349/ ftp://empiar.pdbj.org/archive/11349/data/6688/FoilHole_11540423_Data_11537508_11537510_20210112_125935_fractions.tiff >> ftp_output.out\n"
     ]
    },
    {
     "name": "stderr",
     "output_type": "stream",
     "text": [
      " 41%|█████████████████████████▏                                    | 61/150 [00:08<00:12,  7.19it/s]"
     ]
    },
    {
     "name": "stdout",
     "output_type": "stream",
     "text": [
      "wget -P /media/kyohei/forAI/EMPIAR/11349/ ftp://empiar.pdbj.org/archive/11349/data/6688/FoilHole_11540423_Data_11537511_11537513_20210112_125945_fractions.tiff >> ftp_output.out\n",
      "wget -P /media/kyohei/forAI/EMPIAR/11349/ ftp://empiar.pdbj.org/archive/11349/data/6688/FoilHole_11540424_Data_11537499_11537501_20210112_130312_fractions.tiff >> ftp_output.out\n"
     ]
    },
    {
     "name": "stderr",
     "output_type": "stream",
     "text": [
      " 42%|██████████████████████████                                    | 63/150 [00:08<00:12,  7.19it/s]"
     ]
    },
    {
     "name": "stdout",
     "output_type": "stream",
     "text": [
      "wget -P /media/kyohei/forAI/EMPIAR/11349/ ftp://empiar.pdbj.org/archive/11349/data/6688/FoilHole_11540424_Data_11537502_11537504_20210112_130322_fractions.tiff >> ftp_output.out\n",
      "wget -P /media/kyohei/forAI/EMPIAR/11349/ ftp://empiar.pdbj.org/archive/11349/data/6688/FoilHole_11540424_Data_11537505_11537507_20210112_130331_fractions.tiff >> ftp_output.out\n"
     ]
    },
    {
     "name": "stderr",
     "output_type": "stream",
     "text": [
      " 43%|██████████████████████████▊                                   | 65/150 [00:09<00:11,  7.14it/s]"
     ]
    },
    {
     "name": "stdout",
     "output_type": "stream",
     "text": [
      "wget -P /media/kyohei/forAI/EMPIAR/11349/ ftp://empiar.pdbj.org/archive/11349/data/6688/FoilHole_11540424_Data_11537508_11537510_20210112_130341_fractions.tiff >> ftp_output.out\n",
      "wget -P /media/kyohei/forAI/EMPIAR/11349/ ftp://empiar.pdbj.org/archive/11349/data/6688/FoilHole_11540424_Data_11537511_11537513_20210112_130351_fractions.tiff >> ftp_output.out\n"
     ]
    },
    {
     "name": "stderr",
     "output_type": "stream",
     "text": [
      " 45%|███████████████████████████▋                                  | 67/150 [00:09<00:11,  7.04it/s]"
     ]
    },
    {
     "name": "stdout",
     "output_type": "stream",
     "text": [
      "wget -P /media/kyohei/forAI/EMPIAR/11349/ ftp://empiar.pdbj.org/archive/11349/data/6688/FoilHole_11540425_Data_11537499_11537501_20210112_131142_fractions.tiff >> ftp_output.out\n",
      "wget -P /media/kyohei/forAI/EMPIAR/11349/ ftp://empiar.pdbj.org/archive/11349/data/6688/FoilHole_11540425_Data_11537502_11537504_20210112_131152_fractions.tiff >> ftp_output.out\n"
     ]
    },
    {
     "name": "stderr",
     "output_type": "stream",
     "text": [
      " 46%|████████████████████████████▌                                 | 69/150 [00:09<00:11,  7.19it/s]"
     ]
    },
    {
     "name": "stdout",
     "output_type": "stream",
     "text": [
      "wget -P /media/kyohei/forAI/EMPIAR/11349/ ftp://empiar.pdbj.org/archive/11349/data/6688/FoilHole_11540425_Data_11537505_11537507_20210112_131201_fractions.tiff >> ftp_output.out\n",
      "wget -P /media/kyohei/forAI/EMPIAR/11349/ ftp://empiar.pdbj.org/archive/11349/data/6688/FoilHole_11540425_Data_11537508_11537510_20210112_131211_fractions.tiff >> ftp_output.out\n"
     ]
    },
    {
     "name": "stderr",
     "output_type": "stream",
     "text": [
      " 47%|█████████████████████████████▎                                | 71/150 [00:09<00:10,  7.19it/s]"
     ]
    },
    {
     "name": "stdout",
     "output_type": "stream",
     "text": [
      "wget -P /media/kyohei/forAI/EMPIAR/11349/ ftp://empiar.pdbj.org/archive/11349/data/6688/FoilHole_11540425_Data_11537511_11537513_20210112_131220_fractions.tiff >> ftp_output.out\n",
      "wget -P /media/kyohei/forAI/EMPIAR/11349/ ftp://empiar.pdbj.org/archive/11349/data/6688/FoilHole_11540426_Data_11537499_11537501_20210112_131004_fractions.tiff >> ftp_output.out\n"
     ]
    },
    {
     "name": "stderr",
     "output_type": "stream",
     "text": [
      " 49%|██████████████████████████████▏                               | 73/150 [00:10<00:10,  7.18it/s]"
     ]
    },
    {
     "name": "stdout",
     "output_type": "stream",
     "text": [
      "wget -P /media/kyohei/forAI/EMPIAR/11349/ ftp://empiar.pdbj.org/archive/11349/data/6688/FoilHole_11540426_Data_11537502_11537504_20210112_131014_fractions.tiff >> ftp_output.out\n",
      "wget -P /media/kyohei/forAI/EMPIAR/11349/ ftp://empiar.pdbj.org/archive/11349/data/6688/FoilHole_11540426_Data_11537505_11537507_20210112_131023_fractions.tiff >> ftp_output.out\n"
     ]
    },
    {
     "name": "stderr",
     "output_type": "stream",
     "text": [
      " 50%|███████████████████████████████                               | 75/150 [00:10<00:10,  7.25it/s]"
     ]
    },
    {
     "name": "stdout",
     "output_type": "stream",
     "text": [
      "wget -P /media/kyohei/forAI/EMPIAR/11349/ ftp://empiar.pdbj.org/archive/11349/data/6688/FoilHole_11540426_Data_11537508_11537510_20210112_131033_fractions.tiff >> ftp_output.out\n",
      "wget -P /media/kyohei/forAI/EMPIAR/11349/ ftp://empiar.pdbj.org/archive/11349/data/6688/FoilHole_11540426_Data_11537511_11537513_20210112_131043_fractions.tiff >> ftp_output.out\n"
     ]
    },
    {
     "name": "stderr",
     "output_type": "stream",
     "text": [
      " 51%|███████████████████████████████▊                              | 77/150 [00:10<00:10,  7.17it/s]"
     ]
    },
    {
     "name": "stdout",
     "output_type": "stream",
     "text": [
      "wget -P /media/kyohei/forAI/EMPIAR/11349/ ftp://empiar.pdbj.org/archive/11349/data/6688/FoilHole_11540427_Data_11537499_11537501_20210112_131230_fractions.tiff >> ftp_output.out\n",
      "wget -P /media/kyohei/forAI/EMPIAR/11349/ ftp://empiar.pdbj.org/archive/11349/data/6688/FoilHole_11540427_Data_11537502_11537504_20210112_131240_fractions.tiff >> ftp_output.out\n"
     ]
    },
    {
     "name": "stderr",
     "output_type": "stream",
     "text": [
      " 53%|████████████████████████████████▋                             | 79/150 [00:11<00:09,  7.17it/s]"
     ]
    },
    {
     "name": "stdout",
     "output_type": "stream",
     "text": [
      "wget -P /media/kyohei/forAI/EMPIAR/11349/ ftp://empiar.pdbj.org/archive/11349/data/6688/FoilHole_11540427_Data_11537505_11537507_20210112_131250_fractions.tiff >> ftp_output.out\n",
      "wget -P /media/kyohei/forAI/EMPIAR/11349/ ftp://empiar.pdbj.org/archive/11349/data/6688/FoilHole_11540427_Data_11537508_11537510_20210112_131259_fractions.tiff >> ftp_output.out\n"
     ]
    },
    {
     "name": "stderr",
     "output_type": "stream",
     "text": [
      " 54%|█████████████████████████████████▍                            | 81/150 [00:11<00:09,  7.18it/s]"
     ]
    },
    {
     "name": "stdout",
     "output_type": "stream",
     "text": [
      "wget -P /media/kyohei/forAI/EMPIAR/11349/ ftp://empiar.pdbj.org/archive/11349/data/6688/FoilHole_11540427_Data_11537511_11537513_20210112_131309_fractions.tiff >> ftp_output.out\n",
      "wget -P /media/kyohei/forAI/EMPIAR/11349/ ftp://empiar.pdbj.org/archive/11349/data/6688/FoilHole_11540429_Data_11537499_11537501_20210112_133150_fractions.tiff >> ftp_output.out\n"
     ]
    },
    {
     "name": "stderr",
     "output_type": "stream",
     "text": [
      " 55%|██████████████████████████████████▎                           | 83/150 [00:11<00:09,  7.01it/s]"
     ]
    },
    {
     "name": "stdout",
     "output_type": "stream",
     "text": [
      "wget -P /media/kyohei/forAI/EMPIAR/11349/ ftp://empiar.pdbj.org/archive/11349/data/6688/FoilHole_11540429_Data_11537502_11537504_20210112_133200_fractions.tiff >> ftp_output.out\n",
      "wget -P /media/kyohei/forAI/EMPIAR/11349/ ftp://empiar.pdbj.org/archive/11349/data/6688/FoilHole_11540429_Data_11537505_11537507_20210112_133211_fractions.tiff >> ftp_output.out\n"
     ]
    },
    {
     "name": "stderr",
     "output_type": "stream",
     "text": [
      " 57%|███████████████████████████████████▏                          | 85/150 [00:11<00:09,  7.13it/s]"
     ]
    },
    {
     "name": "stdout",
     "output_type": "stream",
     "text": [
      "wget -P /media/kyohei/forAI/EMPIAR/11349/ ftp://empiar.pdbj.org/archive/11349/data/6688/FoilHole_11540429_Data_11537508_11537510_20210112_133221_fractions.tiff >> ftp_output.out\n",
      "wget -P /media/kyohei/forAI/EMPIAR/11349/ ftp://empiar.pdbj.org/archive/11349/data/6688/FoilHole_11540429_Data_11537511_11537513_20210112_133231_fractions.tiff >> ftp_output.out\n"
     ]
    },
    {
     "name": "stderr",
     "output_type": "stream",
     "text": [
      " 58%|███████████████████████████████████▉                          | 87/150 [00:12<00:08,  7.23it/s]"
     ]
    },
    {
     "name": "stdout",
     "output_type": "stream",
     "text": [
      "wget -P /media/kyohei/forAI/EMPIAR/11349/ ftp://empiar.pdbj.org/archive/11349/data/6688/FoilHole_11540430_Data_11537499_11537501_20210112_132913_fractions.tiff >> ftp_output.out\n",
      "wget -P /media/kyohei/forAI/EMPIAR/11349/ ftp://empiar.pdbj.org/archive/11349/data/6688/FoilHole_11540430_Data_11537502_11537504_20210112_132924_fractions.tiff >> ftp_output.out\n"
     ]
    },
    {
     "name": "stderr",
     "output_type": "stream",
     "text": [
      " 59%|████████████████████████████████████▊                         | 89/150 [00:12<00:08,  7.13it/s]"
     ]
    },
    {
     "name": "stdout",
     "output_type": "stream",
     "text": [
      "wget -P /media/kyohei/forAI/EMPIAR/11349/ ftp://empiar.pdbj.org/archive/11349/data/6688/FoilHole_11540430_Data_11537505_11537507_20210112_132934_fractions.tiff >> ftp_output.out\n",
      "wget -P /media/kyohei/forAI/EMPIAR/11349/ ftp://empiar.pdbj.org/archive/11349/data/6688/FoilHole_11540430_Data_11537508_11537510_20210112_132944_fractions.tiff >> ftp_output.out\n"
     ]
    },
    {
     "name": "stderr",
     "output_type": "stream",
     "text": [
      " 61%|█████████████████████████████████████▌                        | 91/150 [00:12<00:08,  7.07it/s]"
     ]
    },
    {
     "name": "stdout",
     "output_type": "stream",
     "text": [
      "wget -P /media/kyohei/forAI/EMPIAR/11349/ ftp://empiar.pdbj.org/archive/11349/data/6688/FoilHole_11540430_Data_11537511_11537513_20210112_132955_fractions.tiff >> ftp_output.out\n",
      "wget -P /media/kyohei/forAI/EMPIAR/11349/ ftp://empiar.pdbj.org/archive/11349/data/6688/FoilHole_11540431_Data_11537499_11537501_20210112_130820_fractions.tiff >> ftp_output.out\n"
     ]
    },
    {
     "name": "stderr",
     "output_type": "stream",
     "text": [
      " 62%|██████████████████████████████████████▍                       | 93/150 [00:13<00:08,  7.12it/s]"
     ]
    },
    {
     "name": "stdout",
     "output_type": "stream",
     "text": [
      "wget -P /media/kyohei/forAI/EMPIAR/11349/ ftp://empiar.pdbj.org/archive/11349/data/6688/FoilHole_11540431_Data_11537502_11537504_20210112_130830_fractions.tiff >> ftp_output.out\n",
      "wget -P /media/kyohei/forAI/EMPIAR/11349/ ftp://empiar.pdbj.org/archive/11349/data/6688/FoilHole_11540431_Data_11537505_11537507_20210112_130840_fractions.tiff >> ftp_output.out\n"
     ]
    },
    {
     "name": "stderr",
     "output_type": "stream",
     "text": [
      " 63%|███████████████████████████████████████▎                      | 95/150 [00:13<00:07,  7.23it/s]"
     ]
    },
    {
     "name": "stdout",
     "output_type": "stream",
     "text": [
      "wget -P /media/kyohei/forAI/EMPIAR/11349/ ftp://empiar.pdbj.org/archive/11349/data/6688/FoilHole_11540431_Data_11537508_11537510_20210112_130849_fractions.tiff >> ftp_output.out\n",
      "wget -P /media/kyohei/forAI/EMPIAR/11349/ ftp://empiar.pdbj.org/archive/11349/data/6688/FoilHole_11540431_Data_11537511_11537513_20210112_130859_fractions.tiff >> ftp_output.out\n"
     ]
    },
    {
     "name": "stderr",
     "output_type": "stream",
     "text": [
      " 65%|████████████████████████████████████████                      | 97/150 [00:13<00:07,  7.19it/s]"
     ]
    },
    {
     "name": "stdout",
     "output_type": "stream",
     "text": [
      "wget -P /media/kyohei/forAI/EMPIAR/11349/ ftp://empiar.pdbj.org/archive/11349/data/6688/FoilHole_11540432_Data_11537499_11537501_20210112_130732_fractions.tiff >> ftp_output.out\n",
      "wget -P /media/kyohei/forAI/EMPIAR/11349/ ftp://empiar.pdbj.org/archive/11349/data/6688/FoilHole_11540432_Data_11537502_11537504_20210112_130742_fractions.tiff >> ftp_output.out\n"
     ]
    },
    {
     "name": "stderr",
     "output_type": "stream",
     "text": [
      " 66%|████████████████████████████████████████▉                     | 99/150 [00:13<00:07,  7.24it/s]"
     ]
    },
    {
     "name": "stdout",
     "output_type": "stream",
     "text": [
      "wget -P /media/kyohei/forAI/EMPIAR/11349/ ftp://empiar.pdbj.org/archive/11349/data/6688/FoilHole_11540432_Data_11537505_11537507_20210112_130751_fractions.tiff >> ftp_output.out\n",
      "wget -P /media/kyohei/forAI/EMPIAR/11349/ ftp://empiar.pdbj.org/archive/11349/data/6688/FoilHole_11540432_Data_11537508_11537510_20210112_130801_fractions.tiff >> ftp_output.out\n"
     ]
    },
    {
     "name": "stderr",
     "output_type": "stream",
     "text": [
      " 67%|█████████████████████████████████████████                    | 101/150 [00:14<00:06,  7.25it/s]"
     ]
    },
    {
     "name": "stdout",
     "output_type": "stream",
     "text": [
      "wget -P /media/kyohei/forAI/EMPIAR/11349/ ftp://empiar.pdbj.org/archive/11349/data/6688/FoilHole_11540432_Data_11537511_11537513_20210112_130811_fractions.tiff >> ftp_output.out\n",
      "wget -P /media/kyohei/forAI/EMPIAR/11349/ ftp://empiar.pdbj.org/archive/11349/data/6688/FoilHole_11540433_Data_11537499_11537501_20210112_132113_fractions.tiff >> ftp_output.out\n"
     ]
    },
    {
     "name": "stderr",
     "output_type": "stream",
     "text": [
      " 69%|█████████████████████████████████████████▉                   | 103/150 [00:14<00:06,  7.23it/s]"
     ]
    },
    {
     "name": "stdout",
     "output_type": "stream",
     "text": [
      "wget -P /media/kyohei/forAI/EMPIAR/11349/ ftp://empiar.pdbj.org/archive/11349/data/6688/FoilHole_11540433_Data_11537502_11537504_20210112_132123_fractions.tiff >> ftp_output.out\n",
      "wget -P /media/kyohei/forAI/EMPIAR/11349/ ftp://empiar.pdbj.org/archive/11349/data/6688/FoilHole_11540433_Data_11537505_11537507_20210112_132133_fractions.tiff >> ftp_output.out\n"
     ]
    },
    {
     "name": "stderr",
     "output_type": "stream",
     "text": [
      " 70%|██████████████████████████████████████████▋                  | 105/150 [00:14<00:06,  7.15it/s]"
     ]
    },
    {
     "name": "stdout",
     "output_type": "stream",
     "text": [
      "wget -P /media/kyohei/forAI/EMPIAR/11349/ ftp://empiar.pdbj.org/archive/11349/data/6688/FoilHole_11540433_Data_11537508_11537510_20210112_132144_fractions.tiff >> ftp_output.out\n",
      "wget -P /media/kyohei/forAI/EMPIAR/11349/ ftp://empiar.pdbj.org/archive/11349/data/6688/FoilHole_11540433_Data_11537511_11537513_20210112_132154_fractions.tiff >> ftp_output.out\n"
     ]
    },
    {
     "name": "stderr",
     "output_type": "stream",
     "text": [
      " 71%|███████████████████████████████████████████▌                 | 107/150 [00:14<00:05,  7.21it/s]"
     ]
    },
    {
     "name": "stdout",
     "output_type": "stream",
     "text": [
      "wget -P /media/kyohei/forAI/EMPIAR/11349/ ftp://empiar.pdbj.org/archive/11349/data/6688/FoilHole_11540434_Data_11537499_11537501_20210112_131742_fractions.tiff >> ftp_output.out\n",
      "wget -P /media/kyohei/forAI/EMPIAR/11349/ ftp://empiar.pdbj.org/archive/11349/data/6688/FoilHole_11540434_Data_11537502_11537504_20210112_131755_fractions.tiff >> ftp_output.out\n"
     ]
    },
    {
     "name": "stderr",
     "output_type": "stream",
     "text": [
      " 73%|████████████████████████████████████████████▎                | 109/150 [00:15<00:05,  7.22it/s]"
     ]
    },
    {
     "name": "stdout",
     "output_type": "stream",
     "text": [
      "wget -P /media/kyohei/forAI/EMPIAR/11349/ ftp://empiar.pdbj.org/archive/11349/data/6688/FoilHole_11540434_Data_11537505_11537507_20210112_131805_fractions.tiff >> ftp_output.out\n",
      "wget -P /media/kyohei/forAI/EMPIAR/11349/ ftp://empiar.pdbj.org/archive/11349/data/6688/FoilHole_11540434_Data_11537508_11537510_20210112_131815_fractions.tiff >> ftp_output.out\n"
     ]
    },
    {
     "name": "stderr",
     "output_type": "stream",
     "text": [
      " 74%|█████████████████████████████████████████████▏               | 111/150 [00:15<00:05,  7.24it/s]"
     ]
    },
    {
     "name": "stdout",
     "output_type": "stream",
     "text": [
      "wget -P /media/kyohei/forAI/EMPIAR/11349/ ftp://empiar.pdbj.org/archive/11349/data/6688/FoilHole_11540434_Data_11537511_11537513_20210112_131826_fractions.tiff >> ftp_output.out\n",
      "wget -P /media/kyohei/forAI/EMPIAR/11349/ ftp://empiar.pdbj.org/archive/11349/data/6688/FoilHole_11540435_Data_11537499_11537501_20210112_131837_fractions.tiff >> ftp_output.out\n"
     ]
    },
    {
     "name": "stderr",
     "output_type": "stream",
     "text": [
      " 75%|█████████████████████████████████████████████▉               | 113/150 [00:15<00:05,  7.27it/s]"
     ]
    },
    {
     "name": "stdout",
     "output_type": "stream",
     "text": [
      "wget -P /media/kyohei/forAI/EMPIAR/11349/ ftp://empiar.pdbj.org/archive/11349/data/6688/FoilHole_11540435_Data_11537502_11537504_20210112_131847_fractions.tiff >> ftp_output.out\n",
      "wget -P /media/kyohei/forAI/EMPIAR/11349/ ftp://empiar.pdbj.org/archive/11349/data/6688/FoilHole_11540435_Data_11537505_11537507_20210112_131857_fractions.tiff >> ftp_output.out\n"
     ]
    },
    {
     "name": "stderr",
     "output_type": "stream",
     "text": [
      " 77%|██████████████████████████████████████████████▊              | 115/150 [00:16<00:04,  7.25it/s]"
     ]
    },
    {
     "name": "stdout",
     "output_type": "stream",
     "text": [
      "wget -P /media/kyohei/forAI/EMPIAR/11349/ ftp://empiar.pdbj.org/archive/11349/data/6688/FoilHole_11540435_Data_11537508_11537510_20210112_131908_fractions.tiff >> ftp_output.out\n",
      "wget -P /media/kyohei/forAI/EMPIAR/11349/ ftp://empiar.pdbj.org/archive/11349/data/6688/FoilHole_11540435_Data_11537511_11537513_20210112_131918_fractions.tiff >> ftp_output.out\n"
     ]
    },
    {
     "name": "stderr",
     "output_type": "stream",
     "text": [
      " 78%|███████████████████████████████████████████████▌             | 117/150 [00:16<00:04,  7.26it/s]"
     ]
    },
    {
     "name": "stdout",
     "output_type": "stream",
     "text": [
      "wget -P /media/kyohei/forAI/EMPIAR/11349/ ftp://empiar.pdbj.org/archive/11349/data/6688/FoilHole_11540436_Data_11537499_11537501_20210112_132205_fractions.tiff >> ftp_output.out\n",
      "wget -P /media/kyohei/forAI/EMPIAR/11349/ ftp://empiar.pdbj.org/archive/11349/data/6688/FoilHole_11540436_Data_11537502_11537504_20210112_132215_fractions.tiff >> ftp_output.out\n"
     ]
    },
    {
     "name": "stderr",
     "output_type": "stream",
     "text": [
      " 79%|████████████████████████████████████████████████▍            | 119/150 [00:16<00:04,  7.29it/s]"
     ]
    },
    {
     "name": "stdout",
     "output_type": "stream",
     "text": [
      "wget -P /media/kyohei/forAI/EMPIAR/11349/ ftp://empiar.pdbj.org/archive/11349/data/6688/FoilHole_11540436_Data_11537505_11537507_20210112_132225_fractions.tiff >> ftp_output.out\n",
      "wget -P /media/kyohei/forAI/EMPIAR/11349/ ftp://empiar.pdbj.org/archive/11349/data/6688/FoilHole_11540436_Data_11537508_11537510_20210112_132236_fractions.tiff >> ftp_output.out\n"
     ]
    },
    {
     "name": "stderr",
     "output_type": "stream",
     "text": [
      " 81%|█████████████████████████████████████████████████▏           | 121/150 [00:16<00:03,  7.28it/s]"
     ]
    },
    {
     "name": "stdout",
     "output_type": "stream",
     "text": [
      "wget -P /media/kyohei/forAI/EMPIAR/11349/ ftp://empiar.pdbj.org/archive/11349/data/6688/FoilHole_11540436_Data_11537511_11537513_20210112_132246_fractions.tiff >> ftp_output.out\n",
      "wget -P /media/kyohei/forAI/EMPIAR/11349/ ftp://empiar.pdbj.org/archive/11349/data/6688/FoilHole_11540438_Data_11537499_11537501_20210112_134559_fractions.tiff >> ftp_output.out\n"
     ]
    },
    {
     "name": "stderr",
     "output_type": "stream",
     "text": [
      " 82%|██████████████████████████████████████████████████           | 123/150 [00:17<00:03,  7.16it/s]"
     ]
    },
    {
     "name": "stdout",
     "output_type": "stream",
     "text": [
      "wget -P /media/kyohei/forAI/EMPIAR/11349/ ftp://empiar.pdbj.org/archive/11349/data/6688/FoilHole_11540438_Data_11537502_11537504_20210112_134609_fractions.tiff >> ftp_output.out\n",
      "wget -P /media/kyohei/forAI/EMPIAR/11349/ ftp://empiar.pdbj.org/archive/11349/data/6688/FoilHole_11540438_Data_11537505_11537507_20210112_134620_fractions.tiff >> ftp_output.out\n"
     ]
    },
    {
     "name": "stderr",
     "output_type": "stream",
     "text": [
      " 83%|██████████████████████████████████████████████████▊          | 125/150 [00:17<00:03,  7.17it/s]"
     ]
    },
    {
     "name": "stdout",
     "output_type": "stream",
     "text": [
      "wget -P /media/kyohei/forAI/EMPIAR/11349/ ftp://empiar.pdbj.org/archive/11349/data/6688/FoilHole_11540438_Data_11537508_11537510_20210112_134631_fractions.tiff >> ftp_output.out\n",
      "wget -P /media/kyohei/forAI/EMPIAR/11349/ ftp://empiar.pdbj.org/archive/11349/data/6688/FoilHole_11540438_Data_11537511_11537513_20210112_134641_fractions.tiff >> ftp_output.out\n"
     ]
    },
    {
     "name": "stderr",
     "output_type": "stream",
     "text": [
      " 85%|███████████████████████████████████████████████████▋         | 127/150 [00:17<00:03,  7.17it/s]"
     ]
    },
    {
     "name": "stdout",
     "output_type": "stream",
     "text": [
      "wget -P /media/kyohei/forAI/EMPIAR/11349/ ftp://empiar.pdbj.org/archive/11349/data/6688/FoilHole_11540439_Data_11537499_11537501_20210112_134744_fractions.tiff >> ftp_output.out\n",
      "wget -P /media/kyohei/forAI/EMPIAR/11349/ ftp://empiar.pdbj.org/archive/11349/data/6688/FoilHole_11540439_Data_11537502_11537504_20210112_134754_fractions.tiff >> ftp_output.out\n"
     ]
    },
    {
     "name": "stderr",
     "output_type": "stream",
     "text": [
      " 86%|████████████████████████████████████████████████████▍        | 129/150 [00:18<00:02,  7.10it/s]"
     ]
    },
    {
     "name": "stdout",
     "output_type": "stream",
     "text": [
      "wget -P /media/kyohei/forAI/EMPIAR/11349/ ftp://empiar.pdbj.org/archive/11349/data/6688/FoilHole_11540439_Data_11537505_11537507_20210112_134804_fractions.tiff >> ftp_output.out\n",
      "wget -P /media/kyohei/forAI/EMPIAR/11349/ ftp://empiar.pdbj.org/archive/11349/data/6688/FoilHole_11540439_Data_11537508_11537510_20210112_134815_fractions.tiff >> ftp_output.out\n"
     ]
    },
    {
     "name": "stderr",
     "output_type": "stream",
     "text": [
      " 87%|█████████████████████████████████████████████████████▎       | 131/150 [00:18<00:02,  7.25it/s]"
     ]
    },
    {
     "name": "stdout",
     "output_type": "stream",
     "text": [
      "wget -P /media/kyohei/forAI/EMPIAR/11349/ ftp://empiar.pdbj.org/archive/11349/data/6688/FoilHole_11540439_Data_11537511_11537513_20210112_134825_fractions.tiff >> ftp_output.out\n",
      "wget -P /media/kyohei/forAI/EMPIAR/11349/ ftp://empiar.pdbj.org/archive/11349/data/6688/FoilHole_11540440_Data_11537499_11537501_20210112_135133_fractions.tiff >> ftp_output.out\n"
     ]
    },
    {
     "name": "stderr",
     "output_type": "stream",
     "text": [
      " 89%|██████████████████████████████████████████████████████       | 133/150 [00:18<00:02,  7.22it/s]"
     ]
    },
    {
     "name": "stdout",
     "output_type": "stream",
     "text": [
      "wget -P /media/kyohei/forAI/EMPIAR/11349/ ftp://empiar.pdbj.org/archive/11349/data/6688/FoilHole_11540440_Data_11537502_11537504_20210112_135144_fractions.tiff >> ftp_output.out\n",
      "wget -P /media/kyohei/forAI/EMPIAR/11349/ ftp://empiar.pdbj.org/archive/11349/data/6688/FoilHole_11540440_Data_11537505_11537507_20210112_135154_fractions.tiff >> ftp_output.out\n"
     ]
    },
    {
     "name": "stderr",
     "output_type": "stream",
     "text": [
      " 90%|██████████████████████████████████████████████████████▉      | 135/150 [00:18<00:02,  6.98it/s]"
     ]
    },
    {
     "name": "stdout",
     "output_type": "stream",
     "text": [
      "wget -P /media/kyohei/forAI/EMPIAR/11349/ ftp://empiar.pdbj.org/archive/11349/data/6688/FoilHole_11540440_Data_11537508_11537510_20210112_135204_fractions.tiff >> ftp_output.out\n",
      "wget -P /media/kyohei/forAI/EMPIAR/11349/ ftp://empiar.pdbj.org/archive/11349/data/6688/FoilHole_11540440_Data_11537511_11537513_20210112_135215_fractions.tiff >> ftp_output.out\n"
     ]
    },
    {
     "name": "stderr",
     "output_type": "stream",
     "text": [
      " 91%|███████████████████████████████████████████████████████▋     | 137/150 [00:19<00:01,  7.12it/s]"
     ]
    },
    {
     "name": "stdout",
     "output_type": "stream",
     "text": [
      "wget -P /media/kyohei/forAI/EMPIAR/11349/ ftp://empiar.pdbj.org/archive/11349/data/6688/FoilHole_11540441_Data_11537499_11537501_20210112_140231_fractions.tiff >> ftp_output.out\n",
      "wget -P /media/kyohei/forAI/EMPIAR/11349/ ftp://empiar.pdbj.org/archive/11349/data/6688/FoilHole_11540441_Data_11537502_11537504_20210112_140241_fractions.tiff >> ftp_output.out\n"
     ]
    },
    {
     "name": "stderr",
     "output_type": "stream",
     "text": [
      " 93%|████████████████████████████████████████████████████████▌    | 139/150 [00:19<00:01,  7.09it/s]"
     ]
    },
    {
     "name": "stdout",
     "output_type": "stream",
     "text": [
      "wget -P /media/kyohei/forAI/EMPIAR/11349/ ftp://empiar.pdbj.org/archive/11349/data/6688/FoilHole_11540441_Data_11537505_11537507_20210112_140252_fractions.tiff >> ftp_output.out\n",
      "wget -P /media/kyohei/forAI/EMPIAR/11349/ ftp://empiar.pdbj.org/archive/11349/data/6688/FoilHole_11540441_Data_11537508_11537510_20210112_140303_fractions.tiff >> ftp_output.out\n"
     ]
    },
    {
     "name": "stderr",
     "output_type": "stream",
     "text": [
      " 94%|█████████████████████████████████████████████████████████▎   | 141/150 [00:19<00:01,  6.82it/s]"
     ]
    },
    {
     "name": "stdout",
     "output_type": "stream",
     "text": [
      "wget -P /media/kyohei/forAI/EMPIAR/11349/ ftp://empiar.pdbj.org/archive/11349/data/6688/FoilHole_11540441_Data_11537511_11537513_20210112_140313_fractions.tiff >> ftp_output.out\n",
      "wget -P /media/kyohei/forAI/EMPIAR/11349/ ftp://empiar.pdbj.org/archive/11349/data/6688/FoilHole_11540442_Data_11537499_11537501_20210112_140047_fractions.tiff >> ftp_output.out\n"
     ]
    },
    {
     "name": "stderr",
     "output_type": "stream",
     "text": [
      " 95%|██████████████████████████████████████████████████████████▏  | 143/150 [00:19<00:00,  7.01it/s]"
     ]
    },
    {
     "name": "stdout",
     "output_type": "stream",
     "text": [
      "wget -P /media/kyohei/forAI/EMPIAR/11349/ ftp://empiar.pdbj.org/archive/11349/data/6688/FoilHole_11540442_Data_11537502_11537504_20210112_140058_fractions.tiff >> ftp_output.out\n",
      "wget -P /media/kyohei/forAI/EMPIAR/11349/ ftp://empiar.pdbj.org/archive/11349/data/6688/FoilHole_11540442_Data_11537505_11537507_20210112_140108_fractions.tiff >> ftp_output.out\n"
     ]
    },
    {
     "name": "stderr",
     "output_type": "stream",
     "text": [
      " 97%|██████████████████████████████████████████████████████████▉  | 145/150 [00:20<00:00,  7.12it/s]"
     ]
    },
    {
     "name": "stdout",
     "output_type": "stream",
     "text": [
      "wget -P /media/kyohei/forAI/EMPIAR/11349/ ftp://empiar.pdbj.org/archive/11349/data/6688/FoilHole_11540442_Data_11537508_11537510_20210112_140119_fractions.tiff >> ftp_output.out\n",
      "wget -P /media/kyohei/forAI/EMPIAR/11349/ ftp://empiar.pdbj.org/archive/11349/data/6688/FoilHole_11540442_Data_11537511_11537513_20210112_140129_fractions.tiff >> ftp_output.out\n"
     ]
    },
    {
     "name": "stderr",
     "output_type": "stream",
     "text": [
      " 98%|███████████████████████████████████████████████████████████▊ | 147/150 [00:20<00:00,  7.23it/s]"
     ]
    },
    {
     "name": "stdout",
     "output_type": "stream",
     "text": [
      "wget -P /media/kyohei/forAI/EMPIAR/11349/ ftp://empiar.pdbj.org/archive/11349/data/6688/FoilHole_11540443_Data_11537499_11537501_20210112_140139_fractions.tiff >> ftp_output.out\n",
      "wget -P /media/kyohei/forAI/EMPIAR/11349/ ftp://empiar.pdbj.org/archive/11349/data/6688/FoilHole_11540443_Data_11537502_11537504_20210112_140150_fractions.tiff >> ftp_output.out\n"
     ]
    },
    {
     "name": "stderr",
     "output_type": "stream",
     "text": [
      " 99%|████████████████████████████████████████████████████████████▌| 149/150 [00:20<00:00,  7.29it/s]"
     ]
    },
    {
     "name": "stdout",
     "output_type": "stream",
     "text": [
      "wget -P /media/kyohei/forAI/EMPIAR/11349/ ftp://empiar.pdbj.org/archive/11349/data/6688/FoilHole_11540443_Data_11537505_11537507_20210112_140200_fractions.tiff >> ftp_output.out\n",
      "wget -P /media/kyohei/forAI/EMPIAR/11349/ ftp://empiar.pdbj.org/archive/11349/data/6688/FoilHole_11540443_Data_11537508_11537510_20210112_140211_fractions.tiff >> ftp_output.out\n"
     ]
    },
    {
     "name": "stderr",
     "output_type": "stream",
     "text": [
      "100%|█████████████████████████████████████████████████████████████| 150/150 [00:20<00:00,  7.16it/s]\n",
      "lftp: /home/kyohei/miniconda3/envs/cryoem/lib/libtinfo.so.6: no version information available (required by lftp)\n"
     ]
    },
    {
     "name": "stdout",
     "output_type": "stream",
     "text": [
      "lftp -c \"open ftp://ftp.ebi.ac.uk/empiar/world_availability/11351/data/20210409_Nureki_ikko2_CDS_data/; cls -1 --sort name *.tif\" | head -150 > filelist_11351.txt \n"
     ]
    },
    {
     "name": "stderr",
     "output_type": "stream",
     "text": [
      "cls: cls (filter): Broken pipe\n",
      "100%|█████████████████████████████████████████████████████████| 150/150 [00:00<00:00, 347594.25it/s]\n",
      "lftp: /home/kyohei/miniconda3/envs/cryoem/lib/libtinfo.so.6: no version information available (required by lftp)\n"
     ]
    },
    {
     "name": "stdout",
     "output_type": "stream",
     "text": [
      "lftp -c \"open ftp://ftp.ebi.ac.uk/empiar/world_availability/11387/data/Enp1TAP_Movies_1/; cls -1 --sort name *.tif\" | head -150 > filelist_11387.txt \n"
     ]
    },
    {
     "name": "stderr",
     "output_type": "stream",
     "text": [
      "cls: cls (filter): Broken pipe\n",
      "  1%|▍                                                              | 1/150 [00:00<00:21,  6.99it/s]"
     ]
    },
    {
     "name": "stdout",
     "output_type": "stream",
     "text": [
      "wget -P /media/kyohei/forAI/EMPIAR/11387/ ftp://empiar.pdbj.org/archive/11387/data/Enp1TAP_Movies_1/2022-03-08_17.48.14_GP162-2_253_000.tif >> ftp_output.out\n",
      "wget -P /media/kyohei/forAI/EMPIAR/11387/ ftp://empiar.pdbj.org/archive/11387/data/Enp1TAP_Movies_1/2022-03-08_17.48.33_GP162-2_253_001.tif >> ftp_output.out\n"
     ]
    },
    {
     "name": "stderr",
     "output_type": "stream",
     "text": [
      "  2%|█▎                                                             | 3/150 [00:00<00:20,  7.21it/s]"
     ]
    },
    {
     "name": "stdout",
     "output_type": "stream",
     "text": [
      "wget -P /media/kyohei/forAI/EMPIAR/11387/ ftp://empiar.pdbj.org/archive/11387/data/Enp1TAP_Movies_1/2022-03-08_17.48.50_GP162-2_253_002.tif >> ftp_output.out\n",
      "wget -P /media/kyohei/forAI/EMPIAR/11387/ ftp://empiar.pdbj.org/archive/11387/data/Enp1TAP_Movies_1/2022-03-08_17.49.07_GP162-2_253_003.tif >> ftp_output.out\n"
     ]
    },
    {
     "name": "stderr",
     "output_type": "stream",
     "text": [
      "  3%|██                                                             | 5/150 [00:00<00:20,  7.17it/s]"
     ]
    },
    {
     "name": "stdout",
     "output_type": "stream",
     "text": [
      "wget -P /media/kyohei/forAI/EMPIAR/11387/ ftp://empiar.pdbj.org/archive/11387/data/Enp1TAP_Movies_1/2022-03-08_17.49.24_GP162-2_253_004.tif >> ftp_output.out\n",
      "wget -P /media/kyohei/forAI/EMPIAR/11387/ ftp://empiar.pdbj.org/archive/11387/data/Enp1TAP_Movies_1/2022-03-08_17.49.42_GP162-2_253_005.tif >> ftp_output.out\n"
     ]
    },
    {
     "name": "stderr",
     "output_type": "stream",
     "text": [
      "  5%|██▉                                                            | 7/150 [00:00<00:20,  7.13it/s]"
     ]
    },
    {
     "name": "stdout",
     "output_type": "stream",
     "text": [
      "wget -P /media/kyohei/forAI/EMPIAR/11387/ ftp://empiar.pdbj.org/archive/11387/data/Enp1TAP_Movies_1/2022-03-08_17.50.00_GP162-2_253_006.tif >> ftp_output.out\n",
      "wget -P /media/kyohei/forAI/EMPIAR/11387/ ftp://empiar.pdbj.org/archive/11387/data/Enp1TAP_Movies_1/2022-03-08_17.50.17_GP162-2_253_007.tif >> ftp_output.out\n"
     ]
    },
    {
     "name": "stderr",
     "output_type": "stream",
     "text": [
      "  6%|███▊                                                           | 9/150 [00:01<00:19,  7.13it/s]"
     ]
    },
    {
     "name": "stdout",
     "output_type": "stream",
     "text": [
      "wget -P /media/kyohei/forAI/EMPIAR/11387/ ftp://empiar.pdbj.org/archive/11387/data/Enp1TAP_Movies_1/2022-03-08_17.50.34_GP162-2_253_008.tif >> ftp_output.out\n",
      "wget -P /media/kyohei/forAI/EMPIAR/11387/ ftp://empiar.pdbj.org/archive/11387/data/Enp1TAP_Movies_1/2022-03-08_17.50.54_GP162-2_253_009.tif >> ftp_output.out\n"
     ]
    },
    {
     "name": "stderr",
     "output_type": "stream",
     "text": [
      "  7%|████▌                                                         | 11/150 [00:01<00:20,  6.90it/s]"
     ]
    },
    {
     "name": "stdout",
     "output_type": "stream",
     "text": [
      "wget -P /media/kyohei/forAI/EMPIAR/11387/ ftp://empiar.pdbj.org/archive/11387/data/Enp1TAP_Movies_1/2022-03-08_17.51.15_GP162-2_253_010.tif >> ftp_output.out\n",
      "wget -P /media/kyohei/forAI/EMPIAR/11387/ ftp://empiar.pdbj.org/archive/11387/data/Enp1TAP_Movies_1/2022-03-08_17.51.32_GP162-2_253_011.tif >> ftp_output.out\n"
     ]
    },
    {
     "name": "stderr",
     "output_type": "stream",
     "text": [
      "  9%|█████▎                                                        | 13/150 [00:01<00:19,  7.08it/s]"
     ]
    },
    {
     "name": "stdout",
     "output_type": "stream",
     "text": [
      "wget -P /media/kyohei/forAI/EMPIAR/11387/ ftp://empiar.pdbj.org/archive/11387/data/Enp1TAP_Movies_1/2022-03-08_17.51.50_GP162-2_253_012.tif >> ftp_output.out\n",
      "wget -P /media/kyohei/forAI/EMPIAR/11387/ ftp://empiar.pdbj.org/archive/11387/data/Enp1TAP_Movies_1/2022-03-08_17.52.07_GP162-2_253_013.tif >> ftp_output.out\n"
     ]
    },
    {
     "name": "stderr",
     "output_type": "stream",
     "text": [
      " 10%|██████▏                                                       | 15/150 [00:02<00:18,  7.14it/s]"
     ]
    },
    {
     "name": "stdout",
     "output_type": "stream",
     "text": [
      "wget -P /media/kyohei/forAI/EMPIAR/11387/ ftp://empiar.pdbj.org/archive/11387/data/Enp1TAP_Movies_1/2022-03-08_17.52.25_GP162-2_253_014.tif >> ftp_output.out\n",
      "wget -P /media/kyohei/forAI/EMPIAR/11387/ ftp://empiar.pdbj.org/archive/11387/data/Enp1TAP_Movies_1/2022-03-08_17.52.42_GP162-2_253_015.tif >> ftp_output.out\n"
     ]
    },
    {
     "name": "stderr",
     "output_type": "stream",
     "text": [
      " 11%|███████                                                       | 17/150 [00:02<00:18,  7.13it/s]"
     ]
    },
    {
     "name": "stdout",
     "output_type": "stream",
     "text": [
      "wget -P /media/kyohei/forAI/EMPIAR/11387/ ftp://empiar.pdbj.org/archive/11387/data/Enp1TAP_Movies_1/2022-03-08_17.52.59_GP162-2_253_016.tif >> ftp_output.out\n",
      "wget -P /media/kyohei/forAI/EMPIAR/11387/ ftp://empiar.pdbj.org/archive/11387/data/Enp1TAP_Movies_1/2022-03-08_17.53.17_GP162-2_253_017.tif >> ftp_output.out\n"
     ]
    },
    {
     "name": "stderr",
     "output_type": "stream",
     "text": [
      " 13%|███████▊                                                      | 19/150 [00:02<00:18,  7.13it/s]"
     ]
    },
    {
     "name": "stdout",
     "output_type": "stream",
     "text": [
      "wget -P /media/kyohei/forAI/EMPIAR/11387/ ftp://empiar.pdbj.org/archive/11387/data/Enp1TAP_Movies_1/2022-03-08_17.53.35_GP162-2_253_018.tif >> ftp_output.out\n",
      "wget -P /media/kyohei/forAI/EMPIAR/11387/ ftp://empiar.pdbj.org/archive/11387/data/Enp1TAP_Movies_1/2022-03-08_17.53.52_GP162-2_253_019.tif >> ftp_output.out\n"
     ]
    },
    {
     "name": "stderr",
     "output_type": "stream",
     "text": [
      " 14%|████████▋                                                     | 21/150 [00:02<00:18,  7.15it/s]"
     ]
    },
    {
     "name": "stdout",
     "output_type": "stream",
     "text": [
      "wget -P /media/kyohei/forAI/EMPIAR/11387/ ftp://empiar.pdbj.org/archive/11387/data/Enp1TAP_Movies_1/2022-03-08_17.54.09_GP162-2_253_020.tif >> ftp_output.out\n",
      "wget -P /media/kyohei/forAI/EMPIAR/11387/ ftp://empiar.pdbj.org/archive/11387/data/Enp1TAP_Movies_1/2022-03-08_17.54.27_GP162-2_253_021.tif >> ftp_output.out\n"
     ]
    },
    {
     "name": "stderr",
     "output_type": "stream",
     "text": [
      " 15%|█████████▌                                                    | 23/150 [00:03<00:17,  7.14it/s]"
     ]
    },
    {
     "name": "stdout",
     "output_type": "stream",
     "text": [
      "wget -P /media/kyohei/forAI/EMPIAR/11387/ ftp://empiar.pdbj.org/archive/11387/data/Enp1TAP_Movies_1/2022-03-08_17.54.44_GP162-2_253_022.tif >> ftp_output.out\n",
      "wget -P /media/kyohei/forAI/EMPIAR/11387/ ftp://empiar.pdbj.org/archive/11387/data/Enp1TAP_Movies_1/2022-03-08_17.55.01_GP162-2_253_023.tif >> ftp_output.out\n"
     ]
    },
    {
     "name": "stderr",
     "output_type": "stream",
     "text": [
      " 17%|██████████▎                                                   | 25/150 [00:03<00:17,  7.18it/s]"
     ]
    },
    {
     "name": "stdout",
     "output_type": "stream",
     "text": [
      "wget -P /media/kyohei/forAI/EMPIAR/11387/ ftp://empiar.pdbj.org/archive/11387/data/Enp1TAP_Movies_1/2022-03-08_17.55.18_GP162-2_253_024.tif >> ftp_output.out\n",
      "wget -P /media/kyohei/forAI/EMPIAR/11387/ ftp://empiar.pdbj.org/archive/11387/data/Enp1TAP_Movies_1/2022-03-08_17.57.31_GP162-2_254_000.tif >> ftp_output.out\n"
     ]
    },
    {
     "name": "stderr",
     "output_type": "stream",
     "text": [
      " 18%|███████████▏                                                  | 27/150 [00:03<00:17,  7.20it/s]"
     ]
    },
    {
     "name": "stdout",
     "output_type": "stream",
     "text": [
      "wget -P /media/kyohei/forAI/EMPIAR/11387/ ftp://empiar.pdbj.org/archive/11387/data/Enp1TAP_Movies_1/2022-03-08_17.57.49_GP162-2_254_001.tif >> ftp_output.out\n",
      "wget -P /media/kyohei/forAI/EMPIAR/11387/ ftp://empiar.pdbj.org/archive/11387/data/Enp1TAP_Movies_1/2022-03-08_17.58.07_GP162-2_254_002.tif >> ftp_output.out\n"
     ]
    },
    {
     "name": "stderr",
     "output_type": "stream",
     "text": [
      " 19%|███████████▉                                                  | 29/150 [00:04<00:16,  7.20it/s]"
     ]
    },
    {
     "name": "stdout",
     "output_type": "stream",
     "text": [
      "wget -P /media/kyohei/forAI/EMPIAR/11387/ ftp://empiar.pdbj.org/archive/11387/data/Enp1TAP_Movies_1/2022-03-08_17.58.24_GP162-2_254_003.tif >> ftp_output.out\n",
      "wget -P /media/kyohei/forAI/EMPIAR/11387/ ftp://empiar.pdbj.org/archive/11387/data/Enp1TAP_Movies_1/2022-03-08_17.58.41_GP162-2_254_004.tif >> ftp_output.out\n"
     ]
    },
    {
     "name": "stderr",
     "output_type": "stream",
     "text": [
      " 21%|████████████▊                                                 | 31/150 [00:04<00:16,  7.07it/s]"
     ]
    },
    {
     "name": "stdout",
     "output_type": "stream",
     "text": [
      "wget -P /media/kyohei/forAI/EMPIAR/11387/ ftp://empiar.pdbj.org/archive/11387/data/Enp1TAP_Movies_1/2022-03-08_17.58.59_GP162-2_254_005.tif >> ftp_output.out\n",
      "wget -P /media/kyohei/forAI/EMPIAR/11387/ ftp://empiar.pdbj.org/archive/11387/data/Enp1TAP_Movies_1/2022-03-08_17.59.16_GP162-2_254_006.tif >> ftp_output.out\n"
     ]
    },
    {
     "name": "stderr",
     "output_type": "stream",
     "text": [
      " 22%|█████████████▋                                                | 33/150 [00:04<00:16,  7.12it/s]"
     ]
    },
    {
     "name": "stdout",
     "output_type": "stream",
     "text": [
      "wget -P /media/kyohei/forAI/EMPIAR/11387/ ftp://empiar.pdbj.org/archive/11387/data/Enp1TAP_Movies_1/2022-03-08_17.59.33_GP162-2_254_007.tif >> ftp_output.out\n",
      "wget -P /media/kyohei/forAI/EMPIAR/11387/ ftp://empiar.pdbj.org/archive/11387/data/Enp1TAP_Movies_1/2022-03-08_17.59.50_GP162-2_254_008.tif >> ftp_output.out\n"
     ]
    },
    {
     "name": "stderr",
     "output_type": "stream",
     "text": [
      " 23%|██████████████▍                                               | 35/150 [00:04<00:15,  7.19it/s]"
     ]
    },
    {
     "name": "stdout",
     "output_type": "stream",
     "text": [
      "wget -P /media/kyohei/forAI/EMPIAR/11387/ ftp://empiar.pdbj.org/archive/11387/data/Enp1TAP_Movies_1/2022-03-08_18.00.07_GP162-2_254_009.tif >> ftp_output.out\n",
      "wget -P /media/kyohei/forAI/EMPIAR/11387/ ftp://empiar.pdbj.org/archive/11387/data/Enp1TAP_Movies_1/2022-03-08_18.00.25_GP162-2_254_010.tif >> ftp_output.out\n"
     ]
    },
    {
     "name": "stderr",
     "output_type": "stream",
     "text": [
      " 25%|███████████████▎                                              | 37/150 [00:05<00:15,  7.21it/s]"
     ]
    },
    {
     "name": "stdout",
     "output_type": "stream",
     "text": [
      "wget -P /media/kyohei/forAI/EMPIAR/11387/ ftp://empiar.pdbj.org/archive/11387/data/Enp1TAP_Movies_1/2022-03-08_18.00.42_GP162-2_254_011.tif >> ftp_output.out\n",
      "wget -P /media/kyohei/forAI/EMPIAR/11387/ ftp://empiar.pdbj.org/archive/11387/data/Enp1TAP_Movies_1/2022-03-08_18.00.59_GP162-2_254_012.tif >> ftp_output.out\n"
     ]
    },
    {
     "name": "stderr",
     "output_type": "stream",
     "text": [
      " 26%|████████████████                                              | 39/150 [00:05<00:15,  7.26it/s]"
     ]
    },
    {
     "name": "stdout",
     "output_type": "stream",
     "text": [
      "wget -P /media/kyohei/forAI/EMPIAR/11387/ ftp://empiar.pdbj.org/archive/11387/data/Enp1TAP_Movies_1/2022-03-08_18.01.17_GP162-2_254_013.tif >> ftp_output.out\n",
      "wget -P /media/kyohei/forAI/EMPIAR/11387/ ftp://empiar.pdbj.org/archive/11387/data/Enp1TAP_Movies_1/2022-03-08_18.01.34_GP162-2_254_014.tif >> ftp_output.out\n"
     ]
    },
    {
     "name": "stderr",
     "output_type": "stream",
     "text": [
      " 27%|████████████████▉                                             | 41/150 [00:05<00:15,  6.91it/s]"
     ]
    },
    {
     "name": "stdout",
     "output_type": "stream",
     "text": [
      "wget -P /media/kyohei/forAI/EMPIAR/11387/ ftp://empiar.pdbj.org/archive/11387/data/Enp1TAP_Movies_1/2022-03-08_18.01.51_GP162-2_254_015.tif >> ftp_output.out\n",
      "wget -P /media/kyohei/forAI/EMPIAR/11387/ ftp://empiar.pdbj.org/archive/11387/data/Enp1TAP_Movies_1/2022-03-08_18.02.08_GP162-2_254_016.tif >> ftp_output.out\n"
     ]
    },
    {
     "name": "stderr",
     "output_type": "stream",
     "text": [
      " 29%|█████████████████▊                                            | 43/150 [00:06<00:15,  7.06it/s]"
     ]
    },
    {
     "name": "stdout",
     "output_type": "stream",
     "text": [
      "wget -P /media/kyohei/forAI/EMPIAR/11387/ ftp://empiar.pdbj.org/archive/11387/data/Enp1TAP_Movies_1/2022-03-08_18.02.25_GP162-2_254_017.tif >> ftp_output.out\n",
      "wget -P /media/kyohei/forAI/EMPIAR/11387/ ftp://empiar.pdbj.org/archive/11387/data/Enp1TAP_Movies_1/2022-03-08_18.02.43_GP162-2_254_018.tif >> ftp_output.out\n"
     ]
    },
    {
     "name": "stderr",
     "output_type": "stream",
     "text": [
      " 30%|██████████████████▌                                           | 45/150 [00:06<00:14,  7.10it/s]"
     ]
    },
    {
     "name": "stdout",
     "output_type": "stream",
     "text": [
      "wget -P /media/kyohei/forAI/EMPIAR/11387/ ftp://empiar.pdbj.org/archive/11387/data/Enp1TAP_Movies_1/2022-03-08_18.03.00_GP162-2_254_019.tif >> ftp_output.out\n",
      "wget -P /media/kyohei/forAI/EMPIAR/11387/ ftp://empiar.pdbj.org/archive/11387/data/Enp1TAP_Movies_1/2022-03-08_18.03.17_GP162-2_254_020.tif >> ftp_output.out\n"
     ]
    },
    {
     "name": "stderr",
     "output_type": "stream",
     "text": [
      " 31%|███████████████████▍                                          | 47/150 [00:06<00:15,  6.86it/s]"
     ]
    },
    {
     "name": "stdout",
     "output_type": "stream",
     "text": [
      "wget -P /media/kyohei/forAI/EMPIAR/11387/ ftp://empiar.pdbj.org/archive/11387/data/Enp1TAP_Movies_1/2022-03-08_18.03.34_GP162-2_254_021.tif >> ftp_output.out\n",
      "wget -P /media/kyohei/forAI/EMPIAR/11387/ ftp://empiar.pdbj.org/archive/11387/data/Enp1TAP_Movies_1/2022-03-08_18.03.51_GP162-2_254_022.tif >> ftp_output.out\n"
     ]
    },
    {
     "name": "stderr",
     "output_type": "stream",
     "text": [
      " 33%|████████████████████▎                                         | 49/150 [00:06<00:14,  7.02it/s]"
     ]
    },
    {
     "name": "stdout",
     "output_type": "stream",
     "text": [
      "wget -P /media/kyohei/forAI/EMPIAR/11387/ ftp://empiar.pdbj.org/archive/11387/data/Enp1TAP_Movies_1/2022-03-08_18.04.09_GP162-2_254_023.tif >> ftp_output.out\n",
      "wget -P /media/kyohei/forAI/EMPIAR/11387/ ftp://empiar.pdbj.org/archive/11387/data/Enp1TAP_Movies_1/2022-03-08_18.04.26_GP162-2_254_024.tif >> ftp_output.out\n"
     ]
    },
    {
     "name": "stderr",
     "output_type": "stream",
     "text": [
      " 34%|█████████████████████                                         | 51/150 [00:07<00:13,  7.14it/s]"
     ]
    },
    {
     "name": "stdout",
     "output_type": "stream",
     "text": [
      "wget -P /media/kyohei/forAI/EMPIAR/11387/ ftp://empiar.pdbj.org/archive/11387/data/Enp1TAP_Movies_1/2022-03-08_18.06.39_GP162-2_255_000.tif >> ftp_output.out\n",
      "wget -P /media/kyohei/forAI/EMPIAR/11387/ ftp://empiar.pdbj.org/archive/11387/data/Enp1TAP_Movies_1/2022-03-08_18.06.58_GP162-2_255_001.tif >> ftp_output.out\n"
     ]
    },
    {
     "name": "stderr",
     "output_type": "stream",
     "text": [
      " 35%|█████████████████████▉                                        | 53/150 [00:07<00:13,  7.12it/s]"
     ]
    },
    {
     "name": "stdout",
     "output_type": "stream",
     "text": [
      "wget -P /media/kyohei/forAI/EMPIAR/11387/ ftp://empiar.pdbj.org/archive/11387/data/Enp1TAP_Movies_1/2022-03-08_18.07.15_GP162-2_255_002.tif >> ftp_output.out\n",
      "wget -P /media/kyohei/forAI/EMPIAR/11387/ ftp://empiar.pdbj.org/archive/11387/data/Enp1TAP_Movies_1/2022-03-08_18.07.33_GP162-2_255_003.tif >> ftp_output.out\n"
     ]
    },
    {
     "name": "stderr",
     "output_type": "stream",
     "text": [
      " 37%|██████████████████████▋                                       | 55/150 [00:07<00:15,  6.12it/s]"
     ]
    },
    {
     "name": "stdout",
     "output_type": "stream",
     "text": [
      "wget -P /media/kyohei/forAI/EMPIAR/11387/ ftp://empiar.pdbj.org/archive/11387/data/Enp1TAP_Movies_1/2022-03-08_18.07.50_GP162-2_255_004.tif >> ftp_output.out\n",
      "wget -P /media/kyohei/forAI/EMPIAR/11387/ ftp://empiar.pdbj.org/archive/11387/data/Enp1TAP_Movies_1/2022-03-08_18.08.07_GP162-2_255_005.tif >> ftp_output.out\n"
     ]
    },
    {
     "name": "stderr",
     "output_type": "stream",
     "text": [
      " 38%|███████████████████████▌                                      | 57/150 [00:08<00:14,  6.61it/s]"
     ]
    },
    {
     "name": "stdout",
     "output_type": "stream",
     "text": [
      "wget -P /media/kyohei/forAI/EMPIAR/11387/ ftp://empiar.pdbj.org/archive/11387/data/Enp1TAP_Movies_1/2022-03-08_18.08.25_GP162-2_255_006.tif >> ftp_output.out\n",
      "wget -P /media/kyohei/forAI/EMPIAR/11387/ ftp://empiar.pdbj.org/archive/11387/data/Enp1TAP_Movies_1/2022-03-08_18.08.42_GP162-2_255_007.tif >> ftp_output.out\n"
     ]
    },
    {
     "name": "stderr",
     "output_type": "stream",
     "text": [
      "\r",
      " 39%|███████████████████████▉                                      | 58/150 [00:08<00:13,  6.73it/s]"
     ]
    },
    {
     "name": "stdout",
     "output_type": "stream",
     "text": [
      "wget -P /media/kyohei/forAI/EMPIAR/11387/ ftp://empiar.pdbj.org/archive/11387/data/Enp1TAP_Movies_1/2022-03-08_18.08.59_GP162-2_255_008.tif >> ftp_output.out\n"
     ]
    },
    {
     "name": "stderr",
     "output_type": "stream",
     "text": [
      "\r",
      " 39%|████████████████████████▍                                     | 59/150 [00:08<00:19,  4.70it/s]"
     ]
    },
    {
     "name": "stdout",
     "output_type": "stream",
     "text": [
      "wget -P /media/kyohei/forAI/EMPIAR/11387/ ftp://empiar.pdbj.org/archive/11387/data/Enp1TAP_Movies_1/2022-03-08_18.09.16_GP162-2_255_009.tif >> ftp_output.out\n"
     ]
    },
    {
     "name": "stderr",
     "output_type": "stream",
     "text": [
      "\r",
      " 40%|████████████████████████▊                                     | 60/150 [00:09<00:25,  3.56it/s]"
     ]
    },
    {
     "name": "stdout",
     "output_type": "stream",
     "text": [
      "wget -P /media/kyohei/forAI/EMPIAR/11387/ ftp://empiar.pdbj.org/archive/11387/data/Enp1TAP_Movies_1/2022-03-08_18.09.34_GP162-2_255_010.tif >> ftp_output.out\n"
     ]
    },
    {
     "name": "stderr",
     "output_type": "stream",
     "text": [
      "\r",
      " 41%|█████████████████████████▏                                    | 61/150 [00:09<00:27,  3.27it/s]"
     ]
    },
    {
     "name": "stdout",
     "output_type": "stream",
     "text": [
      "wget -P /media/kyohei/forAI/EMPIAR/11387/ ftp://empiar.pdbj.org/archive/11387/data/Enp1TAP_Movies_1/2022-03-08_18.09.52_GP162-2_255_011.tif >> ftp_output.out\n"
     ]
    },
    {
     "name": "stderr",
     "output_type": "stream",
     "text": [
      "\r",
      " 41%|█████████████████████████▋                                    | 62/150 [00:09<00:25,  3.48it/s]"
     ]
    },
    {
     "name": "stdout",
     "output_type": "stream",
     "text": [
      "wget -P /media/kyohei/forAI/EMPIAR/11387/ ftp://empiar.pdbj.org/archive/11387/data/Enp1TAP_Movies_1/2022-03-08_18.10.09_GP162-2_255_012.tif >> ftp_output.out\n"
     ]
    },
    {
     "name": "stderr",
     "output_type": "stream",
     "text": [
      "\r",
      " 42%|██████████████████████████                                    | 63/150 [00:09<00:24,  3.59it/s]"
     ]
    },
    {
     "name": "stdout",
     "output_type": "stream",
     "text": [
      "wget -P /media/kyohei/forAI/EMPIAR/11387/ ftp://empiar.pdbj.org/archive/11387/data/Enp1TAP_Movies_1/2022-03-08_18.10.27_GP162-2_255_013.tif >> ftp_output.out\n"
     ]
    },
    {
     "name": "stderr",
     "output_type": "stream",
     "text": [
      "\r",
      " 43%|██████████████████████████▍                                   | 64/150 [00:10<00:25,  3.31it/s]"
     ]
    },
    {
     "name": "stdout",
     "output_type": "stream",
     "text": [
      "wget -P /media/kyohei/forAI/EMPIAR/11387/ ftp://empiar.pdbj.org/archive/11387/data/Enp1TAP_Movies_1/2022-03-08_18.10.44_GP162-2_255_014.tif >> ftp_output.out\n"
     ]
    },
    {
     "name": "stderr",
     "output_type": "stream",
     "text": [
      " 44%|███████████████████████████▎                                  | 66/150 [00:10<00:20,  4.11it/s]"
     ]
    },
    {
     "name": "stdout",
     "output_type": "stream",
     "text": [
      "wget -P /media/kyohei/forAI/EMPIAR/11387/ ftp://empiar.pdbj.org/archive/11387/data/Enp1TAP_Movies_1/2022-03-08_18.11.02_GP162-2_255_015.tif >> ftp_output.out\n",
      "wget -P /media/kyohei/forAI/EMPIAR/11387/ ftp://empiar.pdbj.org/archive/11387/data/Enp1TAP_Movies_1/2022-03-08_18.11.19_GP162-2_255_016.tif >> ftp_output.out\n"
     ]
    },
    {
     "name": "stderr",
     "output_type": "stream",
     "text": [
      " 45%|████████████████████████████                                  | 68/150 [00:10<00:15,  5.27it/s]"
     ]
    },
    {
     "name": "stdout",
     "output_type": "stream",
     "text": [
      "wget -P /media/kyohei/forAI/EMPIAR/11387/ ftp://empiar.pdbj.org/archive/11387/data/Enp1TAP_Movies_1/2022-03-08_18.11.36_GP162-2_255_017.tif >> ftp_output.out\n",
      "wget -P /media/kyohei/forAI/EMPIAR/11387/ ftp://empiar.pdbj.org/archive/11387/data/Enp1TAP_Movies_1/2022-03-08_18.11.54_GP162-2_255_018.tif >> ftp_output.out\n"
     ]
    },
    {
     "name": "stderr",
     "output_type": "stream",
     "text": [
      " 47%|████████████████████████████▉                                 | 70/150 [00:11<00:13,  6.11it/s]"
     ]
    },
    {
     "name": "stdout",
     "output_type": "stream",
     "text": [
      "wget -P /media/kyohei/forAI/EMPIAR/11387/ ftp://empiar.pdbj.org/archive/11387/data/Enp1TAP_Movies_1/2022-03-08_18.12.11_GP162-2_255_019.tif >> ftp_output.out\n",
      "wget -P /media/kyohei/forAI/EMPIAR/11387/ ftp://empiar.pdbj.org/archive/11387/data/Enp1TAP_Movies_1/2022-03-08_18.12.29_GP162-2_255_020.tif >> ftp_output.out\n"
     ]
    },
    {
     "name": "stderr",
     "output_type": "stream",
     "text": [
      " 48%|█████████████████████████████▊                                | 72/150 [00:11<00:11,  6.66it/s]"
     ]
    },
    {
     "name": "stdout",
     "output_type": "stream",
     "text": [
      "wget -P /media/kyohei/forAI/EMPIAR/11387/ ftp://empiar.pdbj.org/archive/11387/data/Enp1TAP_Movies_1/2022-03-08_18.12.46_GP162-2_255_021.tif >> ftp_output.out\n",
      "wget -P /media/kyohei/forAI/EMPIAR/11387/ ftp://empiar.pdbj.org/archive/11387/data/Enp1TAP_Movies_1/2022-03-08_18.13.03_GP162-2_255_022.tif >> ftp_output.out\n"
     ]
    },
    {
     "name": "stderr",
     "output_type": "stream",
     "text": [
      " 49%|██████████████████████████████▌                               | 74/150 [00:11<00:11,  6.84it/s]"
     ]
    },
    {
     "name": "stdout",
     "output_type": "stream",
     "text": [
      "wget -P /media/kyohei/forAI/EMPIAR/11387/ ftp://empiar.pdbj.org/archive/11387/data/Enp1TAP_Movies_1/2022-03-08_18.13.20_GP162-2_255_023.tif >> ftp_output.out\n",
      "wget -P /media/kyohei/forAI/EMPIAR/11387/ ftp://empiar.pdbj.org/archive/11387/data/Enp1TAP_Movies_1/2022-03-08_18.13.38_GP162-2_255_024.tif >> ftp_output.out\n"
     ]
    },
    {
     "name": "stderr",
     "output_type": "stream",
     "text": [
      " 51%|███████████████████████████████▍                              | 76/150 [00:12<00:10,  7.02it/s]"
     ]
    },
    {
     "name": "stdout",
     "output_type": "stream",
     "text": [
      "wget -P /media/kyohei/forAI/EMPIAR/11387/ ftp://empiar.pdbj.org/archive/11387/data/Enp1TAP_Movies_1/2022-03-08_18.15.51_GP162-2_256_000.tif >> ftp_output.out\n",
      "wget -P /media/kyohei/forAI/EMPIAR/11387/ ftp://empiar.pdbj.org/archive/11387/data/Enp1TAP_Movies_1/2022-03-08_18.16.10_GP162-2_256_001.tif >> ftp_output.out\n"
     ]
    },
    {
     "name": "stderr",
     "output_type": "stream",
     "text": [
      " 52%|████████████████████████████████▏                             | 78/150 [00:12<00:10,  7.07it/s]"
     ]
    },
    {
     "name": "stdout",
     "output_type": "stream",
     "text": [
      "wget -P /media/kyohei/forAI/EMPIAR/11387/ ftp://empiar.pdbj.org/archive/11387/data/Enp1TAP_Movies_1/2022-03-08_18.16.27_GP162-2_256_002.tif >> ftp_output.out\n",
      "wget -P /media/kyohei/forAI/EMPIAR/11387/ ftp://empiar.pdbj.org/archive/11387/data/Enp1TAP_Movies_1/2022-03-08_18.16.45_GP162-2_256_003.tif >> ftp_output.out\n"
     ]
    },
    {
     "name": "stderr",
     "output_type": "stream",
     "text": [
      " 53%|█████████████████████████████████                             | 80/150 [00:12<00:09,  7.12it/s]"
     ]
    },
    {
     "name": "stdout",
     "output_type": "stream",
     "text": [
      "wget -P /media/kyohei/forAI/EMPIAR/11387/ ftp://empiar.pdbj.org/archive/11387/data/Enp1TAP_Movies_1/2022-03-08_18.17.02_GP162-2_256_004.tif >> ftp_output.out\n",
      "wget -P /media/kyohei/forAI/EMPIAR/11387/ ftp://empiar.pdbj.org/archive/11387/data/Enp1TAP_Movies_1/2022-03-08_18.17.20_GP162-2_256_005.tif >> ftp_output.out\n"
     ]
    },
    {
     "name": "stderr",
     "output_type": "stream",
     "text": [
      " 55%|█████████████████████████████████▉                            | 82/150 [00:12<00:09,  7.13it/s]"
     ]
    },
    {
     "name": "stdout",
     "output_type": "stream",
     "text": [
      "wget -P /media/kyohei/forAI/EMPIAR/11387/ ftp://empiar.pdbj.org/archive/11387/data/Enp1TAP_Movies_1/2022-03-08_18.17.37_GP162-2_256_006.tif >> ftp_output.out\n",
      "wget -P /media/kyohei/forAI/EMPIAR/11387/ ftp://empiar.pdbj.org/archive/11387/data/Enp1TAP_Movies_1/2022-03-08_18.17.55_GP162-2_256_007.tif >> ftp_output.out\n"
     ]
    },
    {
     "name": "stderr",
     "output_type": "stream",
     "text": [
      " 56%|██████████████████████████████████▋                           | 84/150 [00:13<00:09,  7.19it/s]"
     ]
    },
    {
     "name": "stdout",
     "output_type": "stream",
     "text": [
      "wget -P /media/kyohei/forAI/EMPIAR/11387/ ftp://empiar.pdbj.org/archive/11387/data/Enp1TAP_Movies_1/2022-03-08_18.18.13_GP162-2_256_008.tif >> ftp_output.out\n",
      "wget -P /media/kyohei/forAI/EMPIAR/11387/ ftp://empiar.pdbj.org/archive/11387/data/Enp1TAP_Movies_1/2022-03-08_18.18.31_GP162-2_256_009.tif >> ftp_output.out\n"
     ]
    },
    {
     "name": "stderr",
     "output_type": "stream",
     "text": [
      " 57%|███████████████████████████████████▌                          | 86/150 [00:13<00:08,  7.16it/s]"
     ]
    },
    {
     "name": "stdout",
     "output_type": "stream",
     "text": [
      "wget -P /media/kyohei/forAI/EMPIAR/11387/ ftp://empiar.pdbj.org/archive/11387/data/Enp1TAP_Movies_1/2022-03-08_18.18.48_GP162-2_256_010.tif >> ftp_output.out\n",
      "wget -P /media/kyohei/forAI/EMPIAR/11387/ ftp://empiar.pdbj.org/archive/11387/data/Enp1TAP_Movies_1/2022-03-08_18.19.05_GP162-2_256_011.tif >> ftp_output.out\n"
     ]
    },
    {
     "name": "stderr",
     "output_type": "stream",
     "text": [
      " 59%|████████████████████████████████████▎                         | 88/150 [00:13<00:08,  7.21it/s]"
     ]
    },
    {
     "name": "stdout",
     "output_type": "stream",
     "text": [
      "wget -P /media/kyohei/forAI/EMPIAR/11387/ ftp://empiar.pdbj.org/archive/11387/data/Enp1TAP_Movies_1/2022-03-08_18.19.22_GP162-2_256_012.tif >> ftp_output.out\n",
      "wget -P /media/kyohei/forAI/EMPIAR/11387/ ftp://empiar.pdbj.org/archive/11387/data/Enp1TAP_Movies_1/2022-03-08_18.19.40_GP162-2_256_013.tif >> ftp_output.out\n"
     ]
    },
    {
     "name": "stderr",
     "output_type": "stream",
     "text": [
      " 60%|█████████████████████████████████████▏                        | 90/150 [00:14<00:08,  7.22it/s]"
     ]
    },
    {
     "name": "stdout",
     "output_type": "stream",
     "text": [
      "wget -P /media/kyohei/forAI/EMPIAR/11387/ ftp://empiar.pdbj.org/archive/11387/data/Enp1TAP_Movies_1/2022-03-08_18.19.57_GP162-2_256_014.tif >> ftp_output.out\n",
      "wget -P /media/kyohei/forAI/EMPIAR/11387/ ftp://empiar.pdbj.org/archive/11387/data/Enp1TAP_Movies_1/2022-03-08_18.20.14_GP162-2_256_015.tif >> ftp_output.out\n"
     ]
    },
    {
     "name": "stderr",
     "output_type": "stream",
     "text": [
      " 61%|██████████████████████████████████████                        | 92/150 [00:14<00:08,  7.16it/s]"
     ]
    },
    {
     "name": "stdout",
     "output_type": "stream",
     "text": [
      "wget -P /media/kyohei/forAI/EMPIAR/11387/ ftp://empiar.pdbj.org/archive/11387/data/Enp1TAP_Movies_1/2022-03-08_18.20.32_GP162-2_256_016.tif >> ftp_output.out\n",
      "wget -P /media/kyohei/forAI/EMPIAR/11387/ ftp://empiar.pdbj.org/archive/11387/data/Enp1TAP_Movies_1/2022-03-08_18.20.49_GP162-2_256_017.tif >> ftp_output.out\n"
     ]
    },
    {
     "name": "stderr",
     "output_type": "stream",
     "text": [
      " 63%|██████████████████████████████████████▊                       | 94/150 [00:14<00:07,  7.11it/s]"
     ]
    },
    {
     "name": "stdout",
     "output_type": "stream",
     "text": [
      "wget -P /media/kyohei/forAI/EMPIAR/11387/ ftp://empiar.pdbj.org/archive/11387/data/Enp1TAP_Movies_1/2022-03-08_18.21.06_GP162-2_256_018.tif >> ftp_output.out\n",
      "wget -P /media/kyohei/forAI/EMPIAR/11387/ ftp://empiar.pdbj.org/archive/11387/data/Enp1TAP_Movies_1/2022-03-08_18.21.24_GP162-2_256_019.tif >> ftp_output.out\n"
     ]
    },
    {
     "name": "stderr",
     "output_type": "stream",
     "text": [
      " 64%|███████████████████████████████████████▋                      | 96/150 [00:14<00:07,  7.16it/s]"
     ]
    },
    {
     "name": "stdout",
     "output_type": "stream",
     "text": [
      "wget -P /media/kyohei/forAI/EMPIAR/11387/ ftp://empiar.pdbj.org/archive/11387/data/Enp1TAP_Movies_1/2022-03-08_18.21.41_GP162-2_256_020.tif >> ftp_output.out\n",
      "wget -P /media/kyohei/forAI/EMPIAR/11387/ ftp://empiar.pdbj.org/archive/11387/data/Enp1TAP_Movies_1/2022-03-08_18.21.59_GP162-2_256_021.tif >> ftp_output.out\n"
     ]
    },
    {
     "name": "stderr",
     "output_type": "stream",
     "text": [
      " 65%|████████████████████████████████████████▌                     | 98/150 [00:15<00:07,  7.17it/s]"
     ]
    },
    {
     "name": "stdout",
     "output_type": "stream",
     "text": [
      "wget -P /media/kyohei/forAI/EMPIAR/11387/ ftp://empiar.pdbj.org/archive/11387/data/Enp1TAP_Movies_1/2022-03-08_18.22.16_GP162-2_256_022.tif >> ftp_output.out\n",
      "wget -P /media/kyohei/forAI/EMPIAR/11387/ ftp://empiar.pdbj.org/archive/11387/data/Enp1TAP_Movies_1/2022-03-08_18.22.33_GP162-2_256_023.tif >> ftp_output.out\n"
     ]
    },
    {
     "name": "stderr",
     "output_type": "stream",
     "text": [
      " 67%|████████████████████████████████████████▋                    | 100/150 [00:15<00:07,  7.13it/s]"
     ]
    },
    {
     "name": "stdout",
     "output_type": "stream",
     "text": [
      "wget -P /media/kyohei/forAI/EMPIAR/11387/ ftp://empiar.pdbj.org/archive/11387/data/Enp1TAP_Movies_1/2022-03-08_18.22.50_GP162-2_256_024.tif >> ftp_output.out\n",
      "wget -P /media/kyohei/forAI/EMPIAR/11387/ ftp://empiar.pdbj.org/archive/11387/data/Enp1TAP_Movies_1/2022-03-08_18.27.24_GP162-2_257_000.tif >> ftp_output.out\n"
     ]
    },
    {
     "name": "stderr",
     "output_type": "stream",
     "text": [
      " 68%|█████████████████████████████████████████▍                   | 102/150 [00:15<00:06,  7.14it/s]"
     ]
    },
    {
     "name": "stdout",
     "output_type": "stream",
     "text": [
      "wget -P /media/kyohei/forAI/EMPIAR/11387/ ftp://empiar.pdbj.org/archive/11387/data/Enp1TAP_Movies_1/2022-03-08_18.27.43_GP162-2_257_001.tif >> ftp_output.out\n",
      "wget -P /media/kyohei/forAI/EMPIAR/11387/ ftp://empiar.pdbj.org/archive/11387/data/Enp1TAP_Movies_1/2022-03-08_18.28.00_GP162-2_257_002.tif >> ftp_output.out\n"
     ]
    },
    {
     "name": "stderr",
     "output_type": "stream",
     "text": [
      " 69%|██████████████████████████████████████████▎                  | 104/150 [00:15<00:06,  7.21it/s]"
     ]
    },
    {
     "name": "stdout",
     "output_type": "stream",
     "text": [
      "wget -P /media/kyohei/forAI/EMPIAR/11387/ ftp://empiar.pdbj.org/archive/11387/data/Enp1TAP_Movies_1/2022-03-08_18.28.18_GP162-2_257_003.tif >> ftp_output.out\n",
      "wget -P /media/kyohei/forAI/EMPIAR/11387/ ftp://empiar.pdbj.org/archive/11387/data/Enp1TAP_Movies_1/2022-03-08_18.28.35_GP162-2_257_004.tif >> ftp_output.out\n"
     ]
    },
    {
     "name": "stderr",
     "output_type": "stream",
     "text": [
      " 71%|███████████████████████████████████████████                  | 106/150 [00:16<00:06,  7.22it/s]"
     ]
    },
    {
     "name": "stdout",
     "output_type": "stream",
     "text": [
      "wget -P /media/kyohei/forAI/EMPIAR/11387/ ftp://empiar.pdbj.org/archive/11387/data/Enp1TAP_Movies_1/2022-03-08_18.28.53_GP162-2_257_005.tif >> ftp_output.out\n",
      "wget -P /media/kyohei/forAI/EMPIAR/11387/ ftp://empiar.pdbj.org/archive/11387/data/Enp1TAP_Movies_1/2022-03-08_18.29.10_GP162-2_257_006.tif >> ftp_output.out\n"
     ]
    },
    {
     "name": "stderr",
     "output_type": "stream",
     "text": [
      " 72%|███████████████████████████████████████████▉                 | 108/150 [00:16<00:05,  7.21it/s]"
     ]
    },
    {
     "name": "stdout",
     "output_type": "stream",
     "text": [
      "wget -P /media/kyohei/forAI/EMPIAR/11387/ ftp://empiar.pdbj.org/archive/11387/data/Enp1TAP_Movies_1/2022-03-08_18.29.27_GP162-2_257_007.tif >> ftp_output.out\n",
      "wget -P /media/kyohei/forAI/EMPIAR/11387/ ftp://empiar.pdbj.org/archive/11387/data/Enp1TAP_Movies_1/2022-03-08_18.29.45_GP162-2_257_008.tif >> ftp_output.out\n"
     ]
    },
    {
     "name": "stderr",
     "output_type": "stream",
     "text": [
      " 73%|████████████████████████████████████████████▋                | 110/150 [00:16<00:05,  7.22it/s]"
     ]
    },
    {
     "name": "stdout",
     "output_type": "stream",
     "text": [
      "wget -P /media/kyohei/forAI/EMPIAR/11387/ ftp://empiar.pdbj.org/archive/11387/data/Enp1TAP_Movies_1/2022-03-08_18.30.02_GP162-2_257_009.tif >> ftp_output.out\n",
      "wget -P /media/kyohei/forAI/EMPIAR/11387/ ftp://empiar.pdbj.org/archive/11387/data/Enp1TAP_Movies_1/2022-03-08_18.30.20_GP162-2_257_010.tif >> ftp_output.out\n"
     ]
    },
    {
     "name": "stderr",
     "output_type": "stream",
     "text": [
      " 75%|█████████████████████████████████████████████▌               | 112/150 [00:17<00:05,  7.21it/s]"
     ]
    },
    {
     "name": "stdout",
     "output_type": "stream",
     "text": [
      "wget -P /media/kyohei/forAI/EMPIAR/11387/ ftp://empiar.pdbj.org/archive/11387/data/Enp1TAP_Movies_1/2022-03-08_18.30.37_GP162-2_257_011.tif >> ftp_output.out\n",
      "wget -P /media/kyohei/forAI/EMPIAR/11387/ ftp://empiar.pdbj.org/archive/11387/data/Enp1TAP_Movies_1/2022-03-08_18.30.55_GP162-2_257_012.tif >> ftp_output.out\n"
     ]
    },
    {
     "name": "stderr",
     "output_type": "stream",
     "text": [
      " 76%|██████████████████████████████████████████████▎              | 114/150 [00:17<00:04,  7.20it/s]"
     ]
    },
    {
     "name": "stdout",
     "output_type": "stream",
     "text": [
      "wget -P /media/kyohei/forAI/EMPIAR/11387/ ftp://empiar.pdbj.org/archive/11387/data/Enp1TAP_Movies_1/2022-03-08_18.31.12_GP162-2_257_013.tif >> ftp_output.out\n",
      "wget -P /media/kyohei/forAI/EMPIAR/11387/ ftp://empiar.pdbj.org/archive/11387/data/Enp1TAP_Movies_1/2022-03-08_18.31.29_GP162-2_257_014.tif >> ftp_output.out\n"
     ]
    },
    {
     "name": "stderr",
     "output_type": "stream",
     "text": [
      " 77%|███████████████████████████████████████████████▏             | 116/150 [00:17<00:04,  7.22it/s]"
     ]
    },
    {
     "name": "stdout",
     "output_type": "stream",
     "text": [
      "wget -P /media/kyohei/forAI/EMPIAR/11387/ ftp://empiar.pdbj.org/archive/11387/data/Enp1TAP_Movies_1/2022-03-08_18.31.47_GP162-2_257_015.tif >> ftp_output.out\n",
      "wget -P /media/kyohei/forAI/EMPIAR/11387/ ftp://empiar.pdbj.org/archive/11387/data/Enp1TAP_Movies_1/2022-03-08_18.32.04_GP162-2_257_016.tif >> ftp_output.out\n"
     ]
    },
    {
     "name": "stderr",
     "output_type": "stream",
     "text": [
      " 79%|███████████████████████████████████████████████▉             | 118/150 [00:17<00:04,  7.20it/s]"
     ]
    },
    {
     "name": "stdout",
     "output_type": "stream",
     "text": [
      "wget -P /media/kyohei/forAI/EMPIAR/11387/ ftp://empiar.pdbj.org/archive/11387/data/Enp1TAP_Movies_1/2022-03-08_18.32.22_GP162-2_257_017.tif >> ftp_output.out\n",
      "wget -P /media/kyohei/forAI/EMPIAR/11387/ ftp://empiar.pdbj.org/archive/11387/data/Enp1TAP_Movies_1/2022-03-08_18.32.39_GP162-2_257_018.tif >> ftp_output.out\n"
     ]
    },
    {
     "name": "stderr",
     "output_type": "stream",
     "text": [
      " 80%|████████████████████████████████████████████████▊            | 120/150 [00:18<00:04,  7.04it/s]"
     ]
    },
    {
     "name": "stdout",
     "output_type": "stream",
     "text": [
      "wget -P /media/kyohei/forAI/EMPIAR/11387/ ftp://empiar.pdbj.org/archive/11387/data/Enp1TAP_Movies_1/2022-03-08_18.32.57_GP162-2_257_019.tif >> ftp_output.out\n",
      "wget -P /media/kyohei/forAI/EMPIAR/11387/ ftp://empiar.pdbj.org/archive/11387/data/Enp1TAP_Movies_1/2022-03-08_18.33.14_GP162-2_257_020.tif >> ftp_output.out\n"
     ]
    },
    {
     "name": "stderr",
     "output_type": "stream",
     "text": [
      " 81%|█████████████████████████████████████████████████▌           | 122/150 [00:18<00:03,  7.06it/s]"
     ]
    },
    {
     "name": "stdout",
     "output_type": "stream",
     "text": [
      "wget -P /media/kyohei/forAI/EMPIAR/11387/ ftp://empiar.pdbj.org/archive/11387/data/Enp1TAP_Movies_1/2022-03-08_18.33.32_GP162-2_257_021.tif >> ftp_output.out\n",
      "wget -P /media/kyohei/forAI/EMPIAR/11387/ ftp://empiar.pdbj.org/archive/11387/data/Enp1TAP_Movies_1/2022-03-08_18.33.49_GP162-2_257_022.tif >> ftp_output.out\n"
     ]
    },
    {
     "name": "stderr",
     "output_type": "stream",
     "text": [
      " 83%|██████████████████████████████████████████████████▍          | 124/150 [00:18<00:03,  7.14it/s]"
     ]
    },
    {
     "name": "stdout",
     "output_type": "stream",
     "text": [
      "wget -P /media/kyohei/forAI/EMPIAR/11387/ ftp://empiar.pdbj.org/archive/11387/data/Enp1TAP_Movies_1/2022-03-08_18.34.07_GP162-2_257_023.tif >> ftp_output.out\n",
      "wget -P /media/kyohei/forAI/EMPIAR/11387/ ftp://empiar.pdbj.org/archive/11387/data/Enp1TAP_Movies_1/2022-03-08_18.34.24_GP162-2_257_024.tif >> ftp_output.out\n"
     ]
    },
    {
     "name": "stderr",
     "output_type": "stream",
     "text": [
      " 84%|███████████████████████████████████████████████████▏         | 126/150 [00:19<00:03,  7.14it/s]"
     ]
    },
    {
     "name": "stdout",
     "output_type": "stream",
     "text": [
      "wget -P /media/kyohei/forAI/EMPIAR/11387/ ftp://empiar.pdbj.org/archive/11387/data/Enp1TAP_Movies_1/2022-03-08_18.36.27_GP162-2_258_000.tif >> ftp_output.out\n",
      "wget -P /media/kyohei/forAI/EMPIAR/11387/ ftp://empiar.pdbj.org/archive/11387/data/Enp1TAP_Movies_1/2022-03-08_18.36.45_GP162-2_258_001.tif >> ftp_output.out\n"
     ]
    },
    {
     "name": "stderr",
     "output_type": "stream",
     "text": [
      " 85%|████████████████████████████████████████████████████         | 128/150 [00:19<00:03,  7.14it/s]"
     ]
    },
    {
     "name": "stdout",
     "output_type": "stream",
     "text": [
      "wget -P /media/kyohei/forAI/EMPIAR/11387/ ftp://empiar.pdbj.org/archive/11387/data/Enp1TAP_Movies_1/2022-03-08_18.37.03_GP162-2_258_002.tif >> ftp_output.out\n",
      "wget -P /media/kyohei/forAI/EMPIAR/11387/ ftp://empiar.pdbj.org/archive/11387/data/Enp1TAP_Movies_1/2022-03-08_18.37.20_GP162-2_258_003.tif >> ftp_output.out\n"
     ]
    },
    {
     "name": "stderr",
     "output_type": "stream",
     "text": [
      " 87%|████████████████████████████████████████████████████▊        | 130/150 [00:19<00:02,  7.12it/s]"
     ]
    },
    {
     "name": "stdout",
     "output_type": "stream",
     "text": [
      "wget -P /media/kyohei/forAI/EMPIAR/11387/ ftp://empiar.pdbj.org/archive/11387/data/Enp1TAP_Movies_1/2022-03-08_18.37.37_GP162-2_258_004.tif >> ftp_output.out\n",
      "wget -P /media/kyohei/forAI/EMPIAR/11387/ ftp://empiar.pdbj.org/archive/11387/data/Enp1TAP_Movies_1/2022-03-08_18.37.55_GP162-2_258_005.tif >> ftp_output.out\n"
     ]
    },
    {
     "name": "stderr",
     "output_type": "stream",
     "text": [
      " 88%|█████████████████████████████████████████████████████▋       | 132/150 [00:19<00:02,  7.20it/s]"
     ]
    },
    {
     "name": "stdout",
     "output_type": "stream",
     "text": [
      "wget -P /media/kyohei/forAI/EMPIAR/11387/ ftp://empiar.pdbj.org/archive/11387/data/Enp1TAP_Movies_1/2022-03-08_18.38.12_GP162-2_258_006.tif >> ftp_output.out\n",
      "wget -P /media/kyohei/forAI/EMPIAR/11387/ ftp://empiar.pdbj.org/archive/11387/data/Enp1TAP_Movies_1/2022-03-08_18.38.30_GP162-2_258_007.tif >> ftp_output.out\n"
     ]
    },
    {
     "name": "stderr",
     "output_type": "stream",
     "text": [
      " 89%|██████████████████████████████████████████████████████▍      | 134/150 [00:20<00:02,  7.14it/s]"
     ]
    },
    {
     "name": "stdout",
     "output_type": "stream",
     "text": [
      "wget -P /media/kyohei/forAI/EMPIAR/11387/ ftp://empiar.pdbj.org/archive/11387/data/Enp1TAP_Movies_1/2022-03-08_18.38.47_GP162-2_258_008.tif >> ftp_output.out\n",
      "wget -P /media/kyohei/forAI/EMPIAR/11387/ ftp://empiar.pdbj.org/archive/11387/data/Enp1TAP_Movies_1/2022-03-08_18.39.04_GP162-2_258_009.tif >> ftp_output.out\n"
     ]
    },
    {
     "name": "stderr",
     "output_type": "stream",
     "text": [
      " 91%|███████████████████████████████████████████████████████▎     | 136/150 [00:20<00:01,  7.17it/s]"
     ]
    },
    {
     "name": "stdout",
     "output_type": "stream",
     "text": [
      "wget -P /media/kyohei/forAI/EMPIAR/11387/ ftp://empiar.pdbj.org/archive/11387/data/Enp1TAP_Movies_1/2022-03-08_18.39.22_GP162-2_258_010.tif >> ftp_output.out\n",
      "wget -P /media/kyohei/forAI/EMPIAR/11387/ ftp://empiar.pdbj.org/archive/11387/data/Enp1TAP_Movies_1/2022-03-08_18.39.39_GP162-2_258_011.tif >> ftp_output.out\n"
     ]
    },
    {
     "name": "stderr",
     "output_type": "stream",
     "text": [
      " 92%|████████████████████████████████████████████████████████     | 138/150 [00:20<00:01,  7.16it/s]"
     ]
    },
    {
     "name": "stdout",
     "output_type": "stream",
     "text": [
      "wget -P /media/kyohei/forAI/EMPIAR/11387/ ftp://empiar.pdbj.org/archive/11387/data/Enp1TAP_Movies_1/2022-03-08_18.39.57_GP162-2_258_012.tif >> ftp_output.out\n",
      "wget -P /media/kyohei/forAI/EMPIAR/11387/ ftp://empiar.pdbj.org/archive/11387/data/Enp1TAP_Movies_1/2022-03-08_18.40.14_GP162-2_258_013.tif >> ftp_output.out\n"
     ]
    },
    {
     "name": "stderr",
     "output_type": "stream",
     "text": [
      " 93%|████████████████████████████████████████████████████████▉    | 140/150 [00:21<00:01,  7.18it/s]"
     ]
    },
    {
     "name": "stdout",
     "output_type": "stream",
     "text": [
      "wget -P /media/kyohei/forAI/EMPIAR/11387/ ftp://empiar.pdbj.org/archive/11387/data/Enp1TAP_Movies_1/2022-03-08_18.40.32_GP162-2_258_014.tif >> ftp_output.out\n",
      "wget -P /media/kyohei/forAI/EMPIAR/11387/ ftp://empiar.pdbj.org/archive/11387/data/Enp1TAP_Movies_1/2022-03-08_18.40.49_GP162-2_258_015.tif >> ftp_output.out\n"
     ]
    },
    {
     "name": "stderr",
     "output_type": "stream",
     "text": [
      " 95%|█████████████████████████████████████████████████████████▋   | 142/150 [00:21<00:01,  7.05it/s]"
     ]
    },
    {
     "name": "stdout",
     "output_type": "stream",
     "text": [
      "wget -P /media/kyohei/forAI/EMPIAR/11387/ ftp://empiar.pdbj.org/archive/11387/data/Enp1TAP_Movies_1/2022-03-08_18.41.07_GP162-2_258_016.tif >> ftp_output.out\n",
      "wget -P /media/kyohei/forAI/EMPIAR/11387/ ftp://empiar.pdbj.org/archive/11387/data/Enp1TAP_Movies_1/2022-03-08_18.41.24_GP162-2_258_017.tif >> ftp_output.out\n"
     ]
    },
    {
     "name": "stderr",
     "output_type": "stream",
     "text": [
      " 96%|██████████████████████████████████████████████████████████▌  | 144/150 [00:21<00:00,  7.11it/s]"
     ]
    },
    {
     "name": "stdout",
     "output_type": "stream",
     "text": [
      "wget -P /media/kyohei/forAI/EMPIAR/11387/ ftp://empiar.pdbj.org/archive/11387/data/Enp1TAP_Movies_1/2022-03-08_18.41.42_GP162-2_258_018.tif >> ftp_output.out\n",
      "wget -P /media/kyohei/forAI/EMPIAR/11387/ ftp://empiar.pdbj.org/archive/11387/data/Enp1TAP_Movies_1/2022-03-08_18.41.59_GP162-2_258_019.tif >> ftp_output.out\n"
     ]
    },
    {
     "name": "stderr",
     "output_type": "stream",
     "text": [
      " 97%|███████████████████████████████████████████████████████████▎ | 146/150 [00:21<00:00,  7.17it/s]"
     ]
    },
    {
     "name": "stdout",
     "output_type": "stream",
     "text": [
      "wget -P /media/kyohei/forAI/EMPIAR/11387/ ftp://empiar.pdbj.org/archive/11387/data/Enp1TAP_Movies_1/2022-03-08_18.42.16_GP162-2_258_020.tif >> ftp_output.out\n",
      "wget -P /media/kyohei/forAI/EMPIAR/11387/ ftp://empiar.pdbj.org/archive/11387/data/Enp1TAP_Movies_1/2022-03-08_18.42.34_GP162-2_258_021.tif >> ftp_output.out\n"
     ]
    },
    {
     "name": "stderr",
     "output_type": "stream",
     "text": [
      " 99%|████████████████████████████████████████████████████████████▏| 148/150 [00:22<00:00,  7.21it/s]"
     ]
    },
    {
     "name": "stdout",
     "output_type": "stream",
     "text": [
      "wget -P /media/kyohei/forAI/EMPIAR/11387/ ftp://empiar.pdbj.org/archive/11387/data/Enp1TAP_Movies_1/2022-03-08_18.42.52_GP162-2_258_022.tif >> ftp_output.out\n",
      "wget -P /media/kyohei/forAI/EMPIAR/11387/ ftp://empiar.pdbj.org/archive/11387/data/Enp1TAP_Movies_1/2022-03-08_18.43.09_GP162-2_258_023.tif >> ftp_output.out\n"
     ]
    },
    {
     "name": "stderr",
     "output_type": "stream",
     "text": [
      "100%|█████████████████████████████████████████████████████████████| 150/150 [00:22<00:00,  6.70it/s]"
     ]
    },
    {
     "name": "stdout",
     "output_type": "stream",
     "text": [
      "wget -P /media/kyohei/forAI/EMPIAR/11387/ ftp://empiar.pdbj.org/archive/11387/data/Enp1TAP_Movies_1/2022-03-08_18.43.27_GP162-2_258_024.tif >> ftp_output.out\n"
     ]
    },
    {
     "name": "stderr",
     "output_type": "stream",
     "text": [
      "\n"
     ]
    }
   ],
   "source": [
    "from tqdm import tqdm\n",
    "\n",
    "for iii, ppp in id2path.items():\n",
    "    \n",
    "    filetype = id2ftype[iii]\n",
    "    com1 = downloadcommand.replace(\n",
    "        \"ftp://ftp.ebi.ac.uk/empiar/world_availability/10828/data/delta-LIT_raw_images/\", ppp)\\\n",
    "        .replace(\".tiff\", filetype)\n",
    "    com1 = com1.replace(\"filelist.txt\", f\"filelist_{iii}.txt\")\n",
    "    \n",
    "    print(com1)\n",
    "    os.system(com1)\n",
    "    \n",
    "    df = pd.read_csv(f\"filelist_{iii}.txt\", header=None)\n",
    "    filelist = df[0].values\n",
    "    \n",
    "    for fff in tqdm(filelist):\n",
    "        \n",
    "        if os.path.exists(f\"/media/kyohei/forAI/EMPIAR/{iii}/{fff}\"):\n",
    "            continue\n",
    "        \n",
    "        download_command = f\"wget -P /media/kyohei/forAI/EMPIAR/{iii}/ {ppp}{fff} >> ftp_output.out\"\n",
    "        download_command = download_command.replace(EBI_p, PDBJ_p)\n",
    "        print(download_command)\n",
    "        \n",
    "        os.system(f'echo \">>>\" >> ftp_output.out')\n",
    "        os.system(f'echo {ppp}{fff} >> ftp_output.out')\n",
    "        #os.system(download_command)\n",
    "        \n",
    "        subprocess.run(download_command, shell=True, stdout=subprocess.DEVNULL, stderr=subprocess.STDOUT)\n",
    "        "
   ]
  },
  {
   "cell_type": "code",
   "execution_count": 22,
   "id": "f4da6b4a",
   "metadata": {},
   "outputs": [
    {
     "name": "stdout",
     "output_type": "stream",
     "text": [
      "/bin/bash: /home/kyohei/miniconda3/envs/cryoem/lib/libtinfo.so.6: no version information available (required by /bin/bash)\r\n",
      "200721_dLIT_QF_krios_02199.tiff\r\n",
      "2023-0511_KatoLabDataParse.ipynb\r\n",
      "2023-0515_run_motionCor2.ipynb\r\n",
      "2023-0517_KatoLabDataSum.ipynb\r\n",
      "2023-0517_MRC_vis.ipynb\r\n",
      "2023-0529_split_MRC_into_parts.ipynb\r\n",
      "2023_0601_download_EMPIAR-Copy1.ipynb\r\n",
      "2023_0601_download_EMPIAR.ipynb\r\n",
      "2023-0603_use_model_and_show_image.ipynb\r\n",
      "2023-0606_show_large_image.ipynb\r\n",
      "2023-0607_visualize_moddel.ipynb\r\n",
      "CountRef_gpcr_190808no17_99-1_0000_Aug16_15.53.48.mrc\r\n",
      "cryoem_EDA.ipynb\r\n",
      "data_in_HD_2023-0511.csv\r\n",
      "EDA.ipynb\r\n",
      "experiment_1_results.ipynb\r\n",
      "experiment_2_results.ipynb\r\n",
      "filelist_10828.txt\r\n",
      "filelist_10877.txt\r\n",
      "filelist_10997.txt\r\n",
      "filelist_11029.txt\r\n",
      "filelist_11084.txt\r\n",
      "filelist_11244.txt\r\n",
      "filelist_11349.txt\r\n",
      "filelist_11351.txt\r\n",
      "filelist_11387.txt\r\n",
      "filelist.txt\r\n",
      "filenames_ftp_data.parquet\r\n",
      "ftp_output.out\r\n",
      "gpcr_190808no17_0000_Aug17_20.59.59.tif\r\n",
      "gpcr_190808no17_0000_Aug17_20.59.59.tif.1\r\n",
      "image_list.txt\r\n",
      "lightning_logs\r\n",
      "run_motionCor2.ipynb\r\n",
      "run_relion.ipynb\r\n",
      "runs\r\n",
      "script.lftp\r\n",
      "srgan_model\r\n",
      "srgan_model.png\r\n",
      "test_model.onnx\r\n",
      "torchviz\r\n",
      "torchviz.png\r\n",
      "Untitled1.ipynb\r\n",
      "Untitled.ipynb\r\n"
     ]
    }
   ],
   "source": [
    "!ls"
   ]
  },
  {
   "cell_type": "code",
   "execution_count": null,
   "id": "68bb05a6",
   "metadata": {},
   "outputs": [],
   "source": [
    "wget -P /media/kyohei/forAI/EMPIAR/10828/ ftp://empiar.pdbj.org/archive/10828/data/delta-LIT_raw_images/200721_dLIT_QF_krios_00009.tiff >> ftp_output.out\n",
    "    "
   ]
  },
  {
   "cell_type": "code",
   "execution_count": null,
   "id": "ba82c1fb",
   "metadata": {},
   "outputs": [],
   "source": [
    "!wget -P /media/kyohei/forAI/EMPIAR/10828/ ftp://empiar.pdbj.org/archive/10828/data/delta-LIT_raw_images/200721_dLIT_QF_krios_00009.tiff\n"
   ]
  },
  {
   "cell_type": "code",
   "execution_count": null,
   "id": "0d3d679d",
   "metadata": {},
   "outputs": [],
   "source": [
    "ftp://empiar.pdbj.org/archive/10828"
   ]
  },
  {
   "cell_type": "code",
   "execution_count": null,
   "id": "df1c6be9",
   "metadata": {},
   "outputs": [],
   "source": [
    "ftp://empiar.pdbj.org/archive/10828/\n",
    "    \n",
    "ftp://empiar.pdbj.org/archive/"
   ]
  }
 ],
 "metadata": {
  "kernelspec": {
   "display_name": "cryoem2",
   "language": "python",
   "name": "cryoem2"
  },
  "language_info": {
   "codemirror_mode": {
    "name": "ipython",
    "version": 3
   },
   "file_extension": ".py",
   "mimetype": "text/x-python",
   "name": "python",
   "nbconvert_exporter": "python",
   "pygments_lexer": "ipython3",
   "version": "3.10.11"
  }
 },
 "nbformat": 4,
 "nbformat_minor": 5
}
