{
 "cells": [
  {
   "cell_type": "code",
   "execution_count": 1,
   "id": "77af7d50",
   "metadata": {},
   "outputs": [],
   "source": [
    "import os, subprocess\n",
    "import pandas as pd"
   ]
  },
  {
   "cell_type": "code",
   "execution_count": 2,
   "id": "e2bfad58",
   "metadata": {},
   "outputs": [],
   "source": [
    "command = '''lftp -c \"open ftp://ftp.ebi.ac.uk/empiar/world_availability/10828/data/delta-LIT_raw_images/; lcd /media/kyohei/forAI/EMPIAR/10828/; cls -1 --sort name *.tiff | head -150 | xargs -d '\\n' -I {} mget -E {}\" '''"
   ]
  },
  {
   "cell_type": "code",
   "execution_count": 3,
   "id": "05ff77a7",
   "metadata": {},
   "outputs": [
    {
     "data": {
      "text/plain": [
       "'lftp -c \"open ftp://ftp.ebi.ac.uk/empiar/world_availability/10828/data/delta-LIT_raw_images/; lcd /media/kyohei/forAI/EMPIAR/10828/; cls -1 --sort name *.tiff | head -150 | xargs -d \\'\\n\\' -I {} mget -E {}\" '"
      ]
     },
     "execution_count": 3,
     "metadata": {},
     "output_type": "execute_result"
    }
   ],
   "source": [
    "command"
   ]
  },
  {
   "cell_type": "code",
   "execution_count": 4,
   "id": "2fe58f54",
   "metadata": {},
   "outputs": [
    {
     "name": "stdout",
     "output_type": "stream",
     "text": [
      "/bin/bash: /home/kyohei/miniconda3/envs/cryoem/lib/libtinfo.so.6: no version information available (required by /bin/bash)\r\n",
      "10828  10877  10997  11029  11084  11217  11244  11349\t11351  11387  CS-forai\r\n"
     ]
    }
   ],
   "source": [
    "!ls /media/kyohei/forAI/cryoEM-data/"
   ]
  },
  {
   "cell_type": "code",
   "execution_count": 5,
   "id": "baa87b8e",
   "metadata": {},
   "outputs": [
    {
     "name": "stdout",
     "output_type": "stream",
     "text": [
      "/bin/bash: /home/kyohei/miniconda3/envs/cryoem/lib/libtinfo.so.6: no version information available (required by /bin/bash)\r\n",
      "2022-03-08_17.58.07_GP162-2_254_002.tif\r\n",
      "2022-03-08_18.30.55_GP162-2_257_012.tif\r\n",
      "2022-03-08_18.51.16_GP162-2_259_019.tif\r\n",
      "2022-03-08_19.12.25_GP162-2_261_022.tif\r\n",
      "2022-03-08_19.29.13_GP162-2_263_009.tif\r\n",
      "2022-03-08_19.45.34_GP162-2_265_004.tif\r\n",
      "2022-03-08_19.59.08_GP162-2_266_013.tif\r\n",
      "2022-03-08_20.40.00_GP162-2_269_005.tif\r\n",
      "2022-03-08_21.10.27_GP162-2_272_005.tif\r\n",
      "2022-03-08_21.56.18_GP162-2_276_019.tif\r\n",
      "Import\r\n"
     ]
    }
   ],
   "source": [
    "!ls /media/kyohei/forAI/cryoEM-data/11387/"
   ]
  },
  {
   "cell_type": "code",
   "execution_count": 6,
   "id": "286c3b2e",
   "metadata": {},
   "outputs": [
    {
     "data": {
      "text/plain": [
       "['10828',\n",
       " '10877',\n",
       " '10997',\n",
       " '11029',\n",
       " '11084',\n",
       " '11217',\n",
       " '11244',\n",
       " '11349',\n",
       " '11351',\n",
       " '11387']"
      ]
     },
     "execution_count": 6,
     "metadata": {},
     "output_type": "execute_result"
    }
   ],
   "source": [
    "ids = sorted(\"10828 10877 10997 11029 11084 11217 11244 11349 11351 11387\".split(\" \"))\n",
    "\n",
    "ids"
   ]
  },
  {
   "cell_type": "code",
   "execution_count": 7,
   "id": "bb8e0b48",
   "metadata": {},
   "outputs": [],
   "source": [
    "# id2path = {\n",
    "#     10828:\"ftp://ftp.ebi.ac.uk/empiar/world_availability/10828/data/delta-LIT_raw_images/\",\n",
    "#     10877:\"http://ftp.ebi.ac.uk/empiar/world_availability/10877/data/All_movies/\",\n",
    "#     10997:\"http://ftp.ebi.ac.uk/empiar/world_availability/10997/data/\",\n",
    "#     11029:\"http://ftp.ebi.ac.uk/empiar/world_availability/11029/data/\",\n",
    "#     11084:\"http://ftp.ebi.ac.uk/empiar/world_availability/11084/data/190704_kato2/movies/\",\n",
    "# #     11217:\"http://ftp.ebi.ac.uk/empiar/world_availability/11217/data/\",\n",
    "#     11244:\"http://ftp.ebi.ac.uk/empiar/world_availability/11244/data/data/\",\n",
    "#     11349:\"http://ftp.ebi.ac.uk/empiar/world_availability/11349/data/6688/\",\n",
    "#     11351:\"http://ftp.ebi.ac.uk/empiar/world_availability/11351/data/20210409_Nureki_ikko2_CDS_data/\"\n",
    "#     11387:\"http://ftp.ebi.ac.uk/empiar/world_availability/11387/data/Enp1TAP_Movies_1/\",\n",
    "# }\n"
   ]
  },
  {
   "cell_type": "code",
   "execution_count": 8,
   "id": "4d016371",
   "metadata": {},
   "outputs": [],
   "source": [
    "id2path = {\n",
    "    10828:\"ftp://ftp.ebi.ac.uk/empiar/world_availability/10828/data/delta-LIT_raw_images/\",\n",
    "    10877:\"ftp://ftp.ebi.ac.uk/empiar/world_availability/10877/data/All_movies/\",\n",
    "    10997:\"ftp://ftp.ebi.ac.uk/empiar/world_availability/10997/data/\",\n",
    "    11029:\"ftp://ftp.ebi.ac.uk/empiar/world_availability/11029/data/\",\n",
    "    11084:\"ftp://ftp.ebi.ac.uk/empiar/world_availability/11084/data/190704_kato2/movies/\",\n",
    "    11244:\"ftp://ftp.ebi.ac.uk/empiar/world_availability/11244/data/data/\",\n",
    "    11349:\"ftp://ftp.ebi.ac.uk/empiar/world_availability/11349/data/6688/\",\n",
    "    11351:\"ftp://ftp.ebi.ac.uk/empiar/world_availability/11351/data/20210409_Nureki_ikko2_CDS_data/\",\n",
    "    11387:\"ftp://ftp.ebi.ac.uk/empiar/world_availability/11387/data/Enp1TAP_Movies_1/\",\n",
    "}\n",
    "\n",
    "id2ftype = {\n",
    "    10828:\".tiff\",\n",
    "    10877:\".tiff\",\n",
    "    10997:\".tif\",\n",
    "    11029:\".tif\",\n",
    "    11084:\".tif\",\n",
    "    11244:\".tiff\",\n",
    "    11349:\".tiff\",\n",
    "    11351:\".tif\",\n",
    "    11387:\".tif\"\n",
    "}"
   ]
  },
  {
   "cell_type": "code",
   "execution_count": 9,
   "id": "9a13eae0",
   "metadata": {},
   "outputs": [],
   "source": [
    "have_gain = [\"FoilHole_11540412_Data_11537499_11537501_20210112_125726_gain.tiff\"]"
   ]
  },
  {
   "cell_type": "markdown",
   "id": "4eafb67f",
   "metadata": {},
   "source": [
    "# RUN"
   ]
  },
  {
   "cell_type": "code",
   "execution_count": 10,
   "id": "47dab3ae",
   "metadata": {},
   "outputs": [
    {
     "data": {
      "text/plain": [
       "'lftp -c \"open ftp://ftp.ebi.ac.uk/empiar/world_availability/10828/data/delta-LIT_raw_images/; lcd /media/kyohei/forAI/EMPIAR/10828/; cls -1 --sort name *.tiff | head -150 | xargs -d \\'\\n\\' -I {} mget -E {}\" '"
      ]
     },
     "execution_count": 10,
     "metadata": {},
     "output_type": "execute_result"
    }
   ],
   "source": [
    "command"
   ]
  },
  {
   "cell_type": "code",
   "execution_count": 11,
   "id": "9958842e",
   "metadata": {
    "scrolled": true
   },
   "outputs": [],
   "source": [
    "# for iii, ppp in id2path.items():\n",
    "#     command = command.replace(\"ftp://ftp.ebi.ac.uk/empiar/world_availability/10828/data/delta-LIT_raw_images/\",\n",
    "#                               ppp)\n",
    "#     command = command.replace(\"/10828/\", f\"/{iii}/\")\n",
    "    \n",
    "#     os.system(command + \" >> ftp_output.out\")"
   ]
  },
  {
   "cell_type": "code",
   "execution_count": 12,
   "id": "adf04ea0",
   "metadata": {},
   "outputs": [],
   "source": [
    "com1 = '''lftp -c \"open ftp://ftp.ebi.ac.uk/empiar/world_availability/10828/data/delta-LIT_raw_images/; cls -1 --sort name *.tiff\" | head -150 > filelist.txt '''\n"
   ]
  },
  {
   "cell_type": "code",
   "execution_count": 13,
   "id": "c774cd48",
   "metadata": {},
   "outputs": [],
   "source": [
    "# import subprocess\n",
    "# subprocess.run(\"your-command\", shell=True, stdout=subprocess.DEVNULL, stderr=subprocess.STDOUT)"
   ]
  },
  {
   "cell_type": "code",
   "execution_count": null,
   "id": "a516a8c4",
   "metadata": {
    "scrolled": true
   },
   "outputs": [
    {
     "name": "stdout",
     "output_type": "stream",
     "text": [
      "lftp -c \"open ftp://ftp.ebi.ac.uk/empiar/world_availability/10828/data/delta-LIT_raw_images/; cls -1 --sort name *.tiff\" | head -150 > filelist_10828.txt \n"
     ]
    },
    {
     "name": "stderr",
     "output_type": "stream",
     "text": [
      "lftp: /home/kyohei/miniconda3/envs/cryoem/lib/libtinfo.so.6: no version information available (required by lftp)\n",
      "cls: cls (filter): Broken pipe\n",
      "  0%|                                                                          | 0/150 [00:00<?, ?it/s]"
     ]
    },
    {
     "name": "stdout",
     "output_type": "stream",
     "text": [
      "wget -P /media/kyohei/forAI/EMPIAR/10828/ ftp://ftp.ebi.ac.uk/empiar/world_availability/10828/data/delta-LIT_raw_images/200721_dLIT_QF_krios_00009.tiff >> ftp_output.out\n"
     ]
    },
    {
     "name": "stderr",
     "output_type": "stream",
     "text": [
      "\r",
      "  7%|███▉                                                       | 10/150 [1:19:55<18:38:56, 479.55s/it]"
     ]
    },
    {
     "name": "stdout",
     "output_type": "stream",
     "text": [
      "wget -P /media/kyohei/forAI/EMPIAR/10828/ ftp://ftp.ebi.ac.uk/empiar/world_availability/10828/data/delta-LIT_raw_images/200721_dLIT_QF_krios_00010.tiff >> ftp_output.out\n"
     ]
    },
    {
     "name": "stderr",
     "output_type": "stream",
     "text": [
      "\r",
      "  7%|████▎                                                      | 11/150 [2:32:46<37:17:49, 965.97s/it]"
     ]
    },
    {
     "name": "stdout",
     "output_type": "stream",
     "text": [
      "wget -P /media/kyohei/forAI/EMPIAR/10828/ ftp://ftp.ebi.ac.uk/empiar/world_availability/10828/data/delta-LIT_raw_images/200721_dLIT_QF_krios_00011.tiff >> ftp_output.out\n"
     ]
    },
    {
     "name": "stderr",
     "output_type": "stream",
     "text": [
      "\r",
      "  8%|████▋                                                     | 12/150 [3:46:25<57:05:07, 1489.19s/it]"
     ]
    },
    {
     "name": "stdout",
     "output_type": "stream",
     "text": [
      "wget -P /media/kyohei/forAI/EMPIAR/10828/ ftp://ftp.ebi.ac.uk/empiar/world_availability/10828/data/delta-LIT_raw_images/200721_dLIT_QF_krios_00012.tiff >> ftp_output.out\n"
     ]
    },
    {
     "name": "stderr",
     "output_type": "stream",
     "text": [
      "\r",
      "  9%|█████                                                     | 13/150 [5:00:37<76:43:54, 2016.31s/it]"
     ]
    },
    {
     "name": "stdout",
     "output_type": "stream",
     "text": [
      "wget -P /media/kyohei/forAI/EMPIAR/10828/ ftp://ftp.ebi.ac.uk/empiar/world_availability/10828/data/delta-LIT_raw_images/200721_dLIT_QF_krios_00013.tiff >> ftp_output.out\n"
     ]
    },
    {
     "name": "stderr",
     "output_type": "stream",
     "text": [
      "\r",
      "  9%|█████▍                                                    | 14/150 [6:14:02<94:27:38, 2500.43s/it]"
     ]
    },
    {
     "name": "stdout",
     "output_type": "stream",
     "text": [
      "wget -P /media/kyohei/forAI/EMPIAR/10828/ ftp://ftp.ebi.ac.uk/empiar/world_availability/10828/data/delta-LIT_raw_images/200721_dLIT_QF_krios_00014.tiff >> ftp_output.out\n"
     ]
    },
    {
     "name": "stderr",
     "output_type": "stream",
     "text": [
      "\r",
      " 10%|█████▋                                                   | 15/150 [7:31:55<112:03:29, 2988.22s/it]"
     ]
    },
    {
     "name": "stdout",
     "output_type": "stream",
     "text": [
      "wget -P /media/kyohei/forAI/EMPIAR/10828/ ftp://ftp.ebi.ac.uk/empiar/world_availability/10828/data/delta-LIT_raw_images/200721_dLIT_QF_krios_00015.tiff >> ftp_output.out\n"
     ]
    },
    {
     "name": "stderr",
     "output_type": "stream",
     "text": [
      "\r",
      " 11%|██████                                                   | 16/150 [8:45:41<124:13:42, 3337.48s/it]"
     ]
    },
    {
     "name": "stdout",
     "output_type": "stream",
     "text": [
      "wget -P /media/kyohei/forAI/EMPIAR/10828/ ftp://ftp.ebi.ac.uk/empiar/world_availability/10828/data/delta-LIT_raw_images/200721_dLIT_QF_krios_00016.tiff >> ftp_output.out\n"
     ]
    },
    {
     "name": "stderr",
     "output_type": "stream",
     "text": [
      "\r",
      " 11%|██████▎                                                 | 17/150 [10:00:54<134:29:29, 3640.37s/it]"
     ]
    },
    {
     "name": "stdout",
     "output_type": "stream",
     "text": [
      "wget -P /media/kyohei/forAI/EMPIAR/10828/ ftp://ftp.ebi.ac.uk/empiar/world_availability/10828/data/delta-LIT_raw_images/200721_dLIT_QF_krios_00017.tiff >> ftp_output.out\n"
     ]
    },
    {
     "name": "stderr",
     "output_type": "stream",
     "text": [
      "\r",
      " 12%|██████▋                                                 | 18/150 [11:18:23<143:25:11, 3911.45s/it]"
     ]
    },
    {
     "name": "stdout",
     "output_type": "stream",
     "text": [
      "wget -P /media/kyohei/forAI/EMPIAR/10828/ ftp://ftp.ebi.ac.uk/empiar/world_availability/10828/data/delta-LIT_raw_images/200721_dLIT_QF_krios_00018.tiff >> ftp_output.out\n"
     ]
    },
    {
     "name": "stderr",
     "output_type": "stream",
     "text": [
      "\r",
      " 13%|███████                                                 | 19/150 [12:32:33<147:46:56, 4061.20s/it]"
     ]
    },
    {
     "name": "stdout",
     "output_type": "stream",
     "text": [
      "wget -P /media/kyohei/forAI/EMPIAR/10828/ ftp://ftp.ebi.ac.uk/empiar/world_availability/10828/data/delta-LIT_raw_images/200721_dLIT_QF_krios_00019.tiff >> ftp_output.out\n"
     ]
    },
    {
     "name": "stderr",
     "output_type": "stream",
     "text": [
      "\r",
      " 13%|███████▍                                                | 20/150 [13:48:17<151:36:00, 4198.16s/it]"
     ]
    },
    {
     "name": "stdout",
     "output_type": "stream",
     "text": [
      "wget -P /media/kyohei/forAI/EMPIAR/10828/ ftp://ftp.ebi.ac.uk/empiar/world_availability/10828/data/delta-LIT_raw_images/200721_dLIT_QF_krios_00020.tiff >> ftp_output.out\n"
     ]
    },
    {
     "name": "stderr",
     "output_type": "stream",
     "text": [
      "\r",
      " 14%|███████▊                                                | 21/150 [15:03:16<153:32:56, 4285.09s/it]"
     ]
    },
    {
     "name": "stdout",
     "output_type": "stream",
     "text": [
      "wget -P /media/kyohei/forAI/EMPIAR/10828/ ftp://ftp.ebi.ac.uk/empiar/world_availability/10828/data/delta-LIT_raw_images/200721_dLIT_QF_krios_00021.tiff >> ftp_output.out\n"
     ]
    },
    {
     "name": "stderr",
     "output_type": "stream",
     "text": [
      "\r",
      " 15%|████████▏                                               | 22/150 [16:18:34<154:46:05, 4352.85s/it]"
     ]
    },
    {
     "name": "stdout",
     "output_type": "stream",
     "text": [
      "wget -P /media/kyohei/forAI/EMPIAR/10828/ ftp://ftp.ebi.ac.uk/empiar/world_availability/10828/data/delta-LIT_raw_images/200721_dLIT_QF_krios_00022.tiff >> ftp_output.out\n"
     ]
    },
    {
     "name": "stderr",
     "output_type": "stream",
     "text": [
      "\r",
      " 15%|████████▌                                               | 23/150 [17:33:36<155:06:48, 4396.92s/it]"
     ]
    },
    {
     "name": "stdout",
     "output_type": "stream",
     "text": [
      "wget -P /media/kyohei/forAI/EMPIAR/10828/ ftp://ftp.ebi.ac.uk/empiar/world_availability/10828/data/delta-LIT_raw_images/200721_dLIT_QF_krios_00023.tiff >> ftp_output.out\n"
     ]
    },
    {
     "name": "stderr",
     "output_type": "stream",
     "text": [
      "\r",
      " 16%|████████▉                                               | 24/150 [18:47:36<154:20:24, 4409.72s/it]"
     ]
    },
    {
     "name": "stdout",
     "output_type": "stream",
     "text": [
      "wget -P /media/kyohei/forAI/EMPIAR/10828/ ftp://ftp.ebi.ac.uk/empiar/world_availability/10828/data/delta-LIT_raw_images/200721_dLIT_QF_krios_00024.tiff >> ftp_output.out\n"
     ]
    },
    {
     "name": "stderr",
     "output_type": "stream",
     "text": [
      "\r",
      " 17%|█████████▎                                              | 25/150 [20:05:18<155:42:41, 4484.49s/it]"
     ]
    },
    {
     "name": "stdout",
     "output_type": "stream",
     "text": [
      "wget -P /media/kyohei/forAI/EMPIAR/10828/ ftp://ftp.ebi.ac.uk/empiar/world_availability/10828/data/delta-LIT_raw_images/200721_dLIT_QF_krios_00025.tiff >> ftp_output.out\n"
     ]
    },
    {
     "name": "stderr",
     "output_type": "stream",
     "text": [
      "\r",
      " 17%|█████████▋                                              | 26/150 [21:21:31<155:22:32, 4510.90s/it]"
     ]
    },
    {
     "name": "stdout",
     "output_type": "stream",
     "text": [
      "wget -P /media/kyohei/forAI/EMPIAR/10828/ ftp://ftp.ebi.ac.uk/empiar/world_availability/10828/data/delta-LIT_raw_images/200721_dLIT_QF_krios_00026.tiff >> ftp_output.out\n"
     ]
    },
    {
     "name": "stderr",
     "output_type": "stream",
     "text": [
      "\r",
      " 18%|██████████                                              | 27/150 [22:37:58<154:53:48, 4533.56s/it]"
     ]
    },
    {
     "name": "stdout",
     "output_type": "stream",
     "text": [
      "wget -P /media/kyohei/forAI/EMPIAR/10828/ ftp://ftp.ebi.ac.uk/empiar/world_availability/10828/data/delta-LIT_raw_images/200721_dLIT_QF_krios_00027.tiff >> ftp_output.out\n"
     ]
    },
    {
     "name": "stderr",
     "output_type": "stream",
     "text": [
      "\r",
      " 19%|██████████▍                                             | 28/150 [23:55:35<154:53:31, 4570.59s/it]"
     ]
    },
    {
     "name": "stdout",
     "output_type": "stream",
     "text": [
      "wget -P /media/kyohei/forAI/EMPIAR/10828/ ftp://ftp.ebi.ac.uk/empiar/world_availability/10828/data/delta-LIT_raw_images/200721_dLIT_QF_krios_00028.tiff >> ftp_output.out\n"
     ]
    },
    {
     "name": "stderr",
     "output_type": "stream",
     "text": [
      "\r",
      " 19%|██████████▊                                             | 29/150 [25:11:39<153:33:30, 4568.68s/it]"
     ]
    },
    {
     "name": "stdout",
     "output_type": "stream",
     "text": [
      "wget -P /media/kyohei/forAI/EMPIAR/10828/ ftp://ftp.ebi.ac.uk/empiar/world_availability/10828/data/delta-LIT_raw_images/200721_dLIT_QF_krios_00029.tiff >> ftp_output.out\n"
     ]
    },
    {
     "name": "stderr",
     "output_type": "stream",
     "text": [
      "\r",
      " 20%|███████████▏                                            | 30/150 [26:26:12<151:19:47, 4539.89s/it]"
     ]
    },
    {
     "name": "stdout",
     "output_type": "stream",
     "text": [
      "wget -P /media/kyohei/forAI/EMPIAR/10828/ ftp://ftp.ebi.ac.uk/empiar/world_availability/10828/data/delta-LIT_raw_images/200721_dLIT_QF_krios_00030.tiff >> ftp_output.out\n"
     ]
    },
    {
     "name": "stderr",
     "output_type": "stream",
     "text": [
      "\r",
      " 21%|███████████▌                                            | 31/150 [27:40:09<149:03:20, 4509.25s/it]"
     ]
    },
    {
     "name": "stdout",
     "output_type": "stream",
     "text": [
      "wget -P /media/kyohei/forAI/EMPIAR/10828/ ftp://ftp.ebi.ac.uk/empiar/world_availability/10828/data/delta-LIT_raw_images/200721_dLIT_QF_krios_00032.tiff >> ftp_output.out\n"
     ]
    }
   ],
   "source": [
    "from tqdm import tqdm\n",
    "\n",
    "for iii, ppp in id2path.items():\n",
    "    \n",
    "    filetype = id2ftype[iii]\n",
    "    com1 = com1.replace(\n",
    "        \"ftp://ftp.ebi.ac.uk/empiar/world_availability/10877/data/All_movies/\", ppp)\\\n",
    "        .replace(\".tiff\", filetype)\n",
    "    com1 = com1.replace(\"filelist.txt\", f\"filelist_{iii}.txt\")\n",
    "    \n",
    "    print(com1)\n",
    "    os.system(com1)\n",
    "    \n",
    "    df = pd.read_csv(f\"filelist_{iii}.txt\", header=None)\n",
    "    filelist = df[0].values\n",
    "    \n",
    "    for fff in tqdm(filelist):\n",
    "        \n",
    "        if os.path.exists(f\"/media/kyohei/forAI/EMPIAR/{iii}/{fff}\"):\n",
    "            continue\n",
    "        \n",
    "        download_command = f\"wget -P /media/kyohei/forAI/EMPIAR/{iii}/ {ppp}{fff} >> ftp_output.out\"\n",
    "        print(download_command)\n",
    "        \n",
    "        os.system(f'echo \">>>\" >> ftp_output.out')\n",
    "        os.system(f'echo {ppp}{fff} >> ftp_output.out')\n",
    "        #os.system(download_command)\n",
    "        \n",
    "        subprocess.run(download_command, shell=True, stdout=subprocess.DEVNULL, stderr=subprocess.STDOUT)\n",
    "        "
   ]
  },
  {
   "cell_type": "code",
   "execution_count": null,
   "id": "68bb05a6",
   "metadata": {},
   "outputs": [],
   "source": [
    "a"
   ]
  },
  {
   "cell_type": "code",
   "execution_count": null,
   "id": "ba82c1fb",
   "metadata": {},
   "outputs": [],
   "source": [
    "f"
   ]
  },
  {
   "cell_type": "code",
   "execution_count": null,
   "id": "0d3d679d",
   "metadata": {},
   "outputs": [],
   "source": []
  }
 ],
 "metadata": {
  "kernelspec": {
   "display_name": "cryoem2",
   "language": "python",
   "name": "cryoem2"
  },
  "language_info": {
   "codemirror_mode": {
    "name": "ipython",
    "version": 3
   },
   "file_extension": ".py",
   "mimetype": "text/x-python",
   "name": "python",
   "nbconvert_exporter": "python",
   "pygments_lexer": "ipython3",
   "version": "3.10.11"
  }
 },
 "nbformat": 4,
 "nbformat_minor": 5
}
