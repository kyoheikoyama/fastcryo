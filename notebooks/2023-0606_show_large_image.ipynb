{
 "cells": [
  {
   "cell_type": "code",
   "execution_count": null,
   "id": "5ff32d9a",
   "metadata": {},
   "outputs": [],
   "source": [
    "import sys, os\n",
    "sys.path.append(\"../src/models/\")\n",
    "sys.path.append(\"../src/\")\n",
    "\n",
    "from argparse import ArgumentParser\n",
    "import yaml, os\n",
    "from datasets.mrc import MRCImageDataModule, MRCImageDataset, remove_padding, get_minmax_xy_of_non_padding\n",
    "from models.srgan import SRGAN, DATATYPE\n",
    "import pytorch_lightning as pl\n",
    "import torch\n",
    "from pytorch_lightning.callbacks.early_stopping import EarlyStopping\n",
    "from pytorch_lightning.callbacks import ModelCheckpoint\n",
    "from torch.utils.data import Dataset, DataLoader\n",
    "import numpy as np\n",
    "from tqdm import tqdm\n",
    "\n",
    "import mrcfile\n",
    "import matplotlib.pyplot as plt\n",
    "    "
   ]
  },
  {
   "cell_type": "code",
   "execution_count": null,
   "id": "8ffb7113",
   "metadata": {},
   "outputs": [],
   "source": [
    "train_or_test = \"train\""
   ]
  },
  {
   "cell_type": "code",
   "execution_count": null,
   "id": "8c7cf98b",
   "metadata": {},
   "outputs": [],
   "source": [
    "dm = MRCImageDataModule(\n",
    "    \"/media/kyohei/forAI/split_images/\",\n",
    "    datatype=DATATYPE,\n",
    "    batch_size=100,\n",
    "    datasize=\"all\",\n",
    "    split_way=\"images\",\n",
    ")\n",
    "dm.setup()\n",
    "\n",
    "if train_or_test==\"test\":\n",
    "    dataset_indices = dm.mrc_test_dataset.indices\n",
    "else:\n",
    "    dataset_indices = list(range(len(dm.mrc_dataset)))\n",
    "    dataset_indices = [i for i in dataset_indices if i not in dm.mrc_test_dataset.indices]\n",
    "\n",
    "xx_test = [dm.mrc_dataset.short_list[ind] for ind in dataset_indices]\n",
    "ytrue_test = [dm.mrc_dataset.original_list[ind] for ind in dataset_indices]\n",
    "\n",
    "ypred_test = [f.replace(\"/split_images/shortTIFF/\", \"/ypred/\").replace(\".mrc\", \".npy\") \n",
    "                    for f in xx_test]"
   ]
  },
  {
   "cell_type": "code",
   "execution_count": null,
   "id": "ed142d09",
   "metadata": {},
   "outputs": [],
   "source": [
    "def show_each_tile(xx_path, ytrue_path, ypred_path, ):\n",
    "    from sklearn.preprocessing import MinMaxScaler\n",
    "    mmscaler = MinMaxScaler(feature_range=(0, 40), copy=True)\n",
    "    \n",
    "    image3 = np.load(ypred_path)\n",
    "    \n",
    "    with mrcfile.open(ytrue_path) as mrc:\n",
    "        image2 = mrc.data\n",
    "    with mrcfile.open(xx_path) as mrc:\n",
    "        image1 = mrc.data\n",
    "\n",
    "    #     image1 = mmscaler.fit_transform(image1.astype('float'))\n",
    "    #     image2 = mmscaler.fit_transform(image2.astype('float'))\n",
    "    #     image3 = mmscaler.fit_transform(image3.astype('float'))\n",
    "\n",
    "    fig, axs = plt.subplots(nrows=1, ncols=3, figsize=(20,60))\n",
    "    axs[0].imshow(image1, cmap='gray', )\n",
    "    axs[1].imshow(image2, cmap='gray', )\n",
    "    axs[2].imshow(image3, cmap='gray', )\n",
    "        \n",
    "    plt.show()\n"
   ]
  },
  {
   "cell_type": "code",
   "execution_count": null,
   "id": "5e851132",
   "metadata": {},
   "outputs": [],
   "source": [
    "index = 3\n",
    "show_each_tile(xx_test[index],ytrue_test[index], ypred_test[index], )"
   ]
  },
  {
   "cell_type": "code",
   "execution_count": null,
   "id": "9c325177",
   "metadata": {},
   "outputs": [],
   "source": [
    "\n",
    "def recover_image(ypred):\n",
    "    # Set the number of rows and columns in the grid\n",
    "    num_rows = 10\n",
    "    num_cols = 10\n",
    "\n",
    "    # Initialize the empty grid\n",
    "    grid = np.empty((num_rows, num_cols), dtype=object)\n",
    "    \n",
    "    directory = os.path.dirname(ypred)\n",
    "    filename = ypred.replace(directory, \"\")\n",
    "    ext = \".\" + filename.split(\".\")[-1]\n",
    "    # Iterate over the subset images\n",
    "    for i in range(100):\n",
    "        fff = filename.split(\"__split\")[0] + f\"__split{i}\" + ext\n",
    "        # Load the subset image\n",
    "        if ext==\".npy\":\n",
    "            subset_image = np.load(directory + fff)\n",
    "        elif ext==\".mrc\":\n",
    "            with mrcfile.open(directory + fff) as mrc:\n",
    "                subset_image = mrc.data\n",
    "            \n",
    "        # Determine the row and column indices in the grid\n",
    "        row = i // num_cols\n",
    "        col = i % num_cols\n",
    "\n",
    "        # Assign the subset image to the corresponding grid position\n",
    "        grid[row, col] = subset_image\n",
    "    \n",
    "    return concat_grid(grid)\n",
    "\n",
    "def concat_grid(grid):\n",
    "    row_list = [] \n",
    "    for i in range(grid.shape[0]):\n",
    "        image = np.concatenate(grid[i, :], axis=1)\n",
    "        row_list.append(image)\n",
    "    return np.concatenate(row_list, axis=0)\n",
    "    \n",
    "def show_large_image(ypred_path):\n",
    "    return recover_image(ypred_path)\n",
    "    "
   ]
  },
  {
   "cell_type": "markdown",
   "id": "e3bbc4b6",
   "metadata": {},
   "source": [
    "# Large images"
   ]
  },
  {
   "cell_type": "code",
   "execution_count": null,
   "id": "44659934",
   "metadata": {},
   "outputs": [],
   "source": [
    "# index = 520\n",
    "xx_large = recover_image(xx_test[index])\n",
    "ypred_large = recover_image(ypred_test[index])\n",
    "ytrue_large = recover_image(ytrue_test[index])"
   ]
  },
  {
   "cell_type": "code",
   "execution_count": null,
   "id": "b4641c9d",
   "metadata": {},
   "outputs": [],
   "source": [
    "plt.imshow(xx_large, cmap=\"gray\")\n",
    "plt.title(\"low resolution\")"
   ]
  },
  {
   "cell_type": "code",
   "execution_count": null,
   "id": "be63772a",
   "metadata": {},
   "outputs": [],
   "source": [
    "plt.imshow(ypred_large, cmap='gray', )\n",
    "plt.title(\"ypred\")"
   ]
  },
  {
   "cell_type": "code",
   "execution_count": null,
   "id": "274f6453",
   "metadata": {},
   "outputs": [],
   "source": [
    "plt.imshow(ytrue_large, cmap='gray', )\n",
    "plt.title(\"high resolution\")"
   ]
  },
  {
   "cell_type": "code",
   "execution_count": null,
   "id": "3c128b96",
   "metadata": {},
   "outputs": [],
   "source": []
  },
  {
   "cell_type": "code",
   "execution_count": null,
   "id": "a0383a53",
   "metadata": {},
   "outputs": [],
   "source": []
  }
 ],
 "metadata": {
  "kernelspec": {
   "display_name": "cryoem",
   "language": "python",
   "name": "cryoem"
  },
  "language_info": {
   "codemirror_mode": {
    "name": "ipython",
    "version": 3
   },
   "file_extension": ".py",
   "mimetype": "text/x-python",
   "name": "python",
   "nbconvert_exporter": "python",
   "pygments_lexer": "ipython3",
   "version": "3.10.11"
  }
 },
 "nbformat": 4,
 "nbformat_minor": 5
}
