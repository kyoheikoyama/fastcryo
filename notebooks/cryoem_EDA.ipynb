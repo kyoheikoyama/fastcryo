{
 "cells": [
  {
   "cell_type": "markdown",
   "id": "77456ed8",
   "metadata": {},
   "source": [
    "\n",
    "# Data in EMPIAR-11119\n",
    "\n",
    "### Kernel = \"cryoem\"\n",
    "\n",
    "- EMPIAR\n",
    "\n",
    "https://www.ebi.ac.uk/empiar/EMPIAR-11119/\n",
    "\n",
    "- FTP\n",
    "\n",
    "https://ftp.ebi.ac.uk/empiar/world_availability/11119/ \n",
    "\n",
    "\n",
    "\n",
    "- /empiar/world_availability/11119\n",
    "    - 11119.xml\t2023-04-14 08:13 \t6.1K\t \n",
    "    - /data\n",
    "        - CountRef_gpcr_190808no17_99-1_0000_Aug16_15.53.48.mrc\t2023-04-14 08:43 \t90M\t \n",
    "        - data/\t2023-04-17 09:14 \t- \t \n",
    "            - metadatalist (`filenames_ftp_data.parquet`)"
   ]
  },
  {
   "cell_type": "code",
   "execution_count": 1,
   "id": "ca8ba1a1",
   "metadata": {},
   "outputs": [
    {
     "name": "stdout",
     "output_type": "stream",
     "text": [
      "CountRef_gpcr_190808no17_99-1_0000_Aug16_15.53.48.mrc\r\n",
      "cryoem_EDA.ipynb\r\n",
      "filenames_ftp_data.parquet\r\n",
      "gpcr_190808no17_0000_Aug17_20.59.59.tif\r\n",
      "gpcr_190808no17_0000_Aug17_20.59.59.tif.1\r\n",
      "image_list.txt\r\n"
     ]
    }
   ],
   "source": [
    "!ls "
   ]
  },
  {
   "cell_type": "code",
   "execution_count": 2,
   "id": "4e91d665",
   "metadata": {},
   "outputs": [],
   "source": [
    "# !wget https://ftp.ebi.ac.uk/empiar/world_availability/11119/data/data/gpcr_190808no17_0000_Aug17_20.59.59.tif"
   ]
  },
  {
   "cell_type": "code",
   "execution_count": 3,
   "id": "8c1c26f9",
   "metadata": {},
   "outputs": [],
   "source": [
    "import pandas as pd"
   ]
  },
  {
   "cell_type": "code",
   "execution_count": 4,
   "id": "410cf808",
   "metadata": {},
   "outputs": [],
   "source": [
    "df = pd.read_parquet(\"filenames_ftp_data.parquet\")"
   ]
  },
  {
   "cell_type": "code",
   "execution_count": 5,
   "id": "1bbdf662",
   "metadata": {},
   "outputs": [],
   "source": [
    "df[\"datatype\"] = df[\"1\"].apply(lambda x: x.split(\".\")[-1])\n"
   ]
  },
  {
   "cell_type": "code",
   "execution_count": 6,
   "id": "58e91eed",
   "metadata": {
    "scrolled": true
   },
   "outputs": [
    {
     "data": {
      "text/plain": [
       "0             gpcr_190808no17_0000_Aug17_20.59.59.tif\n",
       "1        gpcr_190808no17_99-1_0000_Aug16_15.53.48.tif\n",
       "2    gpcr_190808no17_99-1_0000_Aug16_15.53.48.tif.jpg\n",
       "3        gpcr_190808no17_99-1_0001_Aug16_15.53.56.tif\n",
       "4    gpcr_190808no17_99-1_0001_Aug16_15.53.56.tif.jpg\n",
       "Name: 1, dtype: object"
      ]
     },
     "execution_count": 6,
     "metadata": {},
     "output_type": "execute_result"
    }
   ],
   "source": [
    "df.head()[\"1\"]"
   ]
  },
  {
   "cell_type": "code",
   "execution_count": 7,
   "id": "879c3dad",
   "metadata": {},
   "outputs": [
    {
     "data": {
      "text/plain": [
       "datatype\n",
       "tif    11242\n",
       "jpg    11241\n",
       "Name: count, dtype: int64"
      ]
     },
     "execution_count": 7,
     "metadata": {},
     "output_type": "execute_result"
    }
   ],
   "source": [
    "df[\"datatype\"].value_counts()"
   ]
  },
  {
   "cell_type": "markdown",
   "id": "587904ff",
   "metadata": {},
   "source": [
    "# MRC file"
   ]
  },
  {
   "cell_type": "code",
   "execution_count": 10,
   "id": "dc738b61",
   "metadata": {},
   "outputs": [
    {
     "name": "stdout",
     "output_type": "stream",
     "text": [
      "Data shape: (4092, 5760)\n",
      "header: (5760, 4092, 1, 2, 0, 0, 0, 5760, 4092, 1, (0., 0., 0.), (90., 90., 90.), 1, 2, 3, 0.50143445, 2.0057378, 1.000654, 0, 0, b'\\x00\\x00\\x00\\x00\\x00\\x00\\x00\\x00', b'', 0, b'\\x00\\x00\\x00\\x00\\x00\\x00\\x00\\x00\\x00\\x00\\x00\\x00\\x00\\x00\\x00\\x00\\x00\\x00\\x00\\x00\\x00\\x00\\x00\\x00\\x00\\x00\\x00\\x00\\x00\\x00\\x00\\x00\\x00\\x00\\x00\\x00\\x00\\x00\\x00\\x00\\x00\\x00\\x00\\x00\\x00\\x00\\x00\\x00\\x00\\x00\\x00\\x00\\x00\\x00\\x00\\x00\\x00\\x00\\x00\\x00\\x00\\x00\\x00\\x00\\x00\\x00\\x00\\x00\\x00\\x00\\x00\\x00\\x00\\x00\\x00\\x00\\x00\\x00\\x00\\x00\\x00\\x00\\x00\\x00', (0., 0., 0.), b'MAP ', [68, 65,  0,  0], 0.0281892, 1, [b'Relion    22-Aug-19  13:34:08', b'', b'', b'', b'', b'', b'', b'', b'', b''])\n",
      "Voxel size: (0., 0., 0.)\n"
     ]
    }
   ],
   "source": [
    "import mrcfile\n",
    "\n",
    "# Replace 'your_file.mrc' with the path to your MRC file\n",
    "with mrcfile.open('CountRef_gpcr_190808no17_99-1_0000_Aug16_15.53.48.mrc', mode='r') as mrc:\n",
    "    data = mrc.data\n",
    "    header = mrc.header\n",
    "    voxel_size = mrc.voxel_size\n",
    "\n",
    "print(\"Data shape:\", data.shape)\n",
    "print(\"header:\", header)\n",
    "print(\"Voxel size:\", voxel_size)"
   ]
  },
  {
   "cell_type": "code",
   "execution_count": 11,
   "id": "ee16cbab",
   "metadata": {},
   "outputs": [
    {
     "data": {
      "text/plain": [
       "array([[1.1461359 , 0.8022951 , 0.8022951 , ..., 0.8022951 , 0.8022951 ,\n",
       "        1.1461359 ],\n",
       "       [0.84892637, 0.9365483 , 0.996243  , ..., 1.0921742 , 0.8968975 ,\n",
       "        0.9091446 ],\n",
       "       [0.829021  , 0.8865064 , 0.9920019 , ..., 1.0190153 , 0.8472427 ,\n",
       "        0.87951034],\n",
       "       ...,\n",
       "       [0.8176501 , 0.87545526, 1.0182058 , ..., 0.9726174 , 0.8368701 ,\n",
       "        0.85615665],\n",
       "       [0.83974874, 0.9415365 , 1.0093849 , ..., 1.0375767 , 0.8704016 ,\n",
       "        0.8825385 ],\n",
       "       [2.0057378 , 2.0057378 , 2.0057378 , ..., 2.0057378 , 2.0057378 ,\n",
       "        2.0057378 ]], dtype=float32)"
      ]
     },
     "execution_count": 11,
     "metadata": {},
     "output_type": "execute_result"
    }
   ],
   "source": [
    "data"
   ]
  },
  {
   "cell_type": "code",
   "execution_count": null,
   "id": "01c73f96",
   "metadata": {},
   "outputs": [],
   "source": []
  }
 ],
 "metadata": {
  "kernelspec": {
   "display_name": "cryoem",
   "language": "python",
   "name": "cryoem"
  },
  "language_info": {
   "codemirror_mode": {
    "name": "ipython",
    "version": 3
   },
   "file_extension": ".py",
   "mimetype": "text/x-python",
   "name": "python",
   "nbconvert_exporter": "python",
   "pygments_lexer": "ipython3",
   "version": "3.10.11"
  }
 },
 "nbformat": 4,
 "nbformat_minor": 5
}
