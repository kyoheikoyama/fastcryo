{
 "cells": [
  {
   "cell_type": "code",
   "execution_count": 1,
   "id": "c2d12d42",
   "metadata": {},
   "outputs": [],
   "source": [
    "import os, gc\n",
    "from tqdm import tqdm\n",
    "\n",
    "from PIL import Image\n",
    "\n",
    "def save_first_n_images_as_tiff(input_tiff, output_tiff, n=20):\n",
    "    images = []\n",
    "    \n",
    "    with Image.open(input_tiff) as tiff_img:\n",
    "        for i in range(n):\n",
    "            try:\n",
    "                tiff_img.seek(i)\n",
    "                extracted_image = tiff_img.copy()\n",
    "                images.append(extracted_image)\n",
    "                print(f\"Extracted image {i+1}\")\n",
    "            except EOFError:\n",
    "                # Reached the end of the TIFF file\n",
    "                break\n",
    "\n",
    "    if images:\n",
    "        images[0].save(output_tiff, save_all=True, append_images=images[1:], compression=\"tiff_deflate\")\n",
    "        print(f\"Saved first {n} images as: {output_tiff}\")\n",
    "    else:\n",
    "        print(\"No images found in the input TIFF file.\")\n",
    "\n",
    "\n",
    "# input_tiff_file = 'path/to/your/input_tiff_file.tif'\n",
    "# output_image_file = 'path/to/your/output_image_file.tif'\n",
    "# sum_first_n_images(input_tiff_file, output_image_file)\n",
    "\n",
    "        \n",
    "def count_frames_in_tiff(tiffpath):\n",
    "    with Image.open(tiffpath) as tiff_img:\n",
    "        nframes = tiff_img.n_frames\n",
    "    return nframes\n",
    "\n",
    "flatten = lambda xxlis: [x for xx in xxlis for x in xx]"
   ]
  },
  {
   "cell_type": "code",
   "execution_count": 2,
   "id": "cd386a91",
   "metadata": {},
   "outputs": [],
   "source": [
    "datadir = \"/media/kyohei/forAI/cryoEM-data/\""
   ]
  },
  {
   "cell_type": "code",
   "execution_count": 3,
   "id": "7aae0dc0",
   "metadata": {},
   "outputs": [
    {
     "name": "stdout",
     "output_type": "stream",
     "text": [
      "['/media/kyohei/forAI/cryoEM-data/11349', '/media/kyohei/forAI/cryoEM-data/11217', '/media/kyohei/forAI/cryoEM-data/11244', '/media/kyohei/forAI/cryoEM-data/10997', '/media/kyohei/forAI/cryoEM-data/11084', '/media/kyohei/forAI/cryoEM-data/10828', '/media/kyohei/forAI/cryoEM-data/11387', '/media/kyohei/forAI/cryoEM-data/11029', '/media/kyohei/forAI/cryoEM-data/11351', '/media/kyohei/forAI/cryoEM-data/10877']\n"
     ]
    }
   ],
   "source": [
    "cryoEM_datanumber_list = [os.path.join(datadir, f) \n",
    "                    for f in os.listdir(datadir) if f.isnumeric() ]\n",
    "print(cryoEM_datanumber_list)\n",
    "tiffpath_list = [\n",
    "    [os.path.join(c, p) for p in os.listdir(c) if \".tif\" in p] \n",
    "    for c in cryoEM_datanumber_list\n",
    "]\n",
    "# print(tiffpath_list)"
   ]
  },
  {
   "cell_type": "code",
   "execution_count": 4,
   "id": "1a79c364",
   "metadata": {},
   "outputs": [],
   "source": [
    "tiffpath_list = flatten(tiffpath_list)"
   ]
  },
  {
   "cell_type": "code",
   "execution_count": 5,
   "id": "d923e50c",
   "metadata": {
    "scrolled": true
   },
   "outputs": [
    {
     "name": "stderr",
     "output_type": "stream",
     "text": [
      "  0%|                                                                                                                                                                               | 0/95 [00:00<?, ?it/s]/home/kyohei/miniconda3/envs/cryoem/lib/python3.10/site-packages/PIL/Image.py:3167: DecompressionBombWarning: Image size (94279680 pixels) exceeds limit of 89478485 pixels, could be decompression bomb DOS attack.\n",
      "  warnings.warn(\n",
      "100%|█████████████████████████████████████████████████████████████████████████████████████████████████████████████████████████████████████████████████████████████████████| 95/95 [00:00<00:00, 136.53it/s]\n"
     ]
    }
   ],
   "source": [
    "count_list = []\n",
    "for p in tqdm(tiffpath_list):\n",
    "    count_list.append(count_frames_in_tiff(p))"
   ]
  },
  {
   "cell_type": "markdown",
   "id": "47cf62ca",
   "metadata": {},
   "source": [
    "# Frames in data: minimum 40 frames, maximum 64 frames"
   ]
  },
  {
   "cell_type": "code",
   "execution_count": 6,
   "id": "40604dc0",
   "metadata": {},
   "outputs": [
    {
     "name": "stdout",
     "output_type": "stream",
     "text": [
      "nframes\n",
      "40    40\n",
      "64    14\n",
      "50    10\n",
      "60    10\n",
      "59    10\n",
      "63     8\n",
      "48     3\n",
      "Name: count, dtype: int64\n"
     ]
    }
   ],
   "source": [
    "import pandas as pd\n",
    "df = pd.DataFrame([count_list,tiffpath_list]).T\n",
    "df.columns = [\"nframes\", \"tiffpath\"]\n",
    "\n",
    "print(df.nframes.value_counts())\n",
    "\n",
    "df[\"data_number\"] = df[\"tiffpath\"].str.split(\"/\").apply(lambda x: x[5])\n",
    "\n",
    "df[\"out_path\"] = df[\"tiffpath\"].apply(lambda t: t.replace(\"/cryoEM-data/\",\"/sumTIFF/\"))\n",
    "\n",
    "df[\"filename\"] = df[\"tiffpath\"].str.split(\"/\").apply(lambda x: x[-1])"
   ]
  },
  {
   "cell_type": "code",
   "execution_count": 7,
   "id": "88e17746",
   "metadata": {
    "scrolled": true
   },
   "outputs": [
    {
     "data": {
      "text/plain": [
       "'/media/kyohei/forAI/cryoEM-data/11349/FoilHole_11540439_Data_11537508_11537510_20210112_134815_fractions.tiff'"
      ]
     },
     "execution_count": 7,
     "metadata": {},
     "output_type": "execute_result"
    }
   ],
   "source": [
    "df.tiffpath.values[0]"
   ]
  },
  {
   "cell_type": "markdown",
   "id": "63444249",
   "metadata": {},
   "source": [
    "# Shorten the tiff"
   ]
  },
  {
   "cell_type": "code",
   "execution_count": 13,
   "id": "3b7d3c78",
   "metadata": {
    "scrolled": true
   },
   "outputs": [],
   "source": [
    "# for t in df.tiffpath:\n",
    "#     out = t.replace(\"/cryoEM-data/\",\"/shortTIFF/\")\n",
    "#     outdir = \"/\".join(out.split(\"/\")[:-1])\n",
    "#     if not os.path.exists(outdir):\n",
    "#         os.system(f\"mkdir -p {outdir}\")\n",
    "#     if os.path.exists(out):\n",
    "#         continue\n",
    "        \n",
    "#     assert t!=out\n",
    "    \n",
    "#     save_first_n_images_as_tiff(t, out)\n",
    "    \n",
    "#     gc.collect()\n"
   ]
  },
  {
   "cell_type": "markdown",
   "id": "74a841a1",
   "metadata": {},
   "source": [
    "# Just summing up the tiff"
   ]
  },
  {
   "cell_type": "code",
   "execution_count": 12,
   "id": "d3a335ad",
   "metadata": {},
   "outputs": [],
   "source": [
    "df[\"sum_path\"] = df[\"out_path\"].str.replace(\"/shortTIFF/\", \"/sumTIFF/\")"
   ]
  },
  {
   "cell_type": "code",
   "execution_count": null,
   "id": "6bba93cc",
   "metadata": {},
   "outputs": [],
   "source": [
    "df.to_csv(\"data_in_HD_2023-0511.csv\", index=None)"
   ]
  },
  {
   "cell_type": "code",
   "execution_count": 20,
   "id": "c35029f1",
   "metadata": {},
   "outputs": [],
   "source": [
    "\n",
    "import numpy as np\n",
    "\n",
    "def sum_first_n_images(input_tiff, output_image, n=80):\n",
    "    from PIL import Image\n",
    "    summed_image = None\n",
    "\n",
    "    with Image.open(input_tiff) as tiff_img:\n",
    "        for i in range(n):\n",
    "            try:\n",
    "                tiff_img.seek(i)\n",
    "                current_frame = np.array(tiff_img)\n",
    "                if summed_image is None:\n",
    "                    summed_image = current_frame\n",
    "                else:\n",
    "                    summed_image += current_frame\n",
    "            except EOFError:\n",
    "                # Reached the end of the TIFF file\n",
    "                break\n",
    "\n",
    "    if summed_image is not None:\n",
    "        summed_image_pil = Image.fromarray(summed_image)\n",
    "        summed_image_pil.save(output_image)\n",
    "        print(f\"Saved summed image as: {output_image}\")\n",
    "    else:\n",
    "        print(\"No images found in the input TIFF file.\")\n"
   ]
  },
  {
   "cell_type": "code",
   "execution_count": null,
   "id": "9641c0fd",
   "metadata": {},
   "outputs": [],
   "source": [
    "!mkdir "
   ]
  },
  {
   "cell_type": "code",
   "execution_count": 27,
   "id": "b66b90cf",
   "metadata": {
    "scrolled": true
   },
   "outputs": [
    {
     "name": "stderr",
     "output_type": "stream",
     "text": [
      "/home/kyohei/miniconda3/envs/cryoem/lib/python3.10/site-packages/PIL/Image.py:3167: DecompressionBombWarning: Image size (94279680 pixels) exceeds limit of 89478485 pixels, could be decompression bomb DOS attack.\n",
      "  warnings.warn(\n"
     ]
    },
    {
     "name": "stdout",
     "output_type": "stream",
     "text": [
      "Saved summed image as: /media/kyohei/forAI/sumTIFF/11349/FoilHole_11540463_Data_11537508_11537510_20210112_134408_fractions.tiff\n",
      "Saved summed image as: /media/kyohei/forAI/sumTIFF/11349/FoilHole_11540425_Data_11537508_11537510_20210112_131211_fractions.tiff\n",
      "Saved summed image as: /media/kyohei/forAI/sumTIFF/11349/FoilHole_11540503_Data_11537502_11537504_20210112_142344_fractions.tiff\n",
      "Saved summed image as: /media/kyohei/forAI/sumTIFF/11349/FoilHole_11540485_Data_11537502_11537504_20210112_150608_fractions.tiff\n",
      "Saved summed image as: /media/kyohei/forAI/sumTIFF/11349/FoilHole_11540451_Data_11537505_11537507_20210112_132841_fractions.tiff\n",
      "Saved summed image as: /media/kyohei/forAI/sumTIFF/11349/FoilHole_11540473_Data_11537499_11537501_20210112_143426_fractions.tiff\n",
      "Saved summed image as: /media/kyohei/forAI/sumTIFF/11349/FoilHole_11540514_Data_11537511_11537513_20210112_145303_fractions.tiff\n",
      "Saved summed image as: /media/kyohei/forAI/sumTIFF/11349/FoilHole_11540431_Data_11537502_11537504_20210112_130830_fractions.tiff\n",
      "Saved summed image as: /media/kyohei/forAI/sumTIFF/11244/FoilHole_14948510_Data_14947778_14947780_20210515_195130_fractions.tiff\n",
      "Saved summed image as: /media/kyohei/forAI/sumTIFF/11244/FoilHole_14948504_Data_14947775_14947777_20210515_194958_fractions.tiff\n",
      "Saved summed image as: /media/kyohei/forAI/sumTIFF/11244/FoilHole_14948499_Data_14947778_14947780_20210515_200215_fractions.tiff\n",
      "Saved summed image as: /media/kyohei/forAI/sumTIFF/11244/FoilHole_14948491_Data_14947757_14947759_20210515_194940_fractions.tiff\n",
      "Saved summed image as: /media/kyohei/forAI/sumTIFF/11244/FoilHole_14948492_Data_14947778_14947780_20210515_194444_fractions.tiff\n",
      "Saved summed image as: /media/kyohei/forAI/sumTIFF/11244/FoilHole_14948495_Data_14947757_14947759_20210515_195658_fractions.tiff\n",
      "Saved summed image as: /media/kyohei/forAI/sumTIFF/11244/FoilHole_14948485_Data_14947775_14947777_20210515_194351_fractions.tiff\n",
      "Saved summed image as: /media/kyohei/forAI/sumTIFF/11244/FoilHole_14948522_Data_14947766_14947768_20210515_200651_fractions.tiff\n",
      "Saved summed image as: /media/kyohei/forAI/sumTIFF/11244/FoilHole_14948488_Data_14947766_14947768_20210515_194637_fractions.tiff\n",
      "Saved summed image as: /media/kyohei/forAI/sumTIFF/11244/FoilHole_14948517_Data_14947763_14947765_20210515_200341_fractions.tiff\n",
      "Saved summed image as: /media/kyohei/forAI/sumTIFF/10997/20sep25b_RyR_blackbox2_00001gr_00017sq_v04_00047hln_00002enn.frames.tif\n",
      "Saved summed image as: /media/kyohei/forAI/sumTIFF/10997/20sep25b_RyR_blackbox2_00008gr_00013sq_v03_00017hln_00003enn.frames.tif\n",
      "Saved summed image as: /media/kyohei/forAI/sumTIFF/10997/20sep25b_RyR_blackbox2_00001gr_00022sq_v03_00014hln_00004enn.frames.tif\n",
      "Saved summed image as: /media/kyohei/forAI/sumTIFF/10997/20sep25b_RyR_blackbox2_00001gr_00022sq_v03_00007hln_00005enn.frames.tif\n",
      "Saved summed image as: /media/kyohei/forAI/sumTIFF/10997/20sep25b_RyR_blackbox2_00001gr_00022sq_v04_00039hln_00004enn.frames.tif\n",
      "Saved summed image as: /media/kyohei/forAI/sumTIFF/10997/20sep25b_RyR_blackbox2_00001gr_00017sq_v03_00033hln_00008enn.frames.tif\n",
      "Saved summed image as: /media/kyohei/forAI/sumTIFF/10997/20sep25b_RyR_blackbox2_00001gr_00017sq_v04_00055hln_00008enn.frames.tif\n",
      "Saved summed image as: /media/kyohei/forAI/sumTIFF/10997/20sep25b_RyR_blackbox2_00001gr_00022sq_v04_00053hln_00004enn.frames.tif\n",
      "Saved summed image as: /media/kyohei/forAI/sumTIFF/10997/20sep25b_RyR_blackbox2_00001gr_00022sq_v03_00023hln_00005enn.frames.tif\n",
      "Saved summed image as: /media/kyohei/forAI/sumTIFF/10997/20sep25b_RyR_blackbox2_00001gr_00017sq_v04_00040hln_00007enn.frames.tif\n",
      "Saved summed image as: /media/kyohei/forAI/sumTIFF/11084/kato2_82-28_0004_Jul06_16.09.33.tif\n",
      "Saved summed image as: /media/kyohei/forAI/sumTIFF/11084/kato2_82-14_0004_Jul06_15.37.54.tif\n",
      "Saved summed image as: /media/kyohei/forAI/sumTIFF/11084/kato2_73-3_0002_Jul06_00.06.29.tif\n",
      "Saved summed image as: /media/kyohei/forAI/sumTIFF/11084/kato2_82-4_0006_Jul06_15.16.55.tif\n",
      "Saved summed image as: /media/kyohei/forAI/sumTIFF/11084/kato2_91-44_0002_Jul06_18.16.02.tif\n",
      "Saved summed image as: /media/kyohei/forAI/sumTIFF/11084/kato2_73-10_0003_Jul06_00.47.07.tif\n",
      "Saved summed image as: /media/kyohei/forAI/sumTIFF/11084/kato2_91-6_0008_Jul06_16.45.33.tif\n",
      "Saved summed image as: /media/kyohei/forAI/sumTIFF/11084/kato2_91-29_0002_Jul06_17.42.38.tif\n",
      "Saved summed image as: /media/kyohei/forAI/sumTIFF/11084/kato2_100-34_0000_Jul06_20.18.16.tif\n",
      "Saved summed image as: /media/kyohei/forAI/sumTIFF/11084/kato2_100-12_0007_Jul06_19.33.07.tif\n",
      "Saved summed image as: /media/kyohei/forAI/sumTIFF/11084/kato2_73-26_0000_Jul06_01.24.58.tif\n",
      "Saved summed image as: /media/kyohei/forAI/sumTIFF/10828/200721_dLIT_QF_krios_00709.tiff\n",
      "Saved summed image as: /media/kyohei/forAI/sumTIFF/10828/200721_dLIT_QF_krios_00031.tiff\n",
      "Saved summed image as: /media/kyohei/forAI/sumTIFF/10828/200721_dLIT_QF_krios_00877.tiff\n",
      "Saved summed image as: /media/kyohei/forAI/sumTIFF/10828/200721_dLIT_QF_krios_01092.tiff\n",
      "Saved summed image as: /media/kyohei/forAI/sumTIFF/10828/200721_dLIT_QF_krios_00497.tiff\n",
      "Saved summed image as: /media/kyohei/forAI/sumTIFF/10828/200721_dLIT_QF_krios_01464.tiff\n",
      "Saved summed image as: /media/kyohei/forAI/sumTIFF/10828/200721_dLIT_QF_krios_00370.tiff\n",
      "Saved summed image as: /media/kyohei/forAI/sumTIFF/10828/200721_dLIT_QF_krios_00242.tiff\n",
      "Saved summed image as: /media/kyohei/forAI/sumTIFF/10828/200721_dLIT_QF_krios_00096.tiff\n",
      "Saved summed image as: /media/kyohei/forAI/sumTIFF/10828/200721_dLIT_QF_krios_01279.tiff\n",
      "Saved summed image as: /media/kyohei/forAI/sumTIFF/11387/2022-03-08_21.10.27_GP162-2_272_005.tif\n",
      "Saved summed image as: /media/kyohei/forAI/sumTIFF/11387/2022-03-08_19.12.25_GP162-2_261_022.tif\n",
      "Saved summed image as: /media/kyohei/forAI/sumTIFF/11387/2022-03-08_18.30.55_GP162-2_257_012.tif\n",
      "Saved summed image as: /media/kyohei/forAI/sumTIFF/11387/2022-03-08_17.58.07_GP162-2_254_002.tif\n",
      "Saved summed image as: /media/kyohei/forAI/sumTIFF/11387/2022-03-08_20.40.00_GP162-2_269_005.tif\n",
      "Saved summed image as: /media/kyohei/forAI/sumTIFF/11387/2022-03-08_19.45.34_GP162-2_265_004.tif\n",
      "Saved summed image as: /media/kyohei/forAI/sumTIFF/11387/2022-03-08_19.59.08_GP162-2_266_013.tif\n",
      "Saved summed image as: /media/kyohei/forAI/sumTIFF/11387/2022-03-08_21.56.18_GP162-2_276_019.tif\n",
      "Saved summed image as: /media/kyohei/forAI/sumTIFF/11387/2022-03-08_18.51.16_GP162-2_259_019.tif\n",
      "Saved summed image as: /media/kyohei/forAI/sumTIFF/11387/2022-03-08_19.29.13_GP162-2_263_009.tif\n",
      "Saved summed image as: /media/kyohei/forAI/sumTIFF/11029/n20aug18d_b2g4_00004gr_00005sq_v02_00003hln_v01_00007enn.frames.tif\n",
      "Saved summed image as: /media/kyohei/forAI/sumTIFF/11029/n20aug18d_b2g4_00004gr_00003sq_v02_00003hln_v01_00007enn.frames.tif\n",
      "Saved summed image as: /media/kyohei/forAI/sumTIFF/11029/n20aug18d_b2g4_00021gr_00016sq_v02_00005hln_v01_00009enn.frames.tif\n",
      "Saved summed image as: /media/kyohei/forAI/sumTIFF/11029/n20aug18d_b2g4_00015gr_00036sq_v02_00002hln_v01_00005enn.frames.tif\n",
      "Saved summed image as: /media/kyohei/forAI/sumTIFF/11029/n20aug18d_b2g4_00023gr_00020sq_v02_00002hln_v01_00010enn.frames.tif\n",
      "Saved summed image as: /media/kyohei/forAI/sumTIFF/11029/n20aug18d_b2g4_00015gr_00028sq_v02_00002hln_v01_00008enn.frames.tif\n",
      "Saved summed image as: /media/kyohei/forAI/sumTIFF/11029/n20aug18d_b2g4_00019gr_00077sq_v02_00002hln_v01_00009enn.frames.tif\n",
      "Saved summed image as: /media/kyohei/forAI/sumTIFF/11029/n20aug18d_b2g4_00023gr_00052sq_v02_00003hln_v01_00007enn.frames.tif\n",
      "Saved summed image as: /media/kyohei/forAI/sumTIFF/11029/n20aug18d_b2g4_00005gr_00086sq_v02_00003hln_v01_00009enn.frames.tif\n",
      "Saved summed image as: /media/kyohei/forAI/sumTIFF/11029/n20aug18d_b2g4_00014gr_00068sq_v02_00004hln_v01_00004enn.frames.tif\n",
      "Saved summed image as: /media/kyohei/forAI/sumTIFF/11351/ikko2_12-A-002_0004_Apr09_19.54.55.tif\n",
      "Saved summed image as: /media/kyohei/forAI/sumTIFF/11351/ikko2_6-A-017_0007_Apr09_17.13.44.tif\n",
      "Saved summed image as: /media/kyohei/forAI/sumTIFF/11351/ikko2_10-A-005_0005_Apr09_18.48.08.tif\n",
      "Saved summed image as: /media/kyohei/forAI/sumTIFF/11351/ikko2_13-A-001_0006_Apr09_20.25.02.tif\n",
      "Saved summed image as: /media/kyohei/forAI/sumTIFF/11351/ikko2_11-A-011_0003_Apr09_19.48.18.tif\n"
     ]
    },
    {
     "name": "stdout",
     "output_type": "stream",
     "text": [
      "Saved summed image as: /media/kyohei/forAI/sumTIFF/11351/ikko2_7-A-007_0001_Apr09_18.14.55.tif\n",
      "Saved summed image as: /media/kyohei/forAI/sumTIFF/11351/ikko2_10-A-011_0002_Apr09_19.19.06.tif\n",
      "Saved summed image as: /media/kyohei/forAI/sumTIFF/11351/ikko2_6-A-033_0001_Apr09_17.53.09.tif\n",
      "Saved summed image as: /media/kyohei/forAI/sumTIFF/11351/ikko2_6-A-009_0006_Apr09_16.53.10.tif\n",
      "Saved summed image as: /media/kyohei/forAI/sumTIFF/11351/ikko2_6-A-021_0008_Apr09_17.23.48.tif\n",
      "Saved summed image as: /media/kyohei/forAI/sumTIFF/11351/ikko2_12-A-008_0002_Apr09_20.10.19.tif\n",
      "Saved summed image as: /media/kyohei/forAI/sumTIFF/11351/ikko2_7-A-010_0006_Apr09_18.23.33.tif\n",
      "Saved summed image as: /media/kyohei/forAI/sumTIFF/11351/ikko2_11-A-005_0005_Apr09_19.33.07.tif\n",
      "Saved summed image as: /media/kyohei/forAI/sumTIFF/11351/ikko2_6-A-004_0001_Apr09_16.39.06.tif\n",
      "Saved summed image as: /media/kyohei/forAI/sumTIFF/10877/FoilHole_18713375_Data_18711503_18711505_20201219_063535_fractions.tiff\n",
      "Saved summed image as: /media/kyohei/forAI/sumTIFF/10877/FoilHole_18713415_Data_18711474_18711476_20201219_063611_fractions.tiff\n",
      "Saved summed image as: /media/kyohei/forAI/sumTIFF/10877/FoilHole_18735594_Data_18711474_18711476_20201220_125748_fractions.tiff\n",
      "Saved summed image as: /media/kyohei/forAI/sumTIFF/10877/FoilHole_18726969_Data_18711503_18711505_20201220_143920_fractions.tiff\n",
      "Saved summed image as: /media/kyohei/forAI/sumTIFF/10877/FoilHole_18725586_Data_18711503_18711505_20201220_123207_fractions.tiff\n",
      "Saved summed image as: /media/kyohei/forAI/sumTIFF/10877/FoilHole_18713558_Data_18711474_18711476_20201219_065022_fractions.tiff\n",
      "Saved summed image as: /media/kyohei/forAI/sumTIFF/10877/FoilHole_18725488_Data_18711503_18711505_20201220_121217_fractions.tiff\n",
      "Saved summed image as: /media/kyohei/forAI/sumTIFF/10877/FoilHole_18713507_Data_18711503_18711505_20201219_064516_fractions.tiff\n",
      "Saved summed image as: /media/kyohei/forAI/sumTIFF/10877/FoilHole_18713649_Data_18711474_18711476_20201219_075724_fractions.tiff\n",
      "Saved summed image as: /media/kyohei/forAI/sumTIFF/10877/FoilHole_18713464_Data_18711503_18711505_20201219_064236_fractions.tiff\n"
     ]
    }
   ],
   "source": [
    "for ii, row in df.iterrows():\n",
    "    t = row.tiffpath\n",
    "    out = t.replace(\"/cryoEM-data/\",\"/sumTIFF/\")\n",
    "    outdir = \"/\".join(out.split(\"/\")[:-1])\n",
    "    \n",
    "    if not os.path.exists(outdir):\n",
    "        os.system(f\"mkdir -p {outdir}\")\n",
    "    if os.path.exists(out):\n",
    "        continue\n",
    "        \n",
    "    assert t!=out\n",
    "    sum_first_n_images(t, out, n=row.nframes)\n",
    "    \n",
    "#     break\n",
    "#     gc.collect()\n"
   ]
  },
  {
   "cell_type": "code",
   "execution_count": 17,
   "id": "a39c8f11",
   "metadata": {},
   "outputs": [
    {
     "data": {
      "text/plain": [
       "'/media/kyohei/forAI/sumTIFF/11349/FoilHole_11540439_Data_11537508_11537510_20210112_134815_fractions.tiff'"
      ]
     },
     "execution_count": 17,
     "metadata": {},
     "output_type": "execute_result"
    }
   ],
   "source": [
    "out"
   ]
  },
  {
   "cell_type": "code",
   "execution_count": 23,
   "id": "c9f88378",
   "metadata": {},
   "outputs": [
    {
     "name": "stdout",
     "output_type": "stream",
     "text": [
      "/bin/bash: /home/kyohei/miniconda3/envs/cryoem/lib/libtinfo.so.6: no version information available (required by /bin/bash)\r\n",
      "ls: cannot access '/media/kyohei/forAI/sumTIFF/11349': No such file or directory\r\n"
     ]
    }
   ],
   "source": [
    "!ls {outdir}"
   ]
  },
  {
   "cell_type": "code",
   "execution_count": null,
   "id": "d009ebb7",
   "metadata": {},
   "outputs": [],
   "source": []
  }
 ],
 "metadata": {
  "kernelspec": {
   "display_name": "cryoem",
   "language": "python",
   "name": "cryoem"
  },
  "language_info": {
   "codemirror_mode": {
    "name": "ipython",
    "version": 3
   },
   "file_extension": ".py",
   "mimetype": "text/x-python",
   "name": "python",
   "nbconvert_exporter": "python",
   "pygments_lexer": "ipython3",
   "version": "3.10.11"
  }
 },
 "nbformat": 4,
 "nbformat_minor": 5
}
