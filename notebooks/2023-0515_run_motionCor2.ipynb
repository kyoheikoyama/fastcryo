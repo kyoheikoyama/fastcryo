{
 "cells": [
  {
   "cell_type": "markdown",
   "id": "82031182",
   "metadata": {},
   "source": [
    "# Create motionCor2 images"
   ]
  },
  {
   "cell_type": "markdown",
   "id": "54b74353",
   "metadata": {},
   "source": [
    "### How to\n",
    "\n",
    "Run the command in the project root directory. \n",
    "So, `cd fastcryo`, and then `make motioncor2`.\n",
    "\n",
    "If you are interested in the make command, look inside the Makefile and `fastcryo/script/motionCor2.py`"
   ]
  },
  {
   "cell_type": "code",
   "execution_count": 5,
   "id": "7e313470",
   "metadata": {},
   "outputs": [
    {
     "name": "stdout",
     "output_type": "stream",
     "text": [
      "/media/kyohei/forAI/cryoEM-data/10828 ['/media/kyohei/forAI/cryoEM-data/10828/gain.mrc']\n",
      "/media/kyohei/forAI/cryoEM-data/10877 ['/media/kyohei/forAI/cryoEM-data/10877/binned_gain.mrc']\n"
     ]
    }
   ],
   "source": [
    "import os\n",
    "\n",
    "MOTION_COR2_PATH = \"/home/kyohei/Applications/MotionCor2_1.6.4_Cuda117_Mar312023\"\n",
    "SHORT_OR_ORIGINAL = \"cryoEM-data\"\n",
    "CRYOEM_DATADIR = f\"/media/kyohei/forAI/{SHORT_OR_ORIGINAL}\"\n",
    "MRC_OUTDIR = f\"/media/kyohei/forAI/mrc_by_MotionCor\"\n",
    "\n",
    "\n",
    "experiments = sorted(\n",
    "    [os.path.join(CRYOEM_DATADIR,f) for f in os.listdir(CRYOEM_DATADIR) if f.isnumeric()]\n",
    ")\n",
    "\n",
    "for ex in experiments:\n",
    "    tiff_list = sorted([os.path.join(ex,f) for f in os.listdir(ex) if \".tif\" in f])\n",
    "    gain_file = sorted([os.path.join(ex,f) for f in os.listdir(ex) if \"gain\" in f])\n",
    "    if len(gain_file)>0:\n",
    "        print(ex, gain_file)"
   ]
  },
  {
   "cell_type": "code",
   "execution_count": null,
   "id": "6b1a12e1",
   "metadata": {},
   "outputs": [],
   "source": []
  }
 ],
 "metadata": {
  "kernelspec": {
   "display_name": "cryoem",
   "language": "python",
   "name": "cryoem"
  },
  "language_info": {
   "codemirror_mode": {
    "name": "ipython",
    "version": 3
   },
   "file_extension": ".py",
   "mimetype": "text/x-python",
   "name": "python",
   "nbconvert_exporter": "python",
   "pygments_lexer": "ipython3",
   "version": "3.10.11"
  }
 },
 "nbformat": 4,
 "nbformat_minor": 5
}
